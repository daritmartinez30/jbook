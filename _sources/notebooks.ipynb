{
 "cells": [
  {
   "cell_type": "markdown",
   "metadata": {},
   "source": [
    "INTRODUCCIÓN\n",
    "\n",
    "De acuerdo con Darapaneni et al., 2022,uno de los principales problemas actuales de la mayoría de organizaciones a nivel global es la rotación de sus colaboradores. El autor refiere que una organización en promedio experimenta deserciones entre un 12 y 15%, generando incremento en los gastos para vincular nuevos colaboradores que satisfagan sus necesidades, con el agravante de la disminución de la producción mientras los nuevos colaboradores se adaptan al ritmo que las organizaciones requieren. Por su parte Rey Caldeyro (2021) refiere que en Estados Unidos en 2019 más de un 27% de los empleados renunciaron voluntariamente a sus puestos de trabajo y se estima que para 2023 esta cifra va a aumentar superando el 33% de la fuerza de trabajo. Esto implica un aumento del 8,3% en comparación con el 2018 y un crecimiento del 88% tomando como punto de referencia el año 2010. Es por ello que las organizaciones se han enfocado en la prevención de la deserción laboral, utilizando para ello modelos basados en regresión logística, redes neuronales, árboles de clasificación, bagging, random forest, gradient boosting, extreme gradient boosting, maquinas de soporte vectorial modelos ensamblados como herramientas que permitan predecir quién, cuándo y por qué un empleado pondrá fin a su carrera profesional (Rey Caldeyro 2021).\n",
    "\n",
    "En este orden de ideas, en el presente trabajo se presenta inicialmente un análisis exploratorio de datos de una base de datos de deserción de IBM. Seguidamente se entrena y se evalua modelos de aprendizaje automático; a saber, regresión logística, Random Forest, máquina de soporte vectorial (SVM), K-vecino más cercano (KNN), árbol de decisión y Gaussian Naive Bayes; con el objeto de detectar con precisión la deserción para ayudar a cualquier organización a mejorar las diferentes estrategias de retención de empleados cruciales."
   ]
  },
  {
   "cell_type": "markdown",
   "metadata": {},
   "source": [
    "PROCEDENCIA DE LOS DATOS\n",
    "La base de datos utiliza es propiedad de la empresa IBM. Consta de 1470 registros y 35 variables, incluida la variable de interés. El objetivo de la base de datos, es servir como instrumento para predecir la deserción de colaboradores a partir de características personales y profesionales. "
   ]
  },
  {
   "cell_type": "code",
   "execution_count": 67,
   "metadata": {},
   "outputs": [],
   "source": [
    "import pandas as pd\n",
    "import seaborn as sns\n",
    "import matplotlib.pyplot as plt\n",
    "import plotly.express as px\n",
    "import plotly.graph_objects as go\n",
    "import plotly.figure_factory as ff"
   ]
  },
  {
   "cell_type": "code",
   "execution_count": 68,
   "metadata": {},
   "outputs": [
    {
     "data": {
      "text/html": [
       "<div>\n",
       "<style scoped>\n",
       "    .dataframe tbody tr th:only-of-type {\n",
       "        vertical-align: middle;\n",
       "    }\n",
       "\n",
       "    .dataframe tbody tr th {\n",
       "        vertical-align: top;\n",
       "    }\n",
       "\n",
       "    .dataframe thead th {\n",
       "        text-align: right;\n",
       "    }\n",
       "</style>\n",
       "<table border=\"1\" class=\"dataframe\">\n",
       "  <thead>\n",
       "    <tr style=\"text-align: right;\">\n",
       "      <th></th>\n",
       "      <th>Age</th>\n",
       "      <th>Attrition</th>\n",
       "      <th>BusinessTravel</th>\n",
       "      <th>DailyRate</th>\n",
       "      <th>Department</th>\n",
       "      <th>DistanceFromHome</th>\n",
       "      <th>Education</th>\n",
       "      <th>EducationField</th>\n",
       "      <th>EmployeeCount</th>\n",
       "      <th>EmployeeNumber</th>\n",
       "      <th>...</th>\n",
       "      <th>RelationshipSatisfaction</th>\n",
       "      <th>StandardHours</th>\n",
       "      <th>StockOptionLevel</th>\n",
       "      <th>TotalWorkingYears</th>\n",
       "      <th>TrainingTimesLastYear</th>\n",
       "      <th>WorkLifeBalance</th>\n",
       "      <th>YearsAtCompany</th>\n",
       "      <th>YearsInCurrentRole</th>\n",
       "      <th>YearsSinceLastPromotion</th>\n",
       "      <th>YearsWithCurrManager</th>\n",
       "    </tr>\n",
       "  </thead>\n",
       "  <tbody>\n",
       "    <tr>\n",
       "      <th>1107</th>\n",
       "      <td>38</td>\n",
       "      <td>No</td>\n",
       "      <td>Travel_Frequently</td>\n",
       "      <td>888</td>\n",
       "      <td>Human Resources</td>\n",
       "      <td>10</td>\n",
       "      <td>4</td>\n",
       "      <td>Human Resources</td>\n",
       "      <td>1</td>\n",
       "      <td>1563</td>\n",
       "      <td>...</td>\n",
       "      <td>3</td>\n",
       "      <td>80</td>\n",
       "      <td>0</td>\n",
       "      <td>10</td>\n",
       "      <td>2</td>\n",
       "      <td>3</td>\n",
       "      <td>6</td>\n",
       "      <td>3</td>\n",
       "      <td>1</td>\n",
       "      <td>2</td>\n",
       "    </tr>\n",
       "    <tr>\n",
       "      <th>1232</th>\n",
       "      <td>35</td>\n",
       "      <td>No</td>\n",
       "      <td>Travel_Rarely</td>\n",
       "      <td>1370</td>\n",
       "      <td>Research &amp; Development</td>\n",
       "      <td>27</td>\n",
       "      <td>4</td>\n",
       "      <td>Life Sciences</td>\n",
       "      <td>1</td>\n",
       "      <td>1728</td>\n",
       "      <td>...</td>\n",
       "      <td>2</td>\n",
       "      <td>80</td>\n",
       "      <td>1</td>\n",
       "      <td>17</td>\n",
       "      <td>3</td>\n",
       "      <td>3</td>\n",
       "      <td>7</td>\n",
       "      <td>7</td>\n",
       "      <td>0</td>\n",
       "      <td>7</td>\n",
       "    </tr>\n",
       "    <tr>\n",
       "      <th>903</th>\n",
       "      <td>29</td>\n",
       "      <td>No</td>\n",
       "      <td>Travel_Rarely</td>\n",
       "      <td>1329</td>\n",
       "      <td>Research &amp; Development</td>\n",
       "      <td>7</td>\n",
       "      <td>3</td>\n",
       "      <td>Life Sciences</td>\n",
       "      <td>1</td>\n",
       "      <td>1260</td>\n",
       "      <td>...</td>\n",
       "      <td>2</td>\n",
       "      <td>80</td>\n",
       "      <td>2</td>\n",
       "      <td>6</td>\n",
       "      <td>2</td>\n",
       "      <td>3</td>\n",
       "      <td>6</td>\n",
       "      <td>0</td>\n",
       "      <td>1</td>\n",
       "      <td>0</td>\n",
       "    </tr>\n",
       "    <tr>\n",
       "      <th>762</th>\n",
       "      <td>26</td>\n",
       "      <td>Yes</td>\n",
       "      <td>Travel_Frequently</td>\n",
       "      <td>342</td>\n",
       "      <td>Research &amp; Development</td>\n",
       "      <td>2</td>\n",
       "      <td>3</td>\n",
       "      <td>Life Sciences</td>\n",
       "      <td>1</td>\n",
       "      <td>1053</td>\n",
       "      <td>...</td>\n",
       "      <td>2</td>\n",
       "      <td>80</td>\n",
       "      <td>1</td>\n",
       "      <td>6</td>\n",
       "      <td>2</td>\n",
       "      <td>3</td>\n",
       "      <td>3</td>\n",
       "      <td>2</td>\n",
       "      <td>1</td>\n",
       "      <td>2</td>\n",
       "    </tr>\n",
       "    <tr>\n",
       "      <th>805</th>\n",
       "      <td>45</td>\n",
       "      <td>No</td>\n",
       "      <td>Non-Travel</td>\n",
       "      <td>1050</td>\n",
       "      <td>Sales</td>\n",
       "      <td>9</td>\n",
       "      <td>4</td>\n",
       "      <td>Life Sciences</td>\n",
       "      <td>1</td>\n",
       "      <td>1117</td>\n",
       "      <td>...</td>\n",
       "      <td>4</td>\n",
       "      <td>80</td>\n",
       "      <td>1</td>\n",
       "      <td>15</td>\n",
       "      <td>2</td>\n",
       "      <td>3</td>\n",
       "      <td>15</td>\n",
       "      <td>10</td>\n",
       "      <td>4</td>\n",
       "      <td>12</td>\n",
       "    </tr>\n",
       "  </tbody>\n",
       "</table>\n",
       "<p>5 rows × 35 columns</p>\n",
       "</div>"
      ],
      "text/plain": [
       "      Age Attrition     BusinessTravel  DailyRate              Department  \\\n",
       "1107   38        No  Travel_Frequently        888         Human Resources   \n",
       "1232   35        No      Travel_Rarely       1370  Research & Development   \n",
       "903    29        No      Travel_Rarely       1329  Research & Development   \n",
       "762    26       Yes  Travel_Frequently        342  Research & Development   \n",
       "805    45        No         Non-Travel       1050                   Sales   \n",
       "\n",
       "      DistanceFromHome  Education   EducationField  EmployeeCount  \\\n",
       "1107                10          4  Human Resources              1   \n",
       "1232                27          4    Life Sciences              1   \n",
       "903                  7          3    Life Sciences              1   \n",
       "762                  2          3    Life Sciences              1   \n",
       "805                  9          4    Life Sciences              1   \n",
       "\n",
       "      EmployeeNumber  ...  RelationshipSatisfaction StandardHours  \\\n",
       "1107            1563  ...                         3            80   \n",
       "1232            1728  ...                         2            80   \n",
       "903             1260  ...                         2            80   \n",
       "762             1053  ...                         2            80   \n",
       "805             1117  ...                         4            80   \n",
       "\n",
       "      StockOptionLevel  TotalWorkingYears  TrainingTimesLastYear  \\\n",
       "1107                 0                 10                      2   \n",
       "1232                 1                 17                      3   \n",
       "903                  2                  6                      2   \n",
       "762                  1                  6                      2   \n",
       "805                  1                 15                      2   \n",
       "\n",
       "     WorkLifeBalance  YearsAtCompany YearsInCurrentRole  \\\n",
       "1107               3               6                  3   \n",
       "1232               3               7                  7   \n",
       "903                3               6                  0   \n",
       "762                3               3                  2   \n",
       "805                3              15                 10   \n",
       "\n",
       "      YearsSinceLastPromotion  YearsWithCurrManager  \n",
       "1107                        1                     2  \n",
       "1232                        0                     7  \n",
       "903                         1                     0  \n",
       "762                         1                     2  \n",
       "805                         4                    12  \n",
       "\n",
       "[5 rows x 35 columns]"
      ]
     },
     "execution_count": 68,
     "metadata": {},
     "output_type": "execute_result"
    }
   ],
   "source": [
    "from sklearn.utils import shuffle\n",
    "attrition = pd.read_csv('/Users/daritmartinez/jbooks/entregable/data/WA_Fn-UseC_-HR-Employee-Attrition.csv')\n",
    "attrition = shuffle(attrition)\n",
    "attrition.head(5)"
   ]
  },
  {
   "cell_type": "markdown",
   "metadata": {},
   "source": [
    "INTEGRIDAD DE LA BASE DE DATOS\n",
    "A partir de la comprobación de integridad de la base de datos se encontró que de las 35 variables, 9 corresponden a categoricas y 26 a numericas. Para cada tipo de variables se descartó la existencia de valores nulos, es decir los datos no tienen valores faltantes. En las tablas se muestran las estadísticas resumidas de las variables."
   ]
  },
  {
   "cell_type": "code",
   "execution_count": 69,
   "metadata": {},
   "outputs": [
    {
     "data": {
      "text/html": [
       "<div>\n",
       "<style scoped>\n",
       "    .dataframe tbody tr th:only-of-type {\n",
       "        vertical-align: middle;\n",
       "    }\n",
       "\n",
       "    .dataframe tbody tr th {\n",
       "        vertical-align: top;\n",
       "    }\n",
       "\n",
       "    .dataframe thead th {\n",
       "        text-align: right;\n",
       "    }\n",
       "</style>\n",
       "<table border=\"1\" class=\"dataframe\">\n",
       "  <thead>\n",
       "    <tr style=\"text-align: right;\">\n",
       "      <th></th>\n",
       "      <th></th>\n",
       "      <th>count</th>\n",
       "    </tr>\n",
       "    <tr>\n",
       "      <th>column</th>\n",
       "      <th>value</th>\n",
       "      <th></th>\n",
       "    </tr>\n",
       "  </thead>\n",
       "  <tbody>\n",
       "    <tr>\n",
       "      <th rowspan=\"2\" valign=\"top\">Attrition</th>\n",
       "      <th>Yes</th>\n",
       "      <td>237</td>\n",
       "    </tr>\n",
       "    <tr>\n",
       "      <th>No</th>\n",
       "      <td>1233</td>\n",
       "    </tr>\n",
       "    <tr>\n",
       "      <th rowspan=\"3\" valign=\"top\">BusinessTravel</th>\n",
       "      <th>Non-Travel</th>\n",
       "      <td>150</td>\n",
       "    </tr>\n",
       "    <tr>\n",
       "      <th>Travel_Frequently</th>\n",
       "      <td>277</td>\n",
       "    </tr>\n",
       "    <tr>\n",
       "      <th>Travel_Rarely</th>\n",
       "      <td>1043</td>\n",
       "    </tr>\n",
       "    <tr>\n",
       "      <th rowspan=\"3\" valign=\"top\">Department</th>\n",
       "      <th>Human Resources</th>\n",
       "      <td>63</td>\n",
       "    </tr>\n",
       "    <tr>\n",
       "      <th>Sales</th>\n",
       "      <td>446</td>\n",
       "    </tr>\n",
       "    <tr>\n",
       "      <th>Research &amp; Development</th>\n",
       "      <td>961</td>\n",
       "    </tr>\n",
       "    <tr>\n",
       "      <th rowspan=\"6\" valign=\"top\">EducationField</th>\n",
       "      <th>Human Resources</th>\n",
       "      <td>27</td>\n",
       "    </tr>\n",
       "    <tr>\n",
       "      <th>Other</th>\n",
       "      <td>82</td>\n",
       "    </tr>\n",
       "    <tr>\n",
       "      <th>Technical Degree</th>\n",
       "      <td>132</td>\n",
       "    </tr>\n",
       "    <tr>\n",
       "      <th>Marketing</th>\n",
       "      <td>159</td>\n",
       "    </tr>\n",
       "    <tr>\n",
       "      <th>Medical</th>\n",
       "      <td>464</td>\n",
       "    </tr>\n",
       "    <tr>\n",
       "      <th>Life Sciences</th>\n",
       "      <td>606</td>\n",
       "    </tr>\n",
       "    <tr>\n",
       "      <th rowspan=\"2\" valign=\"top\">Gender</th>\n",
       "      <th>Female</th>\n",
       "      <td>588</td>\n",
       "    </tr>\n",
       "    <tr>\n",
       "      <th>Male</th>\n",
       "      <td>882</td>\n",
       "    </tr>\n",
       "    <tr>\n",
       "      <th rowspan=\"9\" valign=\"top\">JobRole</th>\n",
       "      <th>Human Resources</th>\n",
       "      <td>52</td>\n",
       "    </tr>\n",
       "    <tr>\n",
       "      <th>Research Director</th>\n",
       "      <td>80</td>\n",
       "    </tr>\n",
       "    <tr>\n",
       "      <th>Sales Representative</th>\n",
       "      <td>83</td>\n",
       "    </tr>\n",
       "    <tr>\n",
       "      <th>Manager</th>\n",
       "      <td>102</td>\n",
       "    </tr>\n",
       "    <tr>\n",
       "      <th>Healthcare Representative</th>\n",
       "      <td>131</td>\n",
       "    </tr>\n",
       "    <tr>\n",
       "      <th>Manufacturing Director</th>\n",
       "      <td>145</td>\n",
       "    </tr>\n",
       "    <tr>\n",
       "      <th>Laboratory Technician</th>\n",
       "      <td>259</td>\n",
       "    </tr>\n",
       "    <tr>\n",
       "      <th>Research Scientist</th>\n",
       "      <td>292</td>\n",
       "    </tr>\n",
       "    <tr>\n",
       "      <th>Sales Executive</th>\n",
       "      <td>326</td>\n",
       "    </tr>\n",
       "    <tr>\n",
       "      <th rowspan=\"3\" valign=\"top\">MaritalStatus</th>\n",
       "      <th>Divorced</th>\n",
       "      <td>327</td>\n",
       "    </tr>\n",
       "    <tr>\n",
       "      <th>Single</th>\n",
       "      <td>470</td>\n",
       "    </tr>\n",
       "    <tr>\n",
       "      <th>Married</th>\n",
       "      <td>673</td>\n",
       "    </tr>\n",
       "    <tr>\n",
       "      <th>Over18</th>\n",
       "      <th>Y</th>\n",
       "      <td>1470</td>\n",
       "    </tr>\n",
       "    <tr>\n",
       "      <th rowspan=\"2\" valign=\"top\">OverTime</th>\n",
       "      <th>Yes</th>\n",
       "      <td>416</td>\n",
       "    </tr>\n",
       "    <tr>\n",
       "      <th>No</th>\n",
       "      <td>1054</td>\n",
       "    </tr>\n",
       "  </tbody>\n",
       "</table>\n",
       "</div>"
      ],
      "text/plain": [
       "                                          count\n",
       "column         value                           \n",
       "Attrition      Yes                          237\n",
       "               No                          1233\n",
       "BusinessTravel Non-Travel                   150\n",
       "               Travel_Frequently            277\n",
       "               Travel_Rarely               1043\n",
       "Department     Human Resources               63\n",
       "               Sales                        446\n",
       "               Research & Development       961\n",
       "EducationField Human Resources               27\n",
       "               Other                         82\n",
       "               Technical Degree             132\n",
       "               Marketing                    159\n",
       "               Medical                      464\n",
       "               Life Sciences                606\n",
       "Gender         Female                       588\n",
       "               Male                         882\n",
       "JobRole        Human Resources               52\n",
       "               Research Director             80\n",
       "               Sales Representative          83\n",
       "               Manager                      102\n",
       "               Healthcare Representative    131\n",
       "               Manufacturing Director       145\n",
       "               Laboratory Technician        259\n",
       "               Research Scientist           292\n",
       "               Sales Executive              326\n",
       "MaritalStatus  Divorced                     327\n",
       "               Single                       470\n",
       "               Married                      673\n",
       "Over18         Y                           1470\n",
       "OverTime       Yes                          416\n",
       "               No                          1054"
      ]
     },
     "metadata": {},
     "output_type": "display_data"
    },
    {
     "data": {
      "text/html": [
       "<pre style=\"white-space:pre;overflow-x:auto;line-height:normal;font-family:Menlo,'DejaVu Sans Mono',consolas,'Courier New',monospace\">╭──────────────────────────────────────────────── skimpy summary ─────────────────────────────────────────────────╮\n",
       "│ <span style=\"font-style: italic\">         Data Summary         </span> <span style=\"font-style: italic\">      Data Types       </span>                                                          │\n",
       "│ ┏━━━━━━━━━━━━━━━━━━━┳━━━━━━━━┓ ┏━━━━━━━━━━━━━┳━━━━━━━┓                                                          │\n",
       "│ ┃<span style=\"color: #008080; text-decoration-color: #008080; font-weight: bold\"> dataframe         </span>┃<span style=\"color: #008080; text-decoration-color: #008080; font-weight: bold\"> Values </span>┃ ┃<span style=\"color: #008080; text-decoration-color: #008080; font-weight: bold\"> Column Type </span>┃<span style=\"color: #008080; text-decoration-color: #008080; font-weight: bold\"> Count </span>┃                                                          │\n",
       "│ ┡━━━━━━━━━━━━━━━━━━━╇━━━━━━━━┩ ┡━━━━━━━━━━━━━╇━━━━━━━┩                                                          │\n",
       "│ │ Number of rows    │ 1470   │ │ int32       │ 26    │                                                          │\n",
       "│ │ Number of columns │ 35     │ │ string      │ 9     │                                                          │\n",
       "│ └───────────────────┴────────┘ └─────────────┴───────┘                                                          │\n",
       "│ <span style=\"font-style: italic\">                                                    number                                                    </span>  │\n",
       "│ ┏━━━━━━━━━━━━━━━━━━━━━━━━━━━━┳━━━━━┳━━━━━━━━┳━━━━━━━━━┳━━━━━━━━┳━━━━━━━━┳━━━━━━━━┳━━━━━━━━┳━━━━━━━━┳━━━━━━━━━┓  │\n",
       "│ ┃<span style=\"font-weight: bold\"> column_name                </span>┃<span style=\"font-weight: bold\"> NA  </span>┃<span style=\"font-weight: bold\"> NA %   </span>┃<span style=\"font-weight: bold\"> mean    </span>┃<span style=\"font-weight: bold\"> sd     </span>┃<span style=\"font-weight: bold\"> p0     </span>┃<span style=\"font-weight: bold\"> p25    </span>┃<span style=\"font-weight: bold\"> p75    </span>┃<span style=\"font-weight: bold\"> p100   </span>┃<span style=\"font-weight: bold\"> hist    </span>┃  │\n",
       "│ ┡━━━━━━━━━━━━━━━━━━━━━━━━━━━━╇━━━━━╇━━━━━━━━╇━━━━━━━━━╇━━━━━━━━╇━━━━━━━━╇━━━━━━━━╇━━━━━━━━╇━━━━━━━━╇━━━━━━━━━┩  │\n",
       "│ │ <span style=\"color: #af87ff; text-decoration-color: #af87ff\">Age                       </span> │ <span style=\"color: #008080; text-decoration-color: #008080\">  0</span> │ <span style=\"color: #008080; text-decoration-color: #008080\">     0</span> │ <span style=\"color: #008080; text-decoration-color: #008080\">     37</span> │ <span style=\"color: #008080; text-decoration-color: #008080\">   9.1</span> │ <span style=\"color: #008080; text-decoration-color: #008080\">    18</span> │ <span style=\"color: #008080; text-decoration-color: #008080\">    30</span> │ <span style=\"color: #008080; text-decoration-color: #008080\">    43</span> │ <span style=\"color: #008080; text-decoration-color: #008080\">    60</span> │ <span style=\"color: #008000; text-decoration-color: #008000\">▂▆█▅▃▂ </span> │  │\n",
       "│ │ <span style=\"color: #af87ff; text-decoration-color: #af87ff\">DailyRate                 </span> │ <span style=\"color: #008080; text-decoration-color: #008080\">  0</span> │ <span style=\"color: #008080; text-decoration-color: #008080\">     0</span> │ <span style=\"color: #008080; text-decoration-color: #008080\">    800</span> │ <span style=\"color: #008080; text-decoration-color: #008080\">   400</span> │ <span style=\"color: #008080; text-decoration-color: #008080\">   100</span> │ <span style=\"color: #008080; text-decoration-color: #008080\">   460</span> │ <span style=\"color: #008080; text-decoration-color: #008080\">  1200</span> │ <span style=\"color: #008080; text-decoration-color: #008080\">  1500</span> │ <span style=\"color: #008000; text-decoration-color: #008000\">██████ </span> │  │\n",
       "│ │ <span style=\"color: #af87ff; text-decoration-color: #af87ff\">DistanceFromHome          </span> │ <span style=\"color: #008080; text-decoration-color: #008080\">  0</span> │ <span style=\"color: #008080; text-decoration-color: #008080\">     0</span> │ <span style=\"color: #008080; text-decoration-color: #008080\">    9.2</span> │ <span style=\"color: #008080; text-decoration-color: #008080\">   8.1</span> │ <span style=\"color: #008080; text-decoration-color: #008080\">     1</span> │ <span style=\"color: #008080; text-decoration-color: #008080\">     2</span> │ <span style=\"color: #008080; text-decoration-color: #008080\">    14</span> │ <span style=\"color: #008080; text-decoration-color: #008080\">    29</span> │ <span style=\"color: #008000; text-decoration-color: #008000\">█▅▁▂▁▁ </span> │  │\n",
       "│ │ <span style=\"color: #af87ff; text-decoration-color: #af87ff\">Education                 </span> │ <span style=\"color: #008080; text-decoration-color: #008080\">  0</span> │ <span style=\"color: #008080; text-decoration-color: #008080\">     0</span> │ <span style=\"color: #008080; text-decoration-color: #008080\">    2.9</span> │ <span style=\"color: #008080; text-decoration-color: #008080\">     1</span> │ <span style=\"color: #008080; text-decoration-color: #008080\">     1</span> │ <span style=\"color: #008080; text-decoration-color: #008080\">     2</span> │ <span style=\"color: #008080; text-decoration-color: #008080\">     4</span> │ <span style=\"color: #008080; text-decoration-color: #008080\">     5</span> │ <span style=\"color: #008000; text-decoration-color: #008000\">▂▄ █▆▁ </span> │  │\n",
       "│ │ <span style=\"color: #af87ff; text-decoration-color: #af87ff\">EmployeeCount             </span> │ <span style=\"color: #008080; text-decoration-color: #008080\">  0</span> │ <span style=\"color: #008080; text-decoration-color: #008080\">     0</span> │ <span style=\"color: #008080; text-decoration-color: #008080\">      1</span> │ <span style=\"color: #008080; text-decoration-color: #008080\">     0</span> │ <span style=\"color: #008080; text-decoration-color: #008080\">     1</span> │ <span style=\"color: #008080; text-decoration-color: #008080\">     1</span> │ <span style=\"color: #008080; text-decoration-color: #008080\">     1</span> │ <span style=\"color: #008080; text-decoration-color: #008080\">     1</span> │ <span style=\"color: #008000; text-decoration-color: #008000\">    █  </span> │  │\n",
       "│ │ <span style=\"color: #af87ff; text-decoration-color: #af87ff\">EmployeeNumber            </span> │ <span style=\"color: #008080; text-decoration-color: #008080\">  0</span> │ <span style=\"color: #008080; text-decoration-color: #008080\">     0</span> │ <span style=\"color: #008080; text-decoration-color: #008080\">   1000</span> │ <span style=\"color: #008080; text-decoration-color: #008080\">   600</span> │ <span style=\"color: #008080; text-decoration-color: #008080\">     1</span> │ <span style=\"color: #008080; text-decoration-color: #008080\">   490</span> │ <span style=\"color: #008080; text-decoration-color: #008080\">  1600</span> │ <span style=\"color: #008080; text-decoration-color: #008080\">  2100</span> │ <span style=\"color: #008000; text-decoration-color: #008000\">██▇▇██ </span> │  │\n",
       "│ │ <span style=\"color: #af87ff; text-decoration-color: #af87ff\">EnvironmentSatisfact      </span> │ <span style=\"color: #008080; text-decoration-color: #008080\">  0</span> │ <span style=\"color: #008080; text-decoration-color: #008080\">     0</span> │ <span style=\"color: #008080; text-decoration-color: #008080\">    2.7</span> │ <span style=\"color: #008080; text-decoration-color: #008080\">   1.1</span> │ <span style=\"color: #008080; text-decoration-color: #008080\">     1</span> │ <span style=\"color: #008080; text-decoration-color: #008080\">     2</span> │ <span style=\"color: #008080; text-decoration-color: #008080\">     4</span> │ <span style=\"color: #008080; text-decoration-color: #008080\">     4</span> │ <span style=\"color: #008000; text-decoration-color: #008000\">▅ ▅ ██ </span> │  │\n",
       "│ │ <span style=\"color: #af87ff; text-decoration-color: #af87ff\">HourlyRate                </span> │ <span style=\"color: #008080; text-decoration-color: #008080\">  0</span> │ <span style=\"color: #008080; text-decoration-color: #008080\">     0</span> │ <span style=\"color: #008080; text-decoration-color: #008080\">     66</span> │ <span style=\"color: #008080; text-decoration-color: #008080\">    20</span> │ <span style=\"color: #008080; text-decoration-color: #008080\">    30</span> │ <span style=\"color: #008080; text-decoration-color: #008080\">    48</span> │ <span style=\"color: #008080; text-decoration-color: #008080\">    84</span> │ <span style=\"color: #008080; text-decoration-color: #008080\">   100</span> │ <span style=\"color: #008000; text-decoration-color: #008000\">▆█▇▇█▇ </span> │  │\n",
       "│ │ <span style=\"color: #af87ff; text-decoration-color: #af87ff\">JobInvolvement            </span> │ <span style=\"color: #008080; text-decoration-color: #008080\">  0</span> │ <span style=\"color: #008080; text-decoration-color: #008080\">     0</span> │ <span style=\"color: #008080; text-decoration-color: #008080\">    2.7</span> │ <span style=\"color: #008080; text-decoration-color: #008080\">  0.71</span> │ <span style=\"color: #008080; text-decoration-color: #008080\">     1</span> │ <span style=\"color: #008080; text-decoration-color: #008080\">     2</span> │ <span style=\"color: #008080; text-decoration-color: #008080\">     3</span> │ <span style=\"color: #008080; text-decoration-color: #008080\">     4</span> │ <span style=\"color: #008000; text-decoration-color: #008000\">▁ ▃ █▁ </span> │  │\n",
       "│ │ <span style=\"color: #af87ff; text-decoration-color: #af87ff\">JobLevel                  </span> │ <span style=\"color: #008080; text-decoration-color: #008080\">  0</span> │ <span style=\"color: #008080; text-decoration-color: #008080\">     0</span> │ <span style=\"color: #008080; text-decoration-color: #008080\">    2.1</span> │ <span style=\"color: #008080; text-decoration-color: #008080\">   1.1</span> │ <span style=\"color: #008080; text-decoration-color: #008080\">     1</span> │ <span style=\"color: #008080; text-decoration-color: #008080\">     1</span> │ <span style=\"color: #008080; text-decoration-color: #008080\">     3</span> │ <span style=\"color: #008080; text-decoration-color: #008080\">     5</span> │ <span style=\"color: #008000; text-decoration-color: #008000\">██ ▃▂▁ </span> │  │\n",
       "│ │ <span style=\"color: #af87ff; text-decoration-color: #af87ff\">JobSatisfaction           </span> │ <span style=\"color: #008080; text-decoration-color: #008080\">  0</span> │ <span style=\"color: #008080; text-decoration-color: #008080\">     0</span> │ <span style=\"color: #008080; text-decoration-color: #008080\">    2.7</span> │ <span style=\"color: #008080; text-decoration-color: #008080\">   1.1</span> │ <span style=\"color: #008080; text-decoration-color: #008080\">     1</span> │ <span style=\"color: #008080; text-decoration-color: #008080\">     2</span> │ <span style=\"color: #008080; text-decoration-color: #008080\">     4</span> │ <span style=\"color: #008080; text-decoration-color: #008080\">     4</span> │ <span style=\"color: #008000; text-decoration-color: #008000\">▅ ▅ ██ </span> │  │\n",
       "│ │ <span style=\"color: #af87ff; text-decoration-color: #af87ff\">MonthlyIncome             </span> │ <span style=\"color: #008080; text-decoration-color: #008080\">  0</span> │ <span style=\"color: #008080; text-decoration-color: #008080\">     0</span> │ <span style=\"color: #008080; text-decoration-color: #008080\">   6500</span> │ <span style=\"color: #008080; text-decoration-color: #008080\">  4700</span> │ <span style=\"color: #008080; text-decoration-color: #008080\">  1000</span> │ <span style=\"color: #008080; text-decoration-color: #008080\">  2900</span> │ <span style=\"color: #008080; text-decoration-color: #008080\">  8400</span> │ <span style=\"color: #008080; text-decoration-color: #008080\"> 20000</span> │ <span style=\"color: #008000; text-decoration-color: #008000\">█▇▂▁▁▁ </span> │  │\n",
       "│ │ <span style=\"color: #af87ff; text-decoration-color: #af87ff\">MonthlyRate               </span> │ <span style=\"color: #008080; text-decoration-color: #008080\">  0</span> │ <span style=\"color: #008080; text-decoration-color: #008080\">     0</span> │ <span style=\"color: #008080; text-decoration-color: #008080\">  14000</span> │ <span style=\"color: #008080; text-decoration-color: #008080\">  7100</span> │ <span style=\"color: #008080; text-decoration-color: #008080\">  2100</span> │ <span style=\"color: #008080; text-decoration-color: #008080\">  8000</span> │ <span style=\"color: #008080; text-decoration-color: #008080\"> 20000</span> │ <span style=\"color: #008080; text-decoration-color: #008080\"> 27000</span> │ <span style=\"color: #008000; text-decoration-color: #008000\">██▇▇█▇ </span> │  │\n",
       "│ │ <span style=\"color: #af87ff; text-decoration-color: #af87ff\">NumCompaniesWorked        </span> │ <span style=\"color: #008080; text-decoration-color: #008080\">  0</span> │ <span style=\"color: #008080; text-decoration-color: #008080\">     0</span> │ <span style=\"color: #008080; text-decoration-color: #008080\">    2.7</span> │ <span style=\"color: #008080; text-decoration-color: #008080\">   2.5</span> │ <span style=\"color: #008080; text-decoration-color: #008080\">     0</span> │ <span style=\"color: #008080; text-decoration-color: #008080\">     1</span> │ <span style=\"color: #008080; text-decoration-color: #008080\">     4</span> │ <span style=\"color: #008080; text-decoration-color: #008080\">     9</span> │ <span style=\"color: #008000; text-decoration-color: #008000\">█▂▃▁▂▁ </span> │  │\n",
       "│ │ <span style=\"color: #af87ff; text-decoration-color: #af87ff\">PercentSalaryHike         </span> │ <span style=\"color: #008080; text-decoration-color: #008080\">  0</span> │ <span style=\"color: #008080; text-decoration-color: #008080\">     0</span> │ <span style=\"color: #008080; text-decoration-color: #008080\">     15</span> │ <span style=\"color: #008080; text-decoration-color: #008080\">   3.7</span> │ <span style=\"color: #008080; text-decoration-color: #008080\">    11</span> │ <span style=\"color: #008080; text-decoration-color: #008080\">    12</span> │ <span style=\"color: #008080; text-decoration-color: #008080\">    18</span> │ <span style=\"color: #008080; text-decoration-color: #008080\">    25</span> │ <span style=\"color: #008000; text-decoration-color: #008000\">█▄▂▃▁▁ </span> │  │\n",
       "│ │ <span style=\"color: #af87ff; text-decoration-color: #af87ff\">PerformanceRating         </span> │ <span style=\"color: #008080; text-decoration-color: #008080\">  0</span> │ <span style=\"color: #008080; text-decoration-color: #008080\">     0</span> │ <span style=\"color: #008080; text-decoration-color: #008080\">    3.2</span> │ <span style=\"color: #008080; text-decoration-color: #008080\">  0.36</span> │ <span style=\"color: #008080; text-decoration-color: #008080\">     3</span> │ <span style=\"color: #008080; text-decoration-color: #008080\">     3</span> │ <span style=\"color: #008080; text-decoration-color: #008080\">     3</span> │ <span style=\"color: #008080; text-decoration-color: #008080\">     4</span> │ <span style=\"color: #008000; text-decoration-color: #008000\">█    ▁ </span> │  │\n",
       "│ │ <span style=\"color: #af87ff; text-decoration-color: #af87ff\">RelationshipSatisfac      </span> │ <span style=\"color: #008080; text-decoration-color: #008080\">  0</span> │ <span style=\"color: #008080; text-decoration-color: #008080\">     0</span> │ <span style=\"color: #008080; text-decoration-color: #008080\">    2.7</span> │ <span style=\"color: #008080; text-decoration-color: #008080\">   1.1</span> │ <span style=\"color: #008080; text-decoration-color: #008080\">     1</span> │ <span style=\"color: #008080; text-decoration-color: #008080\">     2</span> │ <span style=\"color: #008080; text-decoration-color: #008080\">     4</span> │ <span style=\"color: #008080; text-decoration-color: #008080\">     4</span> │ <span style=\"color: #008000; text-decoration-color: #008000\">▅ ▅ ██ </span> │  │\n",
       "│ │ <span style=\"color: #af87ff; text-decoration-color: #af87ff\">StandardHours             </span> │ <span style=\"color: #008080; text-decoration-color: #008080\">  0</span> │ <span style=\"color: #008080; text-decoration-color: #008080\">     0</span> │ <span style=\"color: #008080; text-decoration-color: #008080\">     80</span> │ <span style=\"color: #008080; text-decoration-color: #008080\">     0</span> │ <span style=\"color: #008080; text-decoration-color: #008080\">    80</span> │ <span style=\"color: #008080; text-decoration-color: #008080\">    80</span> │ <span style=\"color: #008080; text-decoration-color: #008080\">    80</span> │ <span style=\"color: #008080; text-decoration-color: #008080\">    80</span> │ <span style=\"color: #008000; text-decoration-color: #008000\">    █  </span> │  │\n",
       "│ │ <span style=\"color: #af87ff; text-decoration-color: #af87ff\">StockOptionLevel          </span> │ <span style=\"color: #008080; text-decoration-color: #008080\">  0</span> │ <span style=\"color: #008080; text-decoration-color: #008080\">     0</span> │ <span style=\"color: #008080; text-decoration-color: #008080\">   0.79</span> │ <span style=\"color: #008080; text-decoration-color: #008080\">  0.85</span> │ <span style=\"color: #008080; text-decoration-color: #008080\">     0</span> │ <span style=\"color: #008080; text-decoration-color: #008080\">     0</span> │ <span style=\"color: #008080; text-decoration-color: #008080\">     1</span> │ <span style=\"color: #008080; text-decoration-color: #008080\">     3</span> │ <span style=\"color: #008000; text-decoration-color: #008000\">█ █ ▂▁ </span> │  │\n",
       "│ │ <span style=\"color: #af87ff; text-decoration-color: #af87ff\">TotalWorkingYears         </span> │ <span style=\"color: #008080; text-decoration-color: #008080\">  0</span> │ <span style=\"color: #008080; text-decoration-color: #008080\">     0</span> │ <span style=\"color: #008080; text-decoration-color: #008080\">     11</span> │ <span style=\"color: #008080; text-decoration-color: #008080\">   7.8</span> │ <span style=\"color: #008080; text-decoration-color: #008080\">     0</span> │ <span style=\"color: #008080; text-decoration-color: #008080\">     6</span> │ <span style=\"color: #008080; text-decoration-color: #008080\">    15</span> │ <span style=\"color: #008080; text-decoration-color: #008080\">    40</span> │ <span style=\"color: #008000; text-decoration-color: #008000\"> ▆█▃▂▁ </span> │  │\n",
       "│ │ <span style=\"color: #af87ff; text-decoration-color: #af87ff\">TrainingTimesLastYea      </span> │ <span style=\"color: #008080; text-decoration-color: #008080\">  0</span> │ <span style=\"color: #008080; text-decoration-color: #008080\">     0</span> │ <span style=\"color: #008080; text-decoration-color: #008080\">    2.8</span> │ <span style=\"color: #008080; text-decoration-color: #008080\">   1.3</span> │ <span style=\"color: #008080; text-decoration-color: #008080\">     0</span> │ <span style=\"color: #008080; text-decoration-color: #008080\">     2</span> │ <span style=\"color: #008080; text-decoration-color: #008080\">     3</span> │ <span style=\"color: #008080; text-decoration-color: #008080\">     6</span> │ <span style=\"color: #008000; text-decoration-color: #008000\">▁▁█▇▂▃ </span> │  │\n",
       "│ │ <span style=\"color: #af87ff; text-decoration-color: #af87ff\">WorkLifeBalance           </span> │ <span style=\"color: #008080; text-decoration-color: #008080\">  0</span> │ <span style=\"color: #008080; text-decoration-color: #008080\">     0</span> │ <span style=\"color: #008080; text-decoration-color: #008080\">    2.8</span> │ <span style=\"color: #008080; text-decoration-color: #008080\">  0.71</span> │ <span style=\"color: #008080; text-decoration-color: #008080\">     1</span> │ <span style=\"color: #008080; text-decoration-color: #008080\">     2</span> │ <span style=\"color: #008080; text-decoration-color: #008080\">     3</span> │ <span style=\"color: #008080; text-decoration-color: #008080\">     4</span> │ <span style=\"color: #008000; text-decoration-color: #008000\">▁ ▃ █▁ </span> │  │\n",
       "│ │ <span style=\"color: #af87ff; text-decoration-color: #af87ff\">YearsAtCompany            </span> │ <span style=\"color: #008080; text-decoration-color: #008080\">  0</span> │ <span style=\"color: #008080; text-decoration-color: #008080\">     0</span> │ <span style=\"color: #008080; text-decoration-color: #008080\">      7</span> │ <span style=\"color: #008080; text-decoration-color: #008080\">   6.1</span> │ <span style=\"color: #008080; text-decoration-color: #008080\">     0</span> │ <span style=\"color: #008080; text-decoration-color: #008080\">     3</span> │ <span style=\"color: #008080; text-decoration-color: #008080\">     9</span> │ <span style=\"color: #008080; text-decoration-color: #008080\">    40</span> │ <span style=\"color: #008000; text-decoration-color: #008000\"> █▄▁▁  </span> │  │\n",
       "│ │ <span style=\"color: #af87ff; text-decoration-color: #af87ff\">YearsInCurrentRole        </span> │ <span style=\"color: #008080; text-decoration-color: #008080\">  0</span> │ <span style=\"color: #008080; text-decoration-color: #008080\">     0</span> │ <span style=\"color: #008080; text-decoration-color: #008080\">    4.2</span> │ <span style=\"color: #008080; text-decoration-color: #008080\">   3.6</span> │ <span style=\"color: #008080; text-decoration-color: #008080\">     0</span> │ <span style=\"color: #008080; text-decoration-color: #008080\">     2</span> │ <span style=\"color: #008080; text-decoration-color: #008080\">     7</span> │ <span style=\"color: #008080; text-decoration-color: #008080\">    18</span> │ <span style=\"color: #008000; text-decoration-color: #008000\"> █▃▄▁  </span> │  │\n",
       "│ │ <span style=\"color: #af87ff; text-decoration-color: #af87ff\">YearsSinceLastPromot      </span> │ <span style=\"color: #008080; text-decoration-color: #008080\">  0</span> │ <span style=\"color: #008080; text-decoration-color: #008080\">     0</span> │ <span style=\"color: #008080; text-decoration-color: #008080\">    2.2</span> │ <span style=\"color: #008080; text-decoration-color: #008080\">   3.2</span> │ <span style=\"color: #008080; text-decoration-color: #008080\">     0</span> │ <span style=\"color: #008080; text-decoration-color: #008080\">     0</span> │ <span style=\"color: #008080; text-decoration-color: #008080\">     3</span> │ <span style=\"color: #008080; text-decoration-color: #008080\">    15</span> │ <span style=\"color: #008000; text-decoration-color: #008000\">  █▁▁  </span> │  │\n",
       "│ │ <span style=\"color: #af87ff; text-decoration-color: #af87ff\">YearsWithCurrManager      </span> │ <span style=\"color: #008080; text-decoration-color: #008080\">  0</span> │ <span style=\"color: #008080; text-decoration-color: #008080\">     0</span> │ <span style=\"color: #008080; text-decoration-color: #008080\">    4.1</span> │ <span style=\"color: #008080; text-decoration-color: #008080\">   3.6</span> │ <span style=\"color: #008080; text-decoration-color: #008080\">     0</span> │ <span style=\"color: #008080; text-decoration-color: #008080\">     2</span> │ <span style=\"color: #008080; text-decoration-color: #008080\">     7</span> │ <span style=\"color: #008080; text-decoration-color: #008080\">    17</span> │ <span style=\"color: #008000; text-decoration-color: #008000\"> █▃▄▁  </span> │  │\n",
       "│ └────────────────────────────┴─────┴────────┴─────────┴────────┴────────┴────────┴────────┴────────┴─────────┘  │\n",
       "│ <span style=\"font-style: italic\">                                                    string                                                    </span>  │\n",
       "│ ┏━━━━━━━━━━━━━━━━━━━━━━━━━━━━━━━┳━━━━━━━━┳━━━━━━━━━━━━┳━━━━━━━━━━━━━━━━━━━━━━━━━━━━━┳━━━━━━━━━━━━━━━━━━━━━━━━┓  │\n",
       "│ ┃<span style=\"font-weight: bold\"> column_name                   </span>┃<span style=\"font-weight: bold\"> NA     </span>┃<span style=\"font-weight: bold\"> NA %       </span>┃<span style=\"font-weight: bold\"> words per row               </span>┃<span style=\"font-weight: bold\"> total words            </span>┃  │\n",
       "│ ┡━━━━━━━━━━━━━━━━━━━━━━━━━━━━━━━╇━━━━━━━━╇━━━━━━━━━━━━╇━━━━━━━━━━━━━━━━━━━━━━━━━━━━━╇━━━━━━━━━━━━━━━━━━━━━━━━┩  │\n",
       "│ │ <span style=\"color: #af87ff; text-decoration-color: #af87ff\">Attrition                    </span> │ <span style=\"color: #008080; text-decoration-color: #008080\">     0</span> │ <span style=\"color: #008080; text-decoration-color: #008080\">         0</span> │ <span style=\"color: #008080; text-decoration-color: #008080\">                          1</span> │ <span style=\"color: #008080; text-decoration-color: #008080\">                  1500</span> │  │\n",
       "│ │ <span style=\"color: #af87ff; text-decoration-color: #af87ff\">BusinessTravel               </span> │ <span style=\"color: #008080; text-decoration-color: #008080\">     0</span> │ <span style=\"color: #008080; text-decoration-color: #008080\">         0</span> │ <span style=\"color: #008080; text-decoration-color: #008080\">                          1</span> │ <span style=\"color: #008080; text-decoration-color: #008080\">                  1500</span> │  │\n",
       "│ │ <span style=\"color: #af87ff; text-decoration-color: #af87ff\">Department                   </span> │ <span style=\"color: #008080; text-decoration-color: #008080\">     0</span> │ <span style=\"color: #008080; text-decoration-color: #008080\">         0</span> │ <span style=\"color: #008080; text-decoration-color: #008080\">                          1</span> │ <span style=\"color: #008080; text-decoration-color: #008080\">                  1500</span> │  │\n",
       "│ │ <span style=\"color: #af87ff; text-decoration-color: #af87ff\">EducationField               </span> │ <span style=\"color: #008080; text-decoration-color: #008080\">     0</span> │ <span style=\"color: #008080; text-decoration-color: #008080\">         0</span> │ <span style=\"color: #008080; text-decoration-color: #008080\">                          1</span> │ <span style=\"color: #008080; text-decoration-color: #008080\">                  1500</span> │  │\n",
       "│ │ <span style=\"color: #af87ff; text-decoration-color: #af87ff\">Gender                       </span> │ <span style=\"color: #008080; text-decoration-color: #008080\">     0</span> │ <span style=\"color: #008080; text-decoration-color: #008080\">         0</span> │ <span style=\"color: #008080; text-decoration-color: #008080\">                          1</span> │ <span style=\"color: #008080; text-decoration-color: #008080\">                  1500</span> │  │\n",
       "│ │ <span style=\"color: #af87ff; text-decoration-color: #af87ff\">JobRole                      </span> │ <span style=\"color: #008080; text-decoration-color: #008080\">     0</span> │ <span style=\"color: #008080; text-decoration-color: #008080\">         0</span> │ <span style=\"color: #008080; text-decoration-color: #008080\">                          1</span> │ <span style=\"color: #008080; text-decoration-color: #008080\">                  1500</span> │  │\n",
       "│ │ <span style=\"color: #af87ff; text-decoration-color: #af87ff\">MaritalStatus                </span> │ <span style=\"color: #008080; text-decoration-color: #008080\">     0</span> │ <span style=\"color: #008080; text-decoration-color: #008080\">         0</span> │ <span style=\"color: #008080; text-decoration-color: #008080\">                          1</span> │ <span style=\"color: #008080; text-decoration-color: #008080\">                  1500</span> │  │\n",
       "│ │ <span style=\"color: #af87ff; text-decoration-color: #af87ff\">Over18                       </span> │ <span style=\"color: #008080; text-decoration-color: #008080\">     0</span> │ <span style=\"color: #008080; text-decoration-color: #008080\">         0</span> │ <span style=\"color: #008080; text-decoration-color: #008080\">                          1</span> │ <span style=\"color: #008080; text-decoration-color: #008080\">                  1500</span> │  │\n",
       "│ │ <span style=\"color: #af87ff; text-decoration-color: #af87ff\">OverTime                     </span> │ <span style=\"color: #008080; text-decoration-color: #008080\">     0</span> │ <span style=\"color: #008080; text-decoration-color: #008080\">         0</span> │ <span style=\"color: #008080; text-decoration-color: #008080\">                          1</span> │ <span style=\"color: #008080; text-decoration-color: #008080\">                  1500</span> │  │\n",
       "│ └───────────────────────────────┴────────┴────────────┴─────────────────────────────┴────────────────────────┘  │\n",
       "╰────────────────────────────────────────────────────── End ──────────────────────────────────────────────────────╯\n",
       "</pre>\n"
      ],
      "text/plain": [
       "╭──────────────────────────────────────────────── skimpy summary ─────────────────────────────────────────────────╮\n",
       "│ \u001b[3m         Data Summary         \u001b[0m \u001b[3m      Data Types       \u001b[0m                                                          │\n",
       "│ ┏━━━━━━━━━━━━━━━━━━━┳━━━━━━━━┓ ┏━━━━━━━━━━━━━┳━━━━━━━┓                                                          │\n",
       "│ ┃\u001b[1;36m \u001b[0m\u001b[1;36mdataframe        \u001b[0m\u001b[1;36m \u001b[0m┃\u001b[1;36m \u001b[0m\u001b[1;36mValues\u001b[0m\u001b[1;36m \u001b[0m┃ ┃\u001b[1;36m \u001b[0m\u001b[1;36mColumn Type\u001b[0m\u001b[1;36m \u001b[0m┃\u001b[1;36m \u001b[0m\u001b[1;36mCount\u001b[0m\u001b[1;36m \u001b[0m┃                                                          │\n",
       "│ ┡━━━━━━━━━━━━━━━━━━━╇━━━━━━━━┩ ┡━━━━━━━━━━━━━╇━━━━━━━┩                                                          │\n",
       "│ │ Number of rows    │ 1470   │ │ int32       │ 26    │                                                          │\n",
       "│ │ Number of columns │ 35     │ │ string      │ 9     │                                                          │\n",
       "│ └───────────────────┴────────┘ └─────────────┴───────┘                                                          │\n",
       "│ \u001b[3m                                                    number                                                    \u001b[0m  │\n",
       "│ ┏━━━━━━━━━━━━━━━━━━━━━━━━━━━━┳━━━━━┳━━━━━━━━┳━━━━━━━━━┳━━━━━━━━┳━━━━━━━━┳━━━━━━━━┳━━━━━━━━┳━━━━━━━━┳━━━━━━━━━┓  │\n",
       "│ ┃\u001b[1m \u001b[0m\u001b[1mcolumn_name               \u001b[0m\u001b[1m \u001b[0m┃\u001b[1m \u001b[0m\u001b[1mNA \u001b[0m\u001b[1m \u001b[0m┃\u001b[1m \u001b[0m\u001b[1mNA %  \u001b[0m\u001b[1m \u001b[0m┃\u001b[1m \u001b[0m\u001b[1mmean   \u001b[0m\u001b[1m \u001b[0m┃\u001b[1m \u001b[0m\u001b[1msd    \u001b[0m\u001b[1m \u001b[0m┃\u001b[1m \u001b[0m\u001b[1mp0    \u001b[0m\u001b[1m \u001b[0m┃\u001b[1m \u001b[0m\u001b[1mp25   \u001b[0m\u001b[1m \u001b[0m┃\u001b[1m \u001b[0m\u001b[1mp75   \u001b[0m\u001b[1m \u001b[0m┃\u001b[1m \u001b[0m\u001b[1mp100  \u001b[0m\u001b[1m \u001b[0m┃\u001b[1m \u001b[0m\u001b[1mhist   \u001b[0m\u001b[1m \u001b[0m┃  │\n",
       "│ ┡━━━━━━━━━━━━━━━━━━━━━━━━━━━━╇━━━━━╇━━━━━━━━╇━━━━━━━━━╇━━━━━━━━╇━━━━━━━━╇━━━━━━━━╇━━━━━━━━╇━━━━━━━━╇━━━━━━━━━┩  │\n",
       "│ │ \u001b[38;5;141mAge                       \u001b[0m │ \u001b[36m  0\u001b[0m │ \u001b[36m     0\u001b[0m │ \u001b[36m     37\u001b[0m │ \u001b[36m   9.1\u001b[0m │ \u001b[36m    18\u001b[0m │ \u001b[36m    30\u001b[0m │ \u001b[36m    43\u001b[0m │ \u001b[36m    60\u001b[0m │ \u001b[32m▂▆█▅▃▂ \u001b[0m │  │\n",
       "│ │ \u001b[38;5;141mDailyRate                 \u001b[0m │ \u001b[36m  0\u001b[0m │ \u001b[36m     0\u001b[0m │ \u001b[36m    800\u001b[0m │ \u001b[36m   400\u001b[0m │ \u001b[36m   100\u001b[0m │ \u001b[36m   460\u001b[0m │ \u001b[36m  1200\u001b[0m │ \u001b[36m  1500\u001b[0m │ \u001b[32m██████ \u001b[0m │  │\n",
       "│ │ \u001b[38;5;141mDistanceFromHome          \u001b[0m │ \u001b[36m  0\u001b[0m │ \u001b[36m     0\u001b[0m │ \u001b[36m    9.2\u001b[0m │ \u001b[36m   8.1\u001b[0m │ \u001b[36m     1\u001b[0m │ \u001b[36m     2\u001b[0m │ \u001b[36m    14\u001b[0m │ \u001b[36m    29\u001b[0m │ \u001b[32m█▅▁▂▁▁ \u001b[0m │  │\n",
       "│ │ \u001b[38;5;141mEducation                 \u001b[0m │ \u001b[36m  0\u001b[0m │ \u001b[36m     0\u001b[0m │ \u001b[36m    2.9\u001b[0m │ \u001b[36m     1\u001b[0m │ \u001b[36m     1\u001b[0m │ \u001b[36m     2\u001b[0m │ \u001b[36m     4\u001b[0m │ \u001b[36m     5\u001b[0m │ \u001b[32m▂▄ █▆▁ \u001b[0m │  │\n",
       "│ │ \u001b[38;5;141mEmployeeCount             \u001b[0m │ \u001b[36m  0\u001b[0m │ \u001b[36m     0\u001b[0m │ \u001b[36m      1\u001b[0m │ \u001b[36m     0\u001b[0m │ \u001b[36m     1\u001b[0m │ \u001b[36m     1\u001b[0m │ \u001b[36m     1\u001b[0m │ \u001b[36m     1\u001b[0m │ \u001b[32m    █  \u001b[0m │  │\n",
       "│ │ \u001b[38;5;141mEmployeeNumber            \u001b[0m │ \u001b[36m  0\u001b[0m │ \u001b[36m     0\u001b[0m │ \u001b[36m   1000\u001b[0m │ \u001b[36m   600\u001b[0m │ \u001b[36m     1\u001b[0m │ \u001b[36m   490\u001b[0m │ \u001b[36m  1600\u001b[0m │ \u001b[36m  2100\u001b[0m │ \u001b[32m██▇▇██ \u001b[0m │  │\n",
       "│ │ \u001b[38;5;141mEnvironmentSatisfact      \u001b[0m │ \u001b[36m  0\u001b[0m │ \u001b[36m     0\u001b[0m │ \u001b[36m    2.7\u001b[0m │ \u001b[36m   1.1\u001b[0m │ \u001b[36m     1\u001b[0m │ \u001b[36m     2\u001b[0m │ \u001b[36m     4\u001b[0m │ \u001b[36m     4\u001b[0m │ \u001b[32m▅ ▅ ██ \u001b[0m │  │\n",
       "│ │ \u001b[38;5;141mHourlyRate                \u001b[0m │ \u001b[36m  0\u001b[0m │ \u001b[36m     0\u001b[0m │ \u001b[36m     66\u001b[0m │ \u001b[36m    20\u001b[0m │ \u001b[36m    30\u001b[0m │ \u001b[36m    48\u001b[0m │ \u001b[36m    84\u001b[0m │ \u001b[36m   100\u001b[0m │ \u001b[32m▆█▇▇█▇ \u001b[0m │  │\n",
       "│ │ \u001b[38;5;141mJobInvolvement            \u001b[0m │ \u001b[36m  0\u001b[0m │ \u001b[36m     0\u001b[0m │ \u001b[36m    2.7\u001b[0m │ \u001b[36m  0.71\u001b[0m │ \u001b[36m     1\u001b[0m │ \u001b[36m     2\u001b[0m │ \u001b[36m     3\u001b[0m │ \u001b[36m     4\u001b[0m │ \u001b[32m▁ ▃ █▁ \u001b[0m │  │\n",
       "│ │ \u001b[38;5;141mJobLevel                  \u001b[0m │ \u001b[36m  0\u001b[0m │ \u001b[36m     0\u001b[0m │ \u001b[36m    2.1\u001b[0m │ \u001b[36m   1.1\u001b[0m │ \u001b[36m     1\u001b[0m │ \u001b[36m     1\u001b[0m │ \u001b[36m     3\u001b[0m │ \u001b[36m     5\u001b[0m │ \u001b[32m██ ▃▂▁ \u001b[0m │  │\n",
       "│ │ \u001b[38;5;141mJobSatisfaction           \u001b[0m │ \u001b[36m  0\u001b[0m │ \u001b[36m     0\u001b[0m │ \u001b[36m    2.7\u001b[0m │ \u001b[36m   1.1\u001b[0m │ \u001b[36m     1\u001b[0m │ \u001b[36m     2\u001b[0m │ \u001b[36m     4\u001b[0m │ \u001b[36m     4\u001b[0m │ \u001b[32m▅ ▅ ██ \u001b[0m │  │\n",
       "│ │ \u001b[38;5;141mMonthlyIncome             \u001b[0m │ \u001b[36m  0\u001b[0m │ \u001b[36m     0\u001b[0m │ \u001b[36m   6500\u001b[0m │ \u001b[36m  4700\u001b[0m │ \u001b[36m  1000\u001b[0m │ \u001b[36m  2900\u001b[0m │ \u001b[36m  8400\u001b[0m │ \u001b[36m 20000\u001b[0m │ \u001b[32m█▇▂▁▁▁ \u001b[0m │  │\n",
       "│ │ \u001b[38;5;141mMonthlyRate               \u001b[0m │ \u001b[36m  0\u001b[0m │ \u001b[36m     0\u001b[0m │ \u001b[36m  14000\u001b[0m │ \u001b[36m  7100\u001b[0m │ \u001b[36m  2100\u001b[0m │ \u001b[36m  8000\u001b[0m │ \u001b[36m 20000\u001b[0m │ \u001b[36m 27000\u001b[0m │ \u001b[32m██▇▇█▇ \u001b[0m │  │\n",
       "│ │ \u001b[38;5;141mNumCompaniesWorked        \u001b[0m │ \u001b[36m  0\u001b[0m │ \u001b[36m     0\u001b[0m │ \u001b[36m    2.7\u001b[0m │ \u001b[36m   2.5\u001b[0m │ \u001b[36m     0\u001b[0m │ \u001b[36m     1\u001b[0m │ \u001b[36m     4\u001b[0m │ \u001b[36m     9\u001b[0m │ \u001b[32m█▂▃▁▂▁ \u001b[0m │  │\n",
       "│ │ \u001b[38;5;141mPercentSalaryHike         \u001b[0m │ \u001b[36m  0\u001b[0m │ \u001b[36m     0\u001b[0m │ \u001b[36m     15\u001b[0m │ \u001b[36m   3.7\u001b[0m │ \u001b[36m    11\u001b[0m │ \u001b[36m    12\u001b[0m │ \u001b[36m    18\u001b[0m │ \u001b[36m    25\u001b[0m │ \u001b[32m█▄▂▃▁▁ \u001b[0m │  │\n",
       "│ │ \u001b[38;5;141mPerformanceRating         \u001b[0m │ \u001b[36m  0\u001b[0m │ \u001b[36m     0\u001b[0m │ \u001b[36m    3.2\u001b[0m │ \u001b[36m  0.36\u001b[0m │ \u001b[36m     3\u001b[0m │ \u001b[36m     3\u001b[0m │ \u001b[36m     3\u001b[0m │ \u001b[36m     4\u001b[0m │ \u001b[32m█    ▁ \u001b[0m │  │\n",
       "│ │ \u001b[38;5;141mRelationshipSatisfac      \u001b[0m │ \u001b[36m  0\u001b[0m │ \u001b[36m     0\u001b[0m │ \u001b[36m    2.7\u001b[0m │ \u001b[36m   1.1\u001b[0m │ \u001b[36m     1\u001b[0m │ \u001b[36m     2\u001b[0m │ \u001b[36m     4\u001b[0m │ \u001b[36m     4\u001b[0m │ \u001b[32m▅ ▅ ██ \u001b[0m │  │\n",
       "│ │ \u001b[38;5;141mStandardHours             \u001b[0m │ \u001b[36m  0\u001b[0m │ \u001b[36m     0\u001b[0m │ \u001b[36m     80\u001b[0m │ \u001b[36m     0\u001b[0m │ \u001b[36m    80\u001b[0m │ \u001b[36m    80\u001b[0m │ \u001b[36m    80\u001b[0m │ \u001b[36m    80\u001b[0m │ \u001b[32m    █  \u001b[0m │  │\n",
       "│ │ \u001b[38;5;141mStockOptionLevel          \u001b[0m │ \u001b[36m  0\u001b[0m │ \u001b[36m     0\u001b[0m │ \u001b[36m   0.79\u001b[0m │ \u001b[36m  0.85\u001b[0m │ \u001b[36m     0\u001b[0m │ \u001b[36m     0\u001b[0m │ \u001b[36m     1\u001b[0m │ \u001b[36m     3\u001b[0m │ \u001b[32m█ █ ▂▁ \u001b[0m │  │\n",
       "│ │ \u001b[38;5;141mTotalWorkingYears         \u001b[0m │ \u001b[36m  0\u001b[0m │ \u001b[36m     0\u001b[0m │ \u001b[36m     11\u001b[0m │ \u001b[36m   7.8\u001b[0m │ \u001b[36m     0\u001b[0m │ \u001b[36m     6\u001b[0m │ \u001b[36m    15\u001b[0m │ \u001b[36m    40\u001b[0m │ \u001b[32m ▆█▃▂▁ \u001b[0m │  │\n",
       "│ │ \u001b[38;5;141mTrainingTimesLastYea      \u001b[0m │ \u001b[36m  0\u001b[0m │ \u001b[36m     0\u001b[0m │ \u001b[36m    2.8\u001b[0m │ \u001b[36m   1.3\u001b[0m │ \u001b[36m     0\u001b[0m │ \u001b[36m     2\u001b[0m │ \u001b[36m     3\u001b[0m │ \u001b[36m     6\u001b[0m │ \u001b[32m▁▁█▇▂▃ \u001b[0m │  │\n",
       "│ │ \u001b[38;5;141mWorkLifeBalance           \u001b[0m │ \u001b[36m  0\u001b[0m │ \u001b[36m     0\u001b[0m │ \u001b[36m    2.8\u001b[0m │ \u001b[36m  0.71\u001b[0m │ \u001b[36m     1\u001b[0m │ \u001b[36m     2\u001b[0m │ \u001b[36m     3\u001b[0m │ \u001b[36m     4\u001b[0m │ \u001b[32m▁ ▃ █▁ \u001b[0m │  │\n",
       "│ │ \u001b[38;5;141mYearsAtCompany            \u001b[0m │ \u001b[36m  0\u001b[0m │ \u001b[36m     0\u001b[0m │ \u001b[36m      7\u001b[0m │ \u001b[36m   6.1\u001b[0m │ \u001b[36m     0\u001b[0m │ \u001b[36m     3\u001b[0m │ \u001b[36m     9\u001b[0m │ \u001b[36m    40\u001b[0m │ \u001b[32m █▄▁▁  \u001b[0m │  │\n",
       "│ │ \u001b[38;5;141mYearsInCurrentRole        \u001b[0m │ \u001b[36m  0\u001b[0m │ \u001b[36m     0\u001b[0m │ \u001b[36m    4.2\u001b[0m │ \u001b[36m   3.6\u001b[0m │ \u001b[36m     0\u001b[0m │ \u001b[36m     2\u001b[0m │ \u001b[36m     7\u001b[0m │ \u001b[36m    18\u001b[0m │ \u001b[32m █▃▄▁  \u001b[0m │  │\n",
       "│ │ \u001b[38;5;141mYearsSinceLastPromot      \u001b[0m │ \u001b[36m  0\u001b[0m │ \u001b[36m     0\u001b[0m │ \u001b[36m    2.2\u001b[0m │ \u001b[36m   3.2\u001b[0m │ \u001b[36m     0\u001b[0m │ \u001b[36m     0\u001b[0m │ \u001b[36m     3\u001b[0m │ \u001b[36m    15\u001b[0m │ \u001b[32m  █▁▁  \u001b[0m │  │\n",
       "│ │ \u001b[38;5;141mYearsWithCurrManager      \u001b[0m │ \u001b[36m  0\u001b[0m │ \u001b[36m     0\u001b[0m │ \u001b[36m    4.1\u001b[0m │ \u001b[36m   3.6\u001b[0m │ \u001b[36m     0\u001b[0m │ \u001b[36m     2\u001b[0m │ \u001b[36m     7\u001b[0m │ \u001b[36m    17\u001b[0m │ \u001b[32m █▃▄▁  \u001b[0m │  │\n",
       "│ └────────────────────────────┴─────┴────────┴─────────┴────────┴────────┴────────┴────────┴────────┴─────────┘  │\n",
       "│ \u001b[3m                                                    string                                                    \u001b[0m  │\n",
       "│ ┏━━━━━━━━━━━━━━━━━━━━━━━━━━━━━━━┳━━━━━━━━┳━━━━━━━━━━━━┳━━━━━━━━━━━━━━━━━━━━━━━━━━━━━┳━━━━━━━━━━━━━━━━━━━━━━━━┓  │\n",
       "│ ┃\u001b[1m \u001b[0m\u001b[1mcolumn_name                  \u001b[0m\u001b[1m \u001b[0m┃\u001b[1m \u001b[0m\u001b[1mNA    \u001b[0m\u001b[1m \u001b[0m┃\u001b[1m \u001b[0m\u001b[1mNA %      \u001b[0m\u001b[1m \u001b[0m┃\u001b[1m \u001b[0m\u001b[1mwords per row              \u001b[0m\u001b[1m \u001b[0m┃\u001b[1m \u001b[0m\u001b[1mtotal words           \u001b[0m\u001b[1m \u001b[0m┃  │\n",
       "│ ┡━━━━━━━━━━━━━━━━━━━━━━━━━━━━━━━╇━━━━━━━━╇━━━━━━━━━━━━╇━━━━━━━━━━━━━━━━━━━━━━━━━━━━━╇━━━━━━━━━━━━━━━━━━━━━━━━┩  │\n",
       "│ │ \u001b[38;5;141mAttrition                    \u001b[0m │ \u001b[36m     0\u001b[0m │ \u001b[36m         0\u001b[0m │ \u001b[36m                          1\u001b[0m │ \u001b[36m                  1500\u001b[0m │  │\n",
       "│ │ \u001b[38;5;141mBusinessTravel               \u001b[0m │ \u001b[36m     0\u001b[0m │ \u001b[36m         0\u001b[0m │ \u001b[36m                          1\u001b[0m │ \u001b[36m                  1500\u001b[0m │  │\n",
       "│ │ \u001b[38;5;141mDepartment                   \u001b[0m │ \u001b[36m     0\u001b[0m │ \u001b[36m         0\u001b[0m │ \u001b[36m                          1\u001b[0m │ \u001b[36m                  1500\u001b[0m │  │\n",
       "│ │ \u001b[38;5;141mEducationField               \u001b[0m │ \u001b[36m     0\u001b[0m │ \u001b[36m         0\u001b[0m │ \u001b[36m                          1\u001b[0m │ \u001b[36m                  1500\u001b[0m │  │\n",
       "│ │ \u001b[38;5;141mGender                       \u001b[0m │ \u001b[36m     0\u001b[0m │ \u001b[36m         0\u001b[0m │ \u001b[36m                          1\u001b[0m │ \u001b[36m                  1500\u001b[0m │  │\n",
       "│ │ \u001b[38;5;141mJobRole                      \u001b[0m │ \u001b[36m     0\u001b[0m │ \u001b[36m         0\u001b[0m │ \u001b[36m                          1\u001b[0m │ \u001b[36m                  1500\u001b[0m │  │\n",
       "│ │ \u001b[38;5;141mMaritalStatus                \u001b[0m │ \u001b[36m     0\u001b[0m │ \u001b[36m         0\u001b[0m │ \u001b[36m                          1\u001b[0m │ \u001b[36m                  1500\u001b[0m │  │\n",
       "│ │ \u001b[38;5;141mOver18                       \u001b[0m │ \u001b[36m     0\u001b[0m │ \u001b[36m         0\u001b[0m │ \u001b[36m                          1\u001b[0m │ \u001b[36m                  1500\u001b[0m │  │\n",
       "│ │ \u001b[38;5;141mOverTime                     \u001b[0m │ \u001b[36m     0\u001b[0m │ \u001b[36m         0\u001b[0m │ \u001b[36m                          1\u001b[0m │ \u001b[36m                  1500\u001b[0m │  │\n",
       "│ └───────────────────────────────┴────────┴────────────┴─────────────────────────────┴────────────────────────┘  │\n",
       "╰────────────────────────────────────────────────────── End ──────────────────────────────────────────────────────╯\n"
      ]
     },
     "metadata": {},
     "output_type": "display_data"
    },
    {
     "name": "stdout",
     "output_type": "stream",
     "text": [
      "None\n"
     ]
    }
   ],
   "source": [
    "cat_cols=attrition.select_dtypes(include=object).columns.tolist()\n",
    "cat_df=pd.DataFrame(attrition[cat_cols].melt(var_name='column', value_name='value')\n",
    "                    .value_counts()).rename(columns={0: 'count'}).sort_values(by=['column', 'count'])\n",
    "display(cat_df)\n",
    "\n",
    "from skimpy import skim\n",
    "data=attrition\n",
    "print(skim(data))"
   ]
  },
  {
   "cell_type": "markdown",
   "metadata": {},
   "source": [
    "VARIABLE DE INTERÉS\n",
    "Attrition: corresponde a una variable binaria, la cual indica si el empleado abandonó la empresa o no (Yes, No).\n",
    "\n",
    "A partir de la figura se observa que de los 1470 registros de la base de datos, la cantidad de colaboradores que no tienen intención de desertar tiene mayor presentación con un porcentaje del 83.9%. La categoría de interés (colaboradores que tienen intensión de desertar) representa únicamente el 16.1%. Lo anterior evidencia que el conjunto de datos se encuentra desbalanceado, con menor representación de la categoría que se quiere predecir, lo que puede resultar en un problema en el rendimiento de los modelos de predicción, ya que la categoría minoritaria puede ser mayormente ignorada, lo cual podría limitar la aplicación del modelo para predecir la deserción de los colaboradores de la empresa."
   ]
  },
  {
   "cell_type": "code",
   "execution_count": 70,
   "metadata": {},
   "outputs": [
    {
     "name": "stdout",
     "output_type": "stream",
     "text": [
      "No     1233\n",
      "Yes     237\n",
      "Name: Attrition, dtype: Int64\n"
     ]
    },
    {
     "data": {
      "image/png": "[encoded data removed]",
      "text/plain": [
       "<Figure size 2000x800 with 1 Axes>"
      ]
     },
     "metadata": {},
     "output_type": "display_data"
    }
   ],
   "source": [
    "plt.figure(figsize=(20,8))\n",
    "sns.set(style='whitegrid')\n",
    "attrition['Attrition'].value_counts().plot(kind='pie',explode=[0.1,0.1],autopct='%1.1f%%',shadow=True,colors=['c','r'])\n",
    "print(attrition['Attrition'].value_counts())"
   ]
  },
  {
   "cell_type": "markdown",
   "metadata": {},
   "source": [
    "REPRESENTACIÓN DE HOMBRES Y MUJERES\n",
    "El 63.3% de los colaboradores son hombres, mientras que las mujeres corresponden al 36.7%. De igual forma, se evidencia que los hombres son los que mayor número de rotaciones han presentado. Respecto al ingreso mensual se encontró que para los dos géneros son similares."
   ]
  },
  {
   "cell_type": "code",
   "execution_count": 71,
   "metadata": {},
   "outputs": [
    {
     "data": {
      "application/vnd.plotly.v1+json": {
       "config": {
        "plotlyServerURL": "https://plot.ly"
       },
       "data": [
        {
         "hole": 0.4,
         "hovertemplate": "%{label}<br>Attrition Rate: %{value:.3}%<extra></extra>",
         "labels": [
          "Male",
          "Female"
         ],
         "marker": {
          "colors": [
           "Blue",
           "Red"
          ],
          "line": {
           "color": "#28221D",
           "width": 1
          }
         },
         "opacity": 0.85,
         "textfont": {
          "color": "black",
          "size": 14
         },
         "type": "pie",
         "values": [
          63.29113924050633,
          36.708860759493675
         ]
        }
       ],
       "layout": {
        "font": {
         "color": "#28221D"
        },
        "paper_bgcolor": "#F4F2F0",
        "plot_bgcolor": "#F4F2F0",
        "template": {
         "data": {
          "bar": [
           {
            "error_x": {
             "color": "#2a3f5f"
            },
            "error_y": {
             "color": "#2a3f5f"
            },
            "marker": {
             "line": {
              "color": "#E5ECF6",
              "width": 0.5
             },
             "pattern": {
              "fillmode": "overlay",
              "size": 10,
              "solidity": 0.2
             }
            },
            "type": "bar"
           }
          ],
          "barpolar": [
           {
            "marker": {
             "line": {
              "color": "#E5ECF6",
              "width": 0.5
             },
             "pattern": {
              "fillmode": "overlay",
              "size": 10,
              "solidity": 0.2
             }
            },
            "type": "barpolar"
           }
          ],
          "carpet": [
           {
            "aaxis": {
             "endlinecolor": "#2a3f5f",
             "gridcolor": "white",
             "linecolor": "white",
             "minorgridcolor": "white",
             "startlinecolor": "#2a3f5f"
            },
            "baxis": {
             "endlinecolor": "#2a3f5f",
             "gridcolor": "white",
             "linecolor": "white",
             "minorgridcolor": "white",
             "startlinecolor": "#2a3f5f"
            },
            "type": "carpet"
           }
          ],
          "choropleth": [
           {
            "colorbar": {
             "outlinewidth": 0,
             "ticks": ""
            },
            "type": "choropleth"
           }
          ],
          "contour": [
           {
            "colorbar": {
             "outlinewidth": 0,
             "ticks": ""
            },
            "colorscale": [
             [
              0,
              "#0d0887"
             ],
             [
              0.1111111111111111,
              "#46039f"
             ],
             [
              0.2222222222222222,
              "#7201a8"
             ],
             [
              0.3333333333333333,
              "#9c179e"
             ],
             [
              0.4444444444444444,
              "#bd3786"
             ],
             [
              0.5555555555555556,
              "#d8576b"
             ],
             [
              0.6666666666666666,
              "#ed7953"
             ],
             [
              0.7777777777777778,
              "#fb9f3a"
             ],
             [
              0.8888888888888888,
              "#fdca26"
             ],
             [
              1,
              "#f0f921"
             ]
            ],
            "type": "contour"
           }
          ],
          "contourcarpet": [
           {
            "colorbar": {
             "outlinewidth": 0,
             "ticks": ""
            },
            "type": "contourcarpet"
           }
          ],
          "heatmap": [
           {
            "colorbar": {
             "outlinewidth": 0,
             "ticks": ""
            },
            "colorscale": [
             [
              0,
              "#0d0887"
             ],
             [
              0.1111111111111111,
              "#46039f"
             ],
             [
              0.2222222222222222,
              "#7201a8"
             ],
             [
              0.3333333333333333,
              "#9c179e"
             ],
             [
              0.4444444444444444,
              "#bd3786"
             ],
             [
              0.5555555555555556,
              "#d8576b"
             ],
             [
              0.6666666666666666,
              "#ed7953"
             ],
             [
              0.7777777777777778,
              "#fb9f3a"
             ],
             [
              0.8888888888888888,
              "#fdca26"
             ],
             [
              1,
              "#f0f921"
             ]
            ],
            "type": "heatmap"
           }
          ],
          "heatmapgl": [
           {
            "colorbar": {
             "outlinewidth": 0,
             "ticks": ""
            },
            "colorscale": [
             [
              0,
              "#0d0887"
             ],
             [
              0.1111111111111111,
              "#46039f"
             ],
             [
              0.2222222222222222,
              "#7201a8"
             ],
             [
              0.3333333333333333,
              "#9c179e"
             ],
             [
              0.4444444444444444,
              "#bd3786"
             ],
             [
              0.5555555555555556,
              "#d8576b"
             ],
             [
              0.6666666666666666,
              "#ed7953"
             ],
             [
              0.7777777777777778,
              "#fb9f3a"
             ],
             [
              0.8888888888888888,
              "#fdca26"
             ],
             [
              1,
              "#f0f921"
             ]
            ],
            "type": "heatmapgl"
           }
          ],
          "histogram": [
           {
            "marker": {
             "pattern": {
              "fillmode": "overlay",
              "size": 10,
              "solidity": 0.2
             }
            },
            "type": "histogram"
           }
          ],
          "histogram2d": [
           {
            "colorbar": {
             "outlinewidth": 0,
             "ticks": ""
            },
            "colorscale": [
             [
              0,
              "#0d0887"
             ],
             [
              0.1111111111111111,
              "#46039f"
             ],
             [
              0.2222222222222222,
              "#7201a8"
             ],
             [
              0.3333333333333333,
              "#9c179e"
             ],
             [
              0.4444444444444444,
              "#bd3786"
             ],
             [
              0.5555555555555556,
              "#d8576b"
             ],
             [
              0.6666666666666666,
              "#ed7953"
             ],
             [
              0.7777777777777778,
              "#fb9f3a"
             ],
             [
              0.8888888888888888,
              "#fdca26"
             ],
             [
              1,
              "#f0f921"
             ]
            ],
            "type": "histogram2d"
           }
          ],
          "histogram2dcontour": [
           {
            "colorbar": {
             "outlinewidth": 0,
             "ticks": ""
            },
            "colorscale": [
             [
              0,
              "#0d0887"
             ],
             [
              0.1111111111111111,
              "#46039f"
             ],
             [
              0.2222222222222222,
              "#7201a8"
             ],
             [
              0.3333333333333333,
              "#9c179e"
             ],
             [
              0.4444444444444444,
              "#bd3786"
             ],
             [
              0.5555555555555556,
              "#d8576b"
             ],
             [
              0.6666666666666666,
              "#ed7953"
             ],
             [
              0.7777777777777778,
              "#fb9f3a"
             ],
             [
              0.8888888888888888,
              "#fdca26"
             ],
             [
              1,
              "#f0f921"
             ]
            ],
            "type": "histogram2dcontour"
           }
          ],
          "mesh3d": [
           {
            "colorbar": {
             "outlinewidth": 0,
             "ticks": ""
            },
            "type": "mesh3d"
           }
          ],
          "parcoords": [
           {
            "line": {
             "colorbar": {
              "outlinewidth": 0,
              "ticks": ""
             }
            },
            "type": "parcoords"
           }
          ],
          "pie": [
           {
            "automargin": true,
            "type": "pie"
           }
          ],
          "scatter": [
           {
            "fillpattern": {
             "fillmode": "overlay",
             "size": 10,
             "solidity": 0.2
            },
            "type": "scatter"
           }
          ],
          "scatter3d": [
           {
            "line": {
             "colorbar": {
              "outlinewidth": 0,
              "ticks": ""
             }
            },
            "marker": {
             "colorbar": {
              "outlinewidth": 0,
              "ticks": ""
             }
            },
            "type": "scatter3d"
           }
          ],
          "scattercarpet": [
           {
            "marker": {
             "colorbar": {
              "outlinewidth": 0,
              "ticks": ""
             }
            },
            "type": "scattercarpet"
           }
          ],
          "scattergeo": [
           {
            "marker": {
             "colorbar": {
              "outlinewidth": 0,
              "ticks": ""
             }
            },
            "type": "scattergeo"
           }
          ],
          "scattergl": [
           {
            "marker": {
             "colorbar": {
              "outlinewidth": 0,
              "ticks": ""
             }
            },
            "type": "scattergl"
           }
          ],
          "scattermapbox": [
           {
            "marker": {
             "colorbar": {
              "outlinewidth": 0,
              "ticks": ""
             }
            },
            "type": "scattermapbox"
           }
          ],
          "scatterpolar": [
           {
            "marker": {
             "colorbar": {
              "outlinewidth": 0,
              "ticks": ""
             }
            },
            "type": "scatterpolar"
           }
          ],
          "scatterpolargl": [
           {
            "marker": {
             "colorbar": {
              "outlinewidth": 0,
              "ticks": ""
             }
            },
            "type": "scatterpolargl"
           }
          ],
          "scatterternary": [
           {
            "marker": {
             "colorbar": {
              "outlinewidth": 0,
              "ticks": ""
             }
            },
            "type": "scatterternary"
           }
          ],
          "surface": [
           {
            "colorbar": {
             "outlinewidth": 0,
             "ticks": ""
            },
            "colorscale": [
             [
              0,
              "#0d0887"
             ],
             [
              0.1111111111111111,
              "#46039f"
             ],
             [
              0.2222222222222222,
              "#7201a8"
             ],
             [
              0.3333333333333333,
              "#9c179e"
             ],
             [
              0.4444444444444444,
              "#bd3786"
             ],
             [
              0.5555555555555556,
              "#d8576b"
             ],
             [
              0.6666666666666666,
              "#ed7953"
             ],
             [
              0.7777777777777778,
              "#fb9f3a"
             ],
             [
              0.8888888888888888,
              "#fdca26"
             ],
             [
              1,
              "#f0f921"
             ]
            ],
            "type": "surface"
           }
          ],
          "table": [
           {
            "cells": {
             "fill": {
              "color": "#EBF0F8"
             },
             "line": {
              "color": "white"
             }
            },
            "header": {
             "fill": {
              "color": "#C8D4E3"
             },
             "line": {
              "color": "white"
             }
            },
            "type": "table"
           }
          ]
         },
         "layout": {
          "annotationdefaults": {
           "arrowcolor": "#2a3f5f",
           "arrowhead": 0,
           "arrowwidth": 1
          },
          "autotypenumbers": "strict",
          "coloraxis": {
           "colorbar": {
            "outlinewidth": 0,
            "ticks": ""
           }
          },
          "colorscale": {
           "diverging": [
            [
             0,
             "#8e0152"
            ],
            [
             0.1,
             "#c51b7d"
            ],
            [
             0.2,
             "#de77ae"
            ],
            [
             0.3,
             "#f1b6da"
            ],
            [
             0.4,
             "#fde0ef"
            ],
            [
             0.5,
             "#f7f7f7"
            ],
            [
             0.6,
             "#e6f5d0"
            ],
            [
             0.7,
             "#b8e186"
            ],
            [
             0.8,
             "#7fbc41"
            ],
            [
             0.9,
             "#4d9221"
            ],
            [
             1,
             "#276419"
            ]
           ],
           "sequential": [
            [
             0,
             "#0d0887"
            ],
            [
             0.1111111111111111,
             "#46039f"
            ],
            [
             0.2222222222222222,
             "#7201a8"
            ],
            [
             0.3333333333333333,
             "#9c179e"
            ],
            [
             0.4444444444444444,
             "#bd3786"
            ],
            [
             0.5555555555555556,
             "#d8576b"
            ],
            [
             0.6666666666666666,
             "#ed7953"
            ],
            [
             0.7777777777777778,
             "#fb9f3a"
            ],
            [
             0.8888888888888888,
             "#fdca26"
            ],
            [
             1,
             "#f0f921"
            ]
           ],
           "sequentialminus": [
            [
             0,
             "#0d0887"
            ],
            [
             0.1111111111111111,
             "#46039f"
            ],
            [
             0.2222222222222222,
             "#7201a8"
            ],
            [
             0.3333333333333333,
             "#9c179e"
            ],
            [
             0.4444444444444444,
             "#bd3786"
            ],
            [
             0.5555555555555556,
             "#d8576b"
            ],
            [
             0.6666666666666666,
             "#ed7953"
            ],
            [
             0.7777777777777778,
             "#fb9f3a"
            ],
            [
             0.8888888888888888,
             "#fdca26"
            ],
            [
             1,
             "#f0f921"
            ]
           ]
          },
          "colorway": [
           "#636efa",
           "#EF553B",
           "#00cc96",
           "#ab63fa",
           "#FFA15A",
           "#19d3f3",
           "#FF6692",
           "#B6E880",
           "#FF97FF",
           "#FECB52"
          ],
          "font": {
           "color": "#2a3f5f"
          },
          "geo": {
           "bgcolor": "white",
           "lakecolor": "white",
           "landcolor": "#E5ECF6",
           "showlakes": true,
           "showland": true,
           "subunitcolor": "white"
          },
          "hoverlabel": {
           "align": "left"
          },
          "hovermode": "closest",
          "mapbox": {
           "style": "light"
          },
          "paper_bgcolor": "white",
          "plot_bgcolor": "#E5ECF6",
          "polar": {
           "angularaxis": {
            "gridcolor": "white",
            "linecolor": "white",
            "ticks": ""
           },
           "bgcolor": "#E5ECF6",
           "radialaxis": {
            "gridcolor": "white",
            "linecolor": "white",
            "ticks": ""
           }
          },
          "scene": {
           "xaxis": {
            "backgroundcolor": "#E5ECF6",
            "gridcolor": "white",
            "gridwidth": 2,
            "linecolor": "white",
            "showbackground": true,
            "ticks": "",
            "zerolinecolor": "white"
           },
           "yaxis": {
            "backgroundcolor": "#E5ECF6",
            "gridcolor": "white",
            "gridwidth": 2,
            "linecolor": "white",
            "showbackground": true,
            "ticks": "",
            "zerolinecolor": "white"
           },
           "zaxis": {
            "backgroundcolor": "#E5ECF6",
            "gridcolor": "white",
            "gridwidth": 2,
            "linecolor": "white",
            "showbackground": true,
            "ticks": "",
            "zerolinecolor": "white"
           }
          },
          "shapedefaults": {
           "line": {
            "color": "#2a3f5f"
           }
          },
          "ternary": {
           "aaxis": {
            "gridcolor": "white",
            "linecolor": "white",
            "ticks": ""
           },
           "baxis": {
            "gridcolor": "white",
            "linecolor": "white",
            "ticks": ""
           },
           "bgcolor": "#E5ECF6",
           "caxis": {
            "gridcolor": "white",
            "linecolor": "white",
            "ticks": ""
           }
          },
          "title": {
           "x": 0.05
          },
          "xaxis": {
           "automargin": true,
           "gridcolor": "white",
           "linecolor": "white",
           "ticks": "",
           "title": {
            "standoff": 15
           },
           "zerolinecolor": "white",
           "zerolinewidth": 2
          },
          "yaxis": {
           "automargin": true,
           "gridcolor": "white",
           "linecolor": "white",
           "ticks": "",
           "title": {
            "standoff": 15
           },
           "zerolinecolor": "white",
           "zerolinewidth": 2
          }
         }
        },
        "title": {
         "text": "Employee Attrition Statistics"
        },
        "yaxis": {
         "dtick": 5,
         "range": [
          0,
          90
         ],
         "tickmode": "array"
        }
       }
      }
     },
     "metadata": {},
     "output_type": "display_data"
    }
   ],
   "source": [
    "fig=go.Figure()\n",
    "plot_df2=attrition[attrition.Attrition=='Yes']\n",
    "plot_df2=plot_df2['Gender'].value_counts(normalize=True)\n",
    "plot_df2=plot_df2.mul(100).rename('Percent').reset_index().sort_values('Percent', ascending=False)\n",
    "plot_df2.rename(columns={'index':'Gender'}, inplace=True)\n",
    "fig.add_trace(go.Pie(labels=plot_df2['Gender'], values=plot_df2['Percent'], opacity=0.85, hole=0.4,\n",
    "                     hovertemplate='%{label}<br>Attrition Rate: %{value:.3}%<extra></extra>',\n",
    "                     marker_colors=['Blue','Red']))\n",
    "fig.update_yaxes(tickmode = 'array', range=[0, 90], dtick=5)\n",
    "fig.update_traces(textfont_size=14,textfont_color='black',marker=dict(line=dict(color='#28221D', width=1)))\n",
    "fig.update_layout(title_text=\"Employee Attrition Statistics\", font_color='#28221D',\n",
    "                  paper_bgcolor='#F4F2F0', plot_bgcolor='#F4F2F0')\n",
    "fig.show()"
   ]
  },
  {
   "cell_type": "code",
   "execution_count": 92,
   "metadata": {},
   "outputs": [
    {
     "data": {
      "application/vnd.plotly.v1+json": {
       "config": {
        "plotlyServerURL": "https://plot.ly"
       },
       "data": [
        {
         "alignmentgroup": "True",
         "hovertemplate": "Attrition=Yes<br>Gender=%{x}<br>Percent=%{text}<extra></extra>",
         "legendgroup": "Yes",
         "marker": {
          "color": "Green",
          "line": {
           "color": "#28221D",
           "width": 1
          },
          "opacity": 0.75,
          "pattern": {
           "shape": ""
          }
         },
         "name": "Yes",
         "offsetgroup": "Yes",
         "orientation": "v",
         "showlegend": true,
         "text": [
          14.795918367346939,
          17.006802721088434
         ],
         "textposition": "outside",
         "texttemplate": "%{text:.3s}%",
         "type": "bar",
         "width": 0.4,
         "x": [
          "Female",
          "Male"
         ],
         "xaxis": "x",
         "y": [
          14.795918367346939,
          17.006802721088434
         ],
         "yaxis": "y"
        },
        {
         "alignmentgroup": "True",
         "hovertemplate": "Attrition=No<br>Gender=%{x}<br>Percent=%{text}<extra></extra>",
         "legendgroup": "No",
         "marker": {
          "color": "Yellow",
          "line": {
           "color": "#28221D",
           "width": 1
          },
          "opacity": 0.75,
          "pattern": {
           "shape": ""
          }
         },
         "name": "No",
         "offsetgroup": "No",
         "orientation": "v",
         "showlegend": true,
         "text": [
          85.20408163265306,
          82.99319727891157
         ],
         "textposition": "outside",
         "texttemplate": "%{text:.3s}%",
         "type": "bar",
         "width": 0.4,
         "x": [
          "Female",
          "Male"
         ],
         "xaxis": "x",
         "y": [
          85.20408163265306,
          82.99319727891157
         ],
         "yaxis": "y"
        }
       ],
       "layout": {
        "barmode": "group",
        "font": {
         "color": "#28221D"
        },
        "height": 500,
        "legend": {
         "title": {
          "text": "Attrition"
         },
         "tracegroupgap": 0
        },
        "margin": {
         "t": 60
        },
        "paper_bgcolor": "#F4F2F0",
        "plot_bgcolor": "#F4F2F0",
        "template": {
         "data": {
          "bar": [
           {
            "error_x": {
             "color": "#2a3f5f"
            },
            "error_y": {
             "color": "#2a3f5f"
            },
            "marker": {
             "line": {
              "color": "#E5ECF6",
              "width": 0.5
             },
             "pattern": {
              "fillmode": "overlay",
              "size": 10,
              "solidity": 0.2
             }
            },
            "type": "bar"
           }
          ],
          "barpolar": [
           {
            "marker": {
             "line": {
              "color": "#E5ECF6",
              "width": 0.5
             },
             "pattern": {
              "fillmode": "overlay",
              "size": 10,
              "solidity": 0.2
             }
            },
            "type": "barpolar"
           }
          ],
          "carpet": [
           {
            "aaxis": {
             "endlinecolor": "#2a3f5f",
             "gridcolor": "white",
             "linecolor": "white",
             "minorgridcolor": "white",
             "startlinecolor": "#2a3f5f"
            },
            "baxis": {
             "endlinecolor": "#2a3f5f",
             "gridcolor": "white",
             "linecolor": "white",
             "minorgridcolor": "white",
             "startlinecolor": "#2a3f5f"
            },
            "type": "carpet"
           }
          ],
          "choropleth": [
           {
            "colorbar": {
             "outlinewidth": 0,
             "ticks": ""
            },
            "type": "choropleth"
           }
          ],
          "contour": [
           {
            "colorbar": {
             "outlinewidth": 0,
             "ticks": ""
            },
            "colorscale": [
             [
              0,
              "#0d0887"
             ],
             [
              0.1111111111111111,
              "#46039f"
             ],
             [
              0.2222222222222222,
              "#7201a8"
             ],
             [
              0.3333333333333333,
              "#9c179e"
             ],
             [
              0.4444444444444444,
              "#bd3786"
             ],
             [
              0.5555555555555556,
              "#d8576b"
             ],
             [
              0.6666666666666666,
              "#ed7953"
             ],
             [
              0.7777777777777778,
              "#fb9f3a"
             ],
             [
              0.8888888888888888,
              "#fdca26"
             ],
             [
              1,
              "#f0f921"
             ]
            ],
            "type": "contour"
           }
          ],
          "contourcarpet": [
           {
            "colorbar": {
             "outlinewidth": 0,
             "ticks": ""
            },
            "type": "contourcarpet"
           }
          ],
          "heatmap": [
           {
            "colorbar": {
             "outlinewidth": 0,
             "ticks": ""
            },
            "colorscale": [
             [
              0,
              "#0d0887"
             ],
             [
              0.1111111111111111,
              "#46039f"
             ],
             [
              0.2222222222222222,
              "#7201a8"
             ],
             [
              0.3333333333333333,
              "#9c179e"
             ],
             [
              0.4444444444444444,
              "#bd3786"
             ],
             [
              0.5555555555555556,
              "#d8576b"
             ],
             [
              0.6666666666666666,
              "#ed7953"
             ],
             [
              0.7777777777777778,
              "#fb9f3a"
             ],
             [
              0.8888888888888888,
              "#fdca26"
             ],
             [
              1,
              "#f0f921"
             ]
            ],
            "type": "heatmap"
           }
          ],
          "heatmapgl": [
           {
            "colorbar": {
             "outlinewidth": 0,
             "ticks": ""
            },
            "colorscale": [
             [
              0,
              "#0d0887"
             ],
             [
              0.1111111111111111,
              "#46039f"
             ],
             [
              0.2222222222222222,
              "#7201a8"
             ],
             [
              0.3333333333333333,
              "#9c179e"
             ],
             [
              0.4444444444444444,
              "#bd3786"
             ],
             [
              0.5555555555555556,
              "#d8576b"
             ],
             [
              0.6666666666666666,
              "#ed7953"
             ],
             [
              0.7777777777777778,
              "#fb9f3a"
             ],
             [
              0.8888888888888888,
              "#fdca26"
             ],
             [
              1,
              "#f0f921"
             ]
            ],
            "type": "heatmapgl"
           }
          ],
          "histogram": [
           {
            "marker": {
             "pattern": {
              "fillmode": "overlay",
              "size": 10,
              "solidity": 0.2
             }
            },
            "type": "histogram"
           }
          ],
          "histogram2d": [
           {
            "colorbar": {
             "outlinewidth": 0,
             "ticks": ""
            },
            "colorscale": [
             [
              0,
              "#0d0887"
             ],
             [
              0.1111111111111111,
              "#46039f"
             ],
             [
              0.2222222222222222,
              "#7201a8"
             ],
             [
              0.3333333333333333,
              "#9c179e"
             ],
             [
              0.4444444444444444,
              "#bd3786"
             ],
             [
              0.5555555555555556,
              "#d8576b"
             ],
             [
              0.6666666666666666,
              "#ed7953"
             ],
             [
              0.7777777777777778,
              "#fb9f3a"
             ],
             [
              0.8888888888888888,
              "#fdca26"
             ],
             [
              1,
              "#f0f921"
             ]
            ],
            "type": "histogram2d"
           }
          ],
          "histogram2dcontour": [
           {
            "colorbar": {
             "outlinewidth": 0,
             "ticks": ""
            },
            "colorscale": [
             [
              0,
              "#0d0887"
             ],
             [
              0.1111111111111111,
              "#46039f"
             ],
             [
              0.2222222222222222,
              "#7201a8"
             ],
             [
              0.3333333333333333,
              "#9c179e"
             ],
             [
              0.4444444444444444,
              "#bd3786"
             ],
             [
              0.5555555555555556,
              "#d8576b"
             ],
             [
              0.6666666666666666,
              "#ed7953"
             ],
             [
              0.7777777777777778,
              "#fb9f3a"
             ],
             [
              0.8888888888888888,
              "#fdca26"
             ],
             [
              1,
              "#f0f921"
             ]
            ],
            "type": "histogram2dcontour"
           }
          ],
          "mesh3d": [
           {
            "colorbar": {
             "outlinewidth": 0,
             "ticks": ""
            },
            "type": "mesh3d"
           }
          ],
          "parcoords": [
           {
            "line": {
             "colorbar": {
              "outlinewidth": 0,
              "ticks": ""
             }
            },
            "type": "parcoords"
           }
          ],
          "pie": [
           {
            "automargin": true,
            "type": "pie"
           }
          ],
          "scatter": [
           {
            "fillpattern": {
             "fillmode": "overlay",
             "size": 10,
             "solidity": 0.2
            },
            "type": "scatter"
           }
          ],
          "scatter3d": [
           {
            "line": {
             "colorbar": {
              "outlinewidth": 0,
              "ticks": ""
             }
            },
            "marker": {
             "colorbar": {
              "outlinewidth": 0,
              "ticks": ""
             }
            },
            "type": "scatter3d"
           }
          ],
          "scattercarpet": [
           {
            "marker": {
             "colorbar": {
              "outlinewidth": 0,
              "ticks": ""
             }
            },
            "type": "scattercarpet"
           }
          ],
          "scattergeo": [
           {
            "marker": {
             "colorbar": {
              "outlinewidth": 0,
              "ticks": ""
             }
            },
            "type": "scattergeo"
           }
          ],
          "scattergl": [
           {
            "marker": {
             "colorbar": {
              "outlinewidth": 0,
              "ticks": ""
             }
            },
            "type": "scattergl"
           }
          ],
          "scattermapbox": [
           {
            "marker": {
             "colorbar": {
              "outlinewidth": 0,
              "ticks": ""
             }
            },
            "type": "scattermapbox"
           }
          ],
          "scatterpolar": [
           {
            "marker": {
             "colorbar": {
              "outlinewidth": 0,
              "ticks": ""
             }
            },
            "type": "scatterpolar"
           }
          ],
          "scatterpolargl": [
           {
            "marker": {
             "colorbar": {
              "outlinewidth": 0,
              "ticks": ""
             }
            },
            "type": "scatterpolargl"
           }
          ],
          "scatterternary": [
           {
            "marker": {
             "colorbar": {
              "outlinewidth": 0,
              "ticks": ""
             }
            },
            "type": "scatterternary"
           }
          ],
          "surface": [
           {
            "colorbar": {
             "outlinewidth": 0,
             "ticks": ""
            },
            "colorscale": [
             [
              0,
              "#0d0887"
             ],
             [
              0.1111111111111111,
              "#46039f"
             ],
             [
              0.2222222222222222,
              "#7201a8"
             ],
             [
              0.3333333333333333,
              "#9c179e"
             ],
             [
              0.4444444444444444,
              "#bd3786"
             ],
             [
              0.5555555555555556,
              "#d8576b"
             ],
             [
              0.6666666666666666,
              "#ed7953"
             ],
             [
              0.7777777777777778,
              "#fb9f3a"
             ],
             [
              0.8888888888888888,
              "#fdca26"
             ],
             [
              1,
              "#f0f921"
             ]
            ],
            "type": "surface"
           }
          ],
          "table": [
           {
            "cells": {
             "fill": {
              "color": "#EBF0F8"
             },
             "line": {
              "color": "white"
             }
            },
            "header": {
             "fill": {
              "color": "#C8D4E3"
             },
             "line": {
              "color": "white"
             }
            },
            "type": "table"
           }
          ]
         },
         "layout": {
          "annotationdefaults": {
           "arrowcolor": "#2a3f5f",
           "arrowhead": 0,
           "arrowwidth": 1
          },
          "autotypenumbers": "strict",
          "coloraxis": {
           "colorbar": {
            "outlinewidth": 0,
            "ticks": ""
           }
          },
          "colorscale": {
           "diverging": [
            [
             0,
             "#8e0152"
            ],
            [
             0.1,
             "#c51b7d"
            ],
            [
             0.2,
             "#de77ae"
            ],
            [
             0.3,
             "#f1b6da"
            ],
            [
             0.4,
             "#fde0ef"
            ],
            [
             0.5,
             "#f7f7f7"
            ],
            [
             0.6,
             "#e6f5d0"
            ],
            [
             0.7,
             "#b8e186"
            ],
            [
             0.8,
             "#7fbc41"
            ],
            [
             0.9,
             "#4d9221"
            ],
            [
             1,
             "#276419"
            ]
           ],
           "sequential": [
            [
             0,
             "#0d0887"
            ],
            [
             0.1111111111111111,
             "#46039f"
            ],
            [
             0.2222222222222222,
             "#7201a8"
            ],
            [
             0.3333333333333333,
             "#9c179e"
            ],
            [
             0.4444444444444444,
             "#bd3786"
            ],
            [
             0.5555555555555556,
             "#d8576b"
            ],
            [
             0.6666666666666666,
             "#ed7953"
            ],
            [
             0.7777777777777778,
             "#fb9f3a"
            ],
            [
             0.8888888888888888,
             "#fdca26"
            ],
            [
             1,
             "#f0f921"
            ]
           ],
           "sequentialminus": [
            [
             0,
             "#0d0887"
            ],
            [
             0.1111111111111111,
             "#46039f"
            ],
            [
             0.2222222222222222,
             "#7201a8"
            ],
            [
             0.3333333333333333,
             "#9c179e"
            ],
            [
             0.4444444444444444,
             "#bd3786"
            ],
            [
             0.5555555555555556,
             "#d8576b"
            ],
            [
             0.6666666666666666,
             "#ed7953"
            ],
            [
             0.7777777777777778,
             "#fb9f3a"
            ],
            [
             0.8888888888888888,
             "#fdca26"
            ],
            [
             1,
             "#f0f921"
            ]
           ]
          },
          "colorway": [
           "#636efa",
           "#EF553B",
           "#00cc96",
           "#ab63fa",
           "#FFA15A",
           "#19d3f3",
           "#FF6692",
           "#B6E880",
           "#FF97FF",
           "#FECB52"
          ],
          "font": {
           "color": "#2a3f5f"
          },
          "geo": {
           "bgcolor": "white",
           "lakecolor": "white",
           "landcolor": "#E5ECF6",
           "showlakes": true,
           "showland": true,
           "subunitcolor": "white"
          },
          "hoverlabel": {
           "align": "left"
          },
          "hovermode": "closest",
          "mapbox": {
           "style": "light"
          },
          "paper_bgcolor": "white",
          "plot_bgcolor": "#E5ECF6",
          "polar": {
           "angularaxis": {
            "gridcolor": "white",
            "linecolor": "white",
            "ticks": ""
           },
           "bgcolor": "#E5ECF6",
           "radialaxis": {
            "gridcolor": "white",
            "linecolor": "white",
            "ticks": ""
           }
          },
          "scene": {
           "xaxis": {
            "backgroundcolor": "#E5ECF6",
            "gridcolor": "white",
            "gridwidth": 2,
            "linecolor": "white",
            "showbackground": true,
            "ticks": "",
            "zerolinecolor": "white"
           },
           "yaxis": {
            "backgroundcolor": "#E5ECF6",
            "gridcolor": "white",
            "gridwidth": 2,
            "linecolor": "white",
            "showbackground": true,
            "ticks": "",
            "zerolinecolor": "white"
           },
           "zaxis": {
            "backgroundcolor": "#E5ECF6",
            "gridcolor": "white",
            "gridwidth": 2,
            "linecolor": "white",
            "showbackground": true,
            "ticks": "",
            "zerolinecolor": "white"
           }
          },
          "shapedefaults": {
           "line": {
            "color": "#2a3f5f"
           }
          },
          "ternary": {
           "aaxis": {
            "gridcolor": "white",
            "linecolor": "white",
            "ticks": ""
           },
           "baxis": {
            "gridcolor": "white",
            "linecolor": "white",
            "ticks": ""
           },
           "bgcolor": "#E5ECF6",
           "caxis": {
            "gridcolor": "white",
            "linecolor": "white",
            "ticks": ""
           }
          },
          "title": {
           "x": 0.05
          },
          "xaxis": {
           "automargin": true,
           "gridcolor": "white",
           "linecolor": "white",
           "ticks": "",
           "title": {
            "standoff": 15
           },
           "zerolinecolor": "white",
           "zerolinewidth": 2
          },
          "yaxis": {
           "automargin": true,
           "gridcolor": "white",
           "linecolor": "white",
           "ticks": "",
           "title": {
            "standoff": 15
           },
           "zerolinecolor": "white",
           "zerolinewidth": 2
          }
         }
        },
        "title": {
         "text": "Tasa de rotación según género"
        },
        "xaxis": {
         "anchor": "y",
         "domain": [
          0,
          1
         ],
         "tickangle": 30,
         "title": {
          "text": "Género"
         }
        },
        "yaxis": {
         "anchor": "x",
         "domain": [
          0,
          1
         ],
         "ticksuffix": "%",
         "title": {
          "text": "Porcentaje"
         },
         "zeroline": true,
         "zerolinecolor": "#28221D",
         "zerolinewidth": 1
        }
       }
      }
     },
     "metadata": {},
     "output_type": "display_data"
    }
   ],
   "source": [
    "plot_df = attrition.groupby(['Gender'])['Attrition'].value_counts(normalize=True)\n",
    "plot_df = plot_df.mul(100).rename('Percent').reset_index()\n",
    "figsex = px.bar(plot_df, x=\"Gender\", y=\"Percent\", color=\"Attrition\", barmode=\"group\",\n",
    "            text='Percent', opacity=.75, category_orders={'Attrition': ['Yes', 'No']},\n",
    "            color_discrete_map={'Yes': 'Green','No': 'Yellow'}) \n",
    "figsex.update_traces(texttemplate='%{text:.3s}%', textposition='outside',\n",
    "                  marker_line=dict(width=1, color='#28221D'),  width=.4)\n",
    "figsex.update_layout(title_text='Tasa de rotación según género', yaxis_ticksuffix = '%',\n",
    "                  paper_bgcolor='#F4F2F0', plot_bgcolor='#F4F2F0',font_color='#28221D',\n",
    "                  height=500, xaxis=dict(tickangle=30), )\n",
    "figsex.update_xaxes(showticklabels=True,tickangle=30,col=2)\n",
    "figsex.update_yaxes(title = \"\", zeroline=True, zerolinewidth=1, zerolinecolor='#28221D')\n",
    "figsex.update_layout(xaxis_title=\"Género\", yaxis_title=\"Porcentaje\")\n",
    "figsex.show()"
   ]
  },
  {
   "cell_type": "code",
   "execution_count": 91,
   "metadata": {},
   "outputs": [
    {
     "data": {
      "application/vnd.plotly.v1+json": {
       "config": {
        "plotlyServerURL": "https://plot.ly"
       },
       "data": [
        {
         "line": {
          "color": "#FFA6CC"
         },
         "name": "Male",
         "notched": true,
         "type": "box",
         "x": [
          "Male",
          "Male",
          "Male",
          "Male",
          "Male",
          "Male",
          "Male",
          "Male",
          "Male",
          "Male",
          "Male",
          "Male",
          "Male",
          "Male",
          "Male",
          "Male",
          "Male",
          "Male",
          "Male",
          "Male",
          "Male",
          "Male",
          "Male",
          "Male",
          "Male",
          "Male",
          "Male",
          "Male",
          "Male",
          "Male",
          "Male",
          "Male",
          "Male",
          "Male",
          "Male",
          "Male",
          "Male",
          "Male",
          "Male",
          "Male",
          "Male",
          "Male",
          "Male",
          "Male",
          "Male",
          "Male",
          "Male",
          "Male",
          "Male",
          "Male",
          "Male",
          "Male",
          "Male",
          "Male",
          "Male",
          "Male",
          "Male",
          "Male",
          "Male",
          "Male",
          "Male",
          "Male",
          "Male",
          "Male",
          "Male",
          "Male",
          "Male",
          "Male",
          "Male",
          "Male",
          "Male",
          "Male",
          "Male",
          "Male",
          "Male",
          "Male",
          "Male",
          "Male",
          "Male",
          "Male",
          "Male",
          "Male",
          "Male",
          "Male",
          "Male",
          "Male",
          "Male",
          "Male",
          "Male",
          "Male",
          "Male",
          "Male",
          "Male",
          "Male",
          "Male",
          "Male",
          "Male",
          "Male",
          "Male",
          "Male",
          "Male",
          "Male",
          "Male",
          "Male",
          "Male",
          "Male",
          "Male",
          "Male",
          "Male",
          "Male",
          "Male",
          "Male",
          "Male",
          "Male",
          "Male",
          "Male",
          "Male",
          "Male",
          "Male",
          "Male",
          "Male",
          "Male",
          "Male",
          "Male",
          "Male",
          "Male",
          "Male",
          "Male",
          "Male",
          "Male",
          "Male",
          "Male",
          "Male",
          "Male",
          "Male",
          "Male",
          "Male",
          "Male",
          "Male",
          "Male",
          "Male",
          "Male",
          "Male",
          "Male",
          "Male",
          "Male",
          "Male",
          "Male",
          "Male",
          "Male",
          "Male",
          "Male",
          "Male",
          "Male",
          "Male",
          "Male",
          "Male",
          "Male",
          "Male",
          "Male",
          "Male",
          "Male",
          "Male",
          "Male",
          "Male",
          "Male",
          "Male",
          "Male",
          "Male",
          "Male",
          "Male",
          "Male",
          "Male",
          "Male",
          "Male",
          "Male",
          "Male",
          "Male",
          "Male",
          "Male",
          "Male",
          "Male",
          "Male",
          "Male",
          "Male",
          "Male",
          "Male",
          "Male",
          "Male",
          "Male",
          "Male",
          "Male",
          "Male",
          "Male",
          "Male",
          "Male",
          "Male",
          "Male",
          "Male",
          "Male",
          "Male",
          "Male",
          "Male",
          "Male",
          "Male",
          "Male",
          "Male",
          "Male",
          "Male",
          "Male",
          "Male",
          "Male",
          "Male",
          "Male",
          "Male",
          "Male",
          "Male",
          "Male",
          "Male",
          "Male",
          "Male",
          "Male",
          "Male",
          "Male",
          "Male",
          "Male",
          "Male",
          "Male",
          "Male",
          "Male",
          "Male",
          "Male",
          "Male",
          "Male",
          "Male",
          "Male",
          "Male",
          "Male",
          "Male",
          "Male",
          "Male",
          "Male",
          "Male",
          "Male",
          "Male",
          "Male",
          "Male",
          "Male",
          "Male",
          "Male",
          "Male",
          "Male",
          "Male",
          "Male",
          "Male",
          "Male",
          "Male",
          "Male",
          "Male",
          "Male",
          "Male",
          "Male",
          "Male",
          "Male",
          "Male",
          "Male",
          "Male",
          "Male",
          "Male",
          "Male",
          "Male",
          "Male",
          "Male",
          "Male",
          "Male",
          "Male",
          "Male",
          "Male",
          "Male",
          "Male",
          "Male",
          "Male",
          "Male",
          "Male",
          "Male",
          "Male",
          "Male",
          "Male",
          "Male",
          "Male",
          "Male",
          "Male",
          "Male",
          "Male",
          "Male",
          "Male",
          "Male",
          "Male",
          "Male",
          "Male",
          "Male",
          "Male",
          "Male",
          "Male",
          "Male",
          "Male",
          "Male",
          "Male",
          "Male",
          "Male",
          "Male",
          "Male",
          "Male",
          "Male",
          "Male",
          "Male",
          "Male",
          "Male",
          "Male",
          "Male",
          "Male",
          "Male",
          "Male",
          "Male",
          "Male",
          "Male",
          "Male",
          "Male",
          "Male",
          "Male",
          "Male",
          "Male",
          "Male",
          "Male",
          "Male",
          "Male",
          "Male",
          "Male",
          "Male",
          "Male",
          "Male",
          "Male",
          "Male",
          "Male",
          "Male",
          "Male",
          "Male",
          "Male",
          "Male",
          "Male",
          "Male",
          "Male",
          "Male",
          "Male",
          "Male",
          "Male",
          "Male",
          "Male",
          "Male",
          "Male",
          "Male",
          "Male",
          "Male",
          "Male",
          "Male",
          "Male",
          "Male",
          "Male",
          "Male",
          "Male",
          "Male",
          "Male",
          "Male",
          "Male",
          "Male",
          "Male",
          "Male",
          "Male",
          "Male",
          "Male",
          "Male",
          "Male",
          "Male",
          "Male",
          "Male",
          "Male",
          "Male",
          "Male",
          "Male",
          "Male",
          "Male",
          "Male",
          "Male",
          "Male",
          "Male",
          "Male",
          "Male",
          "Male",
          "Male",
          "Male",
          "Male",
          "Male",
          "Male",
          "Male",
          "Male",
          "Male",
          "Male",
          "Male",
          "Male",
          "Male",
          "Male",
          "Male",
          "Male",
          "Male",
          "Male",
          "Male",
          "Male",
          "Male",
          "Male",
          "Male",
          "Male",
          "Male",
          "Male",
          "Male",
          "Male",
          "Male",
          "Male",
          "Male",
          "Male",
          "Male",
          "Male",
          "Male",
          "Male",
          "Male",
          "Male",
          "Male",
          "Male",
          "Male",
          "Male",
          "Male",
          "Male",
          "Male",
          "Male",
          "Male",
          "Male",
          "Male",
          "Male",
          "Male",
          "Male",
          "Male",
          "Male",
          "Male",
          "Male",
          "Male",
          "Male",
          "Male",
          "Male",
          "Male",
          "Male",
          "Male",
          "Male",
          "Male",
          "Male",
          "Male",
          "Male",
          "Male",
          "Male",
          "Male",
          "Male",
          "Male",
          "Male",
          "Male",
          "Male",
          "Male",
          "Male",
          "Male",
          "Male",
          "Male",
          "Male",
          "Male",
          "Male",
          "Male",
          "Male",
          "Male",
          "Male",
          "Male",
          "Male",
          "Male",
          "Male",
          "Male",
          "Male",
          "Male",
          "Male",
          "Male",
          "Male",
          "Male",
          "Male",
          "Male",
          "Male",
          "Male",
          "Male",
          "Male",
          "Male",
          "Male",
          "Male",
          "Male",
          "Male",
          "Male",
          "Male",
          "Male",
          "Male",
          "Male",
          "Male",
          "Male",
          "Male",
          "Male",
          "Male",
          "Male",
          "Male",
          "Male",
          "Male",
          "Male",
          "Male",
          "Male",
          "Male",
          "Male",
          "Male",
          "Male",
          "Male",
          "Male",
          "Male",
          "Male",
          "Male",
          "Male",
          "Male",
          "Male",
          "Male",
          "Male",
          "Male",
          "Male",
          "Male",
          "Male",
          "Male",
          "Male",
          "Male",
          "Male",
          "Male",
          "Male",
          "Male",
          "Male",
          "Male",
          "Male",
          "Male",
          "Male",
          "Male",
          "Male",
          "Male",
          "Male",
          "Male",
          "Male",
          "Male",
          "Male",
          "Male",
          "Male",
          "Male",
          "Male",
          "Male",
          "Male",
          "Male",
          "Male",
          "Male",
          "Male",
          "Male",
          "Male",
          "Male",
          "Male",
          "Male",
          "Male",
          "Male",
          "Male",
          "Male",
          "Male",
          "Male",
          "Male",
          "Male",
          "Male",
          "Male",
          "Male",
          "Male",
          "Male",
          "Male",
          "Male",
          "Male",
          "Male",
          "Male",
          "Male",
          "Male",
          "Male",
          "Male",
          "Male",
          "Male",
          "Male",
          "Male",
          "Male",
          "Male",
          "Male",
          "Male",
          "Male",
          "Male",
          "Male",
          "Male",
          "Male",
          "Male",
          "Male",
          "Male",
          "Male",
          "Male",
          "Male",
          "Male",
          "Male",
          "Male",
          "Male",
          "Male",
          "Male",
          "Male",
          "Male",
          "Male",
          "Male",
          "Male",
          "Male",
          "Male",
          "Male",
          "Male",
          "Male",
          "Male",
          "Male",
          "Male",
          "Male",
          "Male",
          "Male",
          "Male",
          "Male",
          "Male",
          "Male",
          "Male",
          "Male",
          "Male",
          "Male",
          "Male",
          "Male",
          "Male",
          "Male",
          "Male",
          "Male",
          "Male",
          "Male",
          "Male",
          "Male",
          "Male",
          "Male",
          "Male",
          "Male",
          "Male",
          "Male",
          "Male",
          "Male",
          "Male",
          "Male",
          "Male",
          "Male",
          "Male",
          "Male",
          "Male",
          "Male",
          "Male",
          "Male",
          "Male",
          "Male",
          "Male",
          "Male",
          "Male",
          "Male",
          "Male",
          "Male",
          "Male",
          "Male",
          "Male",
          "Male",
          "Male",
          "Male",
          "Male",
          "Male",
          "Male",
          "Male",
          "Male",
          "Male",
          "Male",
          "Male",
          "Male",
          "Male",
          "Male",
          "Male",
          "Male",
          "Male",
          "Male",
          "Male",
          "Male",
          "Male",
          "Male",
          "Male",
          "Male",
          "Male",
          "Male",
          "Male",
          "Male",
          "Male",
          "Male",
          "Male",
          "Male",
          "Male",
          "Male",
          "Male",
          "Male",
          "Male",
          "Male",
          "Male",
          "Male",
          "Male",
          "Male",
          "Male",
          "Male",
          "Male",
          "Male",
          "Male",
          "Male",
          "Male",
          "Male",
          "Male",
          "Male",
          "Male",
          "Male",
          "Male",
          "Male",
          "Male",
          "Male",
          "Male",
          "Male",
          "Male",
          "Male",
          "Male",
          "Male",
          "Male",
          "Male",
          "Male",
          "Male",
          "Male",
          "Male",
          "Male",
          "Male",
          "Male",
          "Male",
          "Male",
          "Male",
          "Male",
          "Male",
          "Male",
          "Male",
          "Male",
          "Male",
          "Male",
          "Male",
          "Male",
          "Male",
          "Male",
          "Male",
          "Male",
          "Male",
          "Male",
          "Male",
          "Male",
          "Male",
          "Male",
          "Male",
          "Male",
          "Male",
          "Male",
          "Male",
          "Male",
          "Male",
          "Male",
          "Male",
          "Male",
          "Male",
          "Male",
          "Male",
          "Male",
          "Male",
          "Male",
          "Male",
          "Male",
          "Male",
          "Male",
          "Male",
          "Male",
          "Male",
          "Male",
          "Male",
          "Male",
          "Male",
          "Male",
          "Male",
          "Male",
          "Male",
          "Male",
          "Male",
          "Male",
          "Male",
          "Male",
          "Male",
          "Male",
          "Male",
          "Male",
          "Male",
          "Male",
          "Male",
          "Male",
          "Male",
          "Male",
          "Male",
          "Male",
          "Male",
          "Male",
          "Male",
          "Male",
          "Male",
          "Male",
          "Male",
          "Male",
          "Male",
          "Male",
          "Male",
          "Male",
          "Male",
          "Male",
          "Male",
          "Male",
          "Male",
          "Male",
          "Male",
          "Male",
          "Male",
          "Male",
          "Male",
          "Male",
          "Male",
          "Male",
          "Male",
          "Male",
          "Male",
          "Male",
          "Male",
          "Male",
          "Male",
          "Male",
          "Male",
          "Male",
          "Male",
          "Male",
          "Male",
          "Male",
          "Male",
          "Male",
          "Male",
          "Male",
          "Male",
          "Male",
          "Male",
          "Male",
          "Male",
          "Male",
          "Male",
          "Male"
         ],
         "y": [
          6077,
          6883,
          6623,
          2042,
          16015,
          2610,
          2700,
          6465,
          2145,
          6347,
          2644,
          2696,
          2720,
          11691,
          7140,
          17924,
          9250,
          4724,
          2728,
          4152,
          9362,
          7823,
          4936,
          2380,
          6781,
          2404,
          3886,
          2523,
          2795,
          18213,
          3505,
          10609,
          2293,
          9998,
          10883,
          8237,
          10221,
          5415,
          2662,
          7005,
          4735,
          8726,
          2372,
          4325,
          6288,
          5021,
          5768,
          17159,
          4821,
          19502,
          4213,
          17181,
          4035,
          2086,
          14336,
          4558,
          4717,
          3500,
          2858,
          2559,
          8834,
          5914,
          5399,
          2387,
          4108,
          1706,
          5304,
          1904,
          3691,
          5915,
          4759,
          7847,
          3681,
          7779,
          4294,
          6179,
          10854,
          2472,
          13245,
          4724,
          16291,
          2451,
          2408,
          2654,
          3069,
          5347,
          2973,
          2799,
          2679,
          3210,
          5507,
          7264,
          5063,
          10124,
          10855,
          2348,
          19627,
          2610,
          2774,
          2028,
          2660,
          18430,
          7351,
          2515,
          5126,
          13675,
          4766,
          12936,
          6472,
          15379,
          4401,
          2580,
          2119,
          3298,
          19202,
          2362,
          13872,
          9069,
          2683,
          5744,
          3022,
          16437,
          1702,
          3743,
          9724,
          10448,
          6931,
          6796,
          3600,
          2703,
          5405,
          5577,
          2451,
          4306,
          2956,
          2258,
          9602,
          7898,
          2564,
          6334,
          2613,
          2144,
          4907,
          10322,
          4876,
          17603,
          9439,
          3452,
          3902,
          4069,
          19740,
          4541,
          8500,
          4898,
          5098,
          5772,
          10851,
          9705,
          6384,
          9610,
          2519,
          9434,
          7991,
          6232,
          1102,
          2277,
          4684,
          2093,
          3730,
          19419,
          5067,
          2570,
          19431,
          13402,
          19232,
          4071,
          5249,
          19246,
          8853,
          14026,
          18711,
          2307,
          4440,
          3441,
          3420,
          6673,
          4721,
          6261,
          5071,
          2693,
          6172,
          6142,
          2773,
          17068,
          2272,
          9957,
          3033,
          10793,
          3539,
          17465,
          9679,
          19613,
          3904,
          4194,
          5661,
          2479,
          1052,
          10845,
          1878,
          4240,
          7880,
          8463,
          2267,
          2439,
          4771,
          4078,
          7260,
          5993,
          4189,
          4707,
          2107,
          4485,
          3537,
          2821,
          3904,
          7441,
          2062,
          10445,
          2024,
          4682,
          7104,
          2342,
          3162,
          4534,
          7428,
          9714,
          4233,
          5321,
          2028,
          4661,
          19081,
          5869,
          6578,
          2571,
          8628,
          1281,
          6434,
          5743,
          2686,
          17567,
          6132,
          3230,
          17099,
          6586,
          9725,
          4320,
          2269,
          19328,
          5163,
          2844,
          9241,
          2909,
          9980,
          3597,
          2657,
          3041,
          4087,
          7725,
          13664,
          14814,
          4403,
          2099,
          2936,
          4805,
          3955,
          2810,
          2976,
          10596,
          2080,
          4787,
          4648,
          2073,
          2044,
          4037,
          2723,
          6524,
          2725,
          2935,
          2875,
          4332,
          6549,
          2791,
          2500,
          13341,
          2235,
          5813,
          3201,
          2501,
          5484,
          2342,
          10932,
          2889,
          3196,
          10725,
          5295,
          2596,
          5309,
          2818,
          4978,
          19665,
          3690,
          6272,
          2694,
          3482,
          6385,
          8847,
          9907,
          2013,
          13348,
          18880,
          6380,
          1790,
          4930,
          5010,
          10209,
          4941,
          2088,
          2033,
          2991,
          5396,
          3617,
          10048,
          8161,
          8938,
          6349,
          3348,
          2340,
          19189,
          6646,
          2703,
          5486,
          3068,
          7969,
          8346,
          13503,
          9824,
          16959,
          5562,
          4969,
          5332,
          5538,
          3407,
          5747,
          5151,
          3986,
          4385,
          17584,
          4373,
          2090,
          16627,
          5373,
          2329,
          9613,
          2610,
          19331,
          4941,
          2305,
          3894,
          10096,
          6306,
          4258,
          10239,
          2996,
          4319,
          2226,
          5326,
          5505,
          6430,
          2404,
          3708,
          4197,
          4478,
          10965,
          12185,
          5828,
          5207,
          1009,
          4678,
          8620,
          6274,
          3408,
          4434,
          3669,
          7596,
          8793,
          4617,
          10673,
          4284,
          5206,
          5208,
          19141,
          14852,
          3319,
          2793,
          2389,
          4404,
          10798,
          1555,
          1563,
          3424,
          6728,
          2413,
          4723,
          6782,
          5441,
          2339,
          2289,
          6347,
          5582,
          4345,
          2380,
          8633,
          4323,
          2439,
          7406,
          4262,
          13758,
          4851,
          1091,
          16756,
          4400,
          2552,
          2904,
          8474,
          10648,
          4447,
          7587,
          5237,
          2177,
          5094,
          10748,
          4272,
          2058,
          10482,
          2042,
          3815,
          4221,
          2911,
          2437,
          11245,
          19197,
          6074,
          3162,
          9525,
          5130,
          11836,
          16856,
          2983,
          5933,
          6833,
          16328,
          3917,
          5253,
          2070,
          7457,
          5675,
          4900,
          5440,
          2376,
          3102,
          5346,
          4621,
          5460,
          4680,
          4256,
          2406,
          2218,
          8095,
          2269,
          3544,
          4001,
          3812,
          2853,
          2340,
          2500,
          7119,
          10609,
          2345,
          2141,
          5429,
          4841,
          5968,
          3907,
          2960,
          4568,
          2177,
          5079,
          5470,
          6834,
          2932,
          2064,
          5810,
          19859,
          2089,
          4285,
          9713,
          12169,
          3761,
          7642,
          6502,
          3117,
          3143,
          13120,
          2097,
          2328,
          16598,
          3622,
          2008,
          2759,
          5679,
          5160,
          2592,
          5210,
          2718,
          18722,
          17861,
          6755,
          1223,
          3067,
          9355,
          12808,
          6146,
          3564,
          5296,
          9582,
          8321,
          8189,
          2782,
          2695,
          6388,
          19717,
          19847,
          16885,
          4312,
          19436,
          17444,
          2794,
          2380,
          2996,
          4960,
          2373,
          2741,
          5974,
          10325,
          2956,
          2781,
          6929,
          6651,
          19144,
          18303,
          4728,
          3688,
          4284,
          5957,
          6842,
          13973,
          3578,
          19999,
          7379,
          5482,
          5660,
          5220,
          4197,
          5484,
          2972,
          5381,
          2238,
          2899,
          2436,
          4741,
          3833,
          19272,
          3447,
          1274,
          5487,
          2642,
          13695,
          2561,
          6410,
          3057,
          7988,
          2166,
          3816,
          9936,
          5003,
          2143,
          19068,
          4298,
          8722,
          2073,
          11935,
          10761,
          2476,
          8120,
          4342,
          17861,
          4066,
          4775,
          8639,
          4834,
          2275,
          8966,
          1601,
          19626,
          2045,
          13610,
          2206,
          2451,
          4115,
          14118,
          3875,
          3407,
          12490,
          2321,
          3944,
          5390,
          2127,
          5410,
          2496,
          2438,
          11103,
          2859,
          3433,
          5304,
          11849,
          6861,
          8446,
          8396,
          6825,
          10512,
          3072,
          3692,
          2720,
          3485,
          2293,
          5056,
          7510,
          19190,
          5377,
          4127,
          8380,
          5811,
          6220,
          4249,
          6294,
          10368,
          1420,
          6120,
          2661,
          4105,
          2539,
          5562,
          3221,
          11510,
          5916,
          4490,
          2322,
          2285,
          2259,
          19537,
          2296,
          2461,
          17046,
          11244,
          9619,
          2450,
          5301,
          10920,
          13757,
          2936,
          2862,
          5343,
          3375,
          9884,
          2306,
          1051,
          19586,
          4908,
          4581,
          6735,
          3038,
          2075,
          3633,
          2258,
          19237,
          9924,
          4031,
          2297,
          3464,
          5406,
          11904,
          3491,
          4876,
          19513,
          2154,
          2647,
          3058,
          4187,
          6799,
          18200,
          3072,
          8020,
          6032,
          17779,
          6151,
          9526,
          2544,
          6499,
          2367,
          19636,
          10976,
          14732,
          5472,
          5337,
          2678,
          1232,
          2326,
          7547,
          3975,
          2362,
          9699,
          10466,
          19038,
          3468,
          2690,
          17665,
          2008,
          6209,
          8392,
          4033,
          2377,
          2127,
          2559,
          6162,
          2436,
          4230,
          5294,
          2121,
          4855,
          2450,
          9888,
          7295,
          3479,
          3697,
          3172,
          3977,
          10903,
          4950,
          6201,
          1675,
          9094,
          10475,
          4327,
          10306,
          1118,
          6392,
          2706,
          8578,
          7083,
          6230,
          2308,
          9380,
          3065,
          2566,
          6870,
          5087,
          2809,
          13496,
          2096,
          3055,
          3737,
          15787,
          4554,
          2201,
          17007,
          6804,
          3983,
          15202,
          2132,
          11557,
          8740,
          9991,
          4968,
          4668,
          5762,
          14411,
          13577,
          19161,
          16823,
          7756,
          6134,
          3161,
          6553,
          6804,
          13464,
          16792,
          4649,
          5155,
          5561,
          2207,
          2766,
          5617,
          9396,
          5467,
          2867,
          2356,
          3506,
          3989,
          6632,
          3867,
          2741,
          2313,
          2018,
          4420,
          4382,
          2400,
          9547,
          4465,
          6540,
          2426,
          2713,
          17639,
          3722,
          5745,
          4883,
          3748,
          3968,
          2804,
          10496,
          2768,
          2335,
          10650,
          2684,
          9204,
          17399,
          4000,
          3477,
          19833,
          6644,
          3420,
          19045,
          2194,
          2979,
          3229,
          2323,
          2705,
          1951,
          19406,
          2314,
          5689,
          3388,
          2290,
          5033,
          7632,
          10274,
          10400,
          2691,
          4025,
          2587,
          2176,
          18300,
          3579,
          5473,
          6582,
          18265,
          2517,
          10999,
          1393,
          6272,
          7082,
          2819,
          1081
         ]
        },
        {
         "line": {
          "color": "#7EB6FF"
         },
         "name": "Female",
         "notched": true,
         "type": "box",
         "x": [
          "Female",
          "Female",
          "Female",
          "Female",
          "Female",
          "Female",
          "Female",
          "Female",
          "Female",
          "Female",
          "Female",
          "Female",
          "Female",
          "Female",
          "Female",
          "Female",
          "Female",
          "Female",
          "Female",
          "Female",
          "Female",
          "Female",
          "Female",
          "Female",
          "Female",
          "Female",
          "Female",
          "Female",
          "Female",
          "Female",
          "Female",
          "Female",
          "Female",
          "Female",
          "Female",
          "Female",
          "Female",
          "Female",
          "Female",
          "Female",
          "Female",
          "Female",
          "Female",
          "Female",
          "Female",
          "Female",
          "Female",
          "Female",
          "Female",
          "Female",
          "Female",
          "Female",
          "Female",
          "Female",
          "Female",
          "Female",
          "Female",
          "Female",
          "Female",
          "Female",
          "Female",
          "Female",
          "Female",
          "Female",
          "Female",
          "Female",
          "Female",
          "Female",
          "Female",
          "Female",
          "Female",
          "Female",
          "Female",
          "Female",
          "Female",
          "Female",
          "Female",
          "Female",
          "Female",
          "Female",
          "Female",
          "Female",
          "Female",
          "Female",
          "Female",
          "Female",
          "Female",
          "Female",
          "Female",
          "Female",
          "Female",
          "Female",
          "Female",
          "Female",
          "Female",
          "Female",
          "Female",
          "Female",
          "Female",
          "Female",
          "Female",
          "Female",
          "Female",
          "Female",
          "Female",
          "Female",
          "Female",
          "Female",
          "Female",
          "Female",
          "Female",
          "Female",
          "Female",
          "Female",
          "Female",
          "Female",
          "Female",
          "Female",
          "Female",
          "Female",
          "Female",
          "Female",
          "Female",
          "Female",
          "Female",
          "Female",
          "Female",
          "Female",
          "Female",
          "Female",
          "Female",
          "Female",
          "Female",
          "Female",
          "Female",
          "Female",
          "Female",
          "Female",
          "Female",
          "Female",
          "Female",
          "Female",
          "Female",
          "Female",
          "Female",
          "Female",
          "Female",
          "Female",
          "Female",
          "Female",
          "Female",
          "Female",
          "Female",
          "Female",
          "Female",
          "Female",
          "Female",
          "Female",
          "Female",
          "Female",
          "Female",
          "Female",
          "Female",
          "Female",
          "Female",
          "Female",
          "Female",
          "Female",
          "Female",
          "Female",
          "Female",
          "Female",
          "Female",
          "Female",
          "Female",
          "Female",
          "Female",
          "Female",
          "Female",
          "Female",
          "Female",
          "Female",
          "Female",
          "Female",
          "Female",
          "Female",
          "Female",
          "Female",
          "Female",
          "Female",
          "Female",
          "Female",
          "Female",
          "Female",
          "Female",
          "Female",
          "Female",
          "Female",
          "Female",
          "Female",
          "Female",
          "Female",
          "Female",
          "Female",
          "Female",
          "Female",
          "Female",
          "Female",
          "Female",
          "Female",
          "Female",
          "Female",
          "Female",
          "Female",
          "Female",
          "Female",
          "Female",
          "Female",
          "Female",
          "Female",
          "Female",
          "Female",
          "Female",
          "Female",
          "Female",
          "Female",
          "Female",
          "Female",
          "Female",
          "Female",
          "Female",
          "Female",
          "Female",
          "Female",
          "Female",
          "Female",
          "Female",
          "Female",
          "Female",
          "Female",
          "Female",
          "Female",
          "Female",
          "Female",
          "Female",
          "Female",
          "Female",
          "Female",
          "Female",
          "Female",
          "Female",
          "Female",
          "Female",
          "Female",
          "Female",
          "Female",
          "Female",
          "Female",
          "Female",
          "Female",
          "Female",
          "Female",
          "Female",
          "Female",
          "Female",
          "Female",
          "Female",
          "Female",
          "Female",
          "Female",
          "Female",
          "Female",
          "Female",
          "Female",
          "Female",
          "Female",
          "Female",
          "Female",
          "Female",
          "Female",
          "Female",
          "Female",
          "Female",
          "Female",
          "Female",
          "Female",
          "Female",
          "Female",
          "Female",
          "Female",
          "Female",
          "Female",
          "Female",
          "Female",
          "Female",
          "Female",
          "Female",
          "Female",
          "Female",
          "Female",
          "Female",
          "Female",
          "Female",
          "Female",
          "Female",
          "Female",
          "Female",
          "Female",
          "Female",
          "Female",
          "Female",
          "Female",
          "Female",
          "Female",
          "Female",
          "Female",
          "Female",
          "Female",
          "Female",
          "Female",
          "Female",
          "Female",
          "Female",
          "Female",
          "Female",
          "Female",
          "Female",
          "Female",
          "Female",
          "Female",
          "Female",
          "Female",
          "Female",
          "Female",
          "Female",
          "Female",
          "Female",
          "Female",
          "Female",
          "Female",
          "Female",
          "Female",
          "Female",
          "Female",
          "Female",
          "Female",
          "Female",
          "Female",
          "Female",
          "Female",
          "Female",
          "Female",
          "Female",
          "Female",
          "Female",
          "Female",
          "Female",
          "Female",
          "Female",
          "Female",
          "Female",
          "Female",
          "Female",
          "Female",
          "Female",
          "Female",
          "Female",
          "Female",
          "Female",
          "Female",
          "Female",
          "Female",
          "Female",
          "Female",
          "Female",
          "Female",
          "Female",
          "Female",
          "Female",
          "Female",
          "Female",
          "Female",
          "Female",
          "Female",
          "Female",
          "Female",
          "Female",
          "Female",
          "Female",
          "Female",
          "Female",
          "Female",
          "Female",
          "Female",
          "Female",
          "Female",
          "Female",
          "Female",
          "Female",
          "Female",
          "Female",
          "Female",
          "Female",
          "Female",
          "Female",
          "Female",
          "Female",
          "Female",
          "Female",
          "Female",
          "Female",
          "Female",
          "Female",
          "Female",
          "Female",
          "Female",
          "Female",
          "Female",
          "Female",
          "Female",
          "Female",
          "Female",
          "Female",
          "Female",
          "Female",
          "Female",
          "Female",
          "Female",
          "Female",
          "Female",
          "Female",
          "Female",
          "Female",
          "Female",
          "Female",
          "Female",
          "Female",
          "Female",
          "Female",
          "Female",
          "Female",
          "Female",
          "Female",
          "Female",
          "Female",
          "Female",
          "Female",
          "Female",
          "Female",
          "Female",
          "Female",
          "Female",
          "Female",
          "Female",
          "Female",
          "Female",
          "Female",
          "Female",
          "Female",
          "Female",
          "Female",
          "Female",
          "Female",
          "Female",
          "Female",
          "Female",
          "Female",
          "Female",
          "Female",
          "Female",
          "Female",
          "Female",
          "Female",
          "Female",
          "Female",
          "Female",
          "Female",
          "Female",
          "Female",
          "Female",
          "Female",
          "Female",
          "Female",
          "Female",
          "Female",
          "Female",
          "Female",
          "Female",
          "Female",
          "Female",
          "Female",
          "Female",
          "Female",
          "Female",
          "Female",
          "Female",
          "Female",
          "Female",
          "Female",
          "Female",
          "Female",
          "Female",
          "Female",
          "Female",
          "Female",
          "Female",
          "Female",
          "Female",
          "Female",
          "Female",
          "Female",
          "Female",
          "Female",
          "Female",
          "Female",
          "Female",
          "Female",
          "Female",
          "Female",
          "Female",
          "Female",
          "Female",
          "Female",
          "Female",
          "Female",
          "Female",
          "Female",
          "Female",
          "Female",
          "Female",
          "Female",
          "Female",
          "Female",
          "Female",
          "Female",
          "Female",
          "Female",
          "Female",
          "Female",
          "Female",
          "Female",
          "Female",
          "Female",
          "Female",
          "Female",
          "Female",
          "Female",
          "Female",
          "Female",
          "Female",
          "Female",
          "Female",
          "Female",
          "Female",
          "Female",
          "Female",
          "Female",
          "Female",
          "Female",
          "Female",
          "Female",
          "Female",
          "Female",
          "Female",
          "Female",
          "Female",
          "Female",
          "Female",
          "Female",
          "Female",
          "Female",
          "Female",
          "Female",
          "Female",
          "Female",
          "Female",
          "Female",
          "Female",
          "Female",
          "Female",
          "Female",
          "Female",
          "Female",
          "Female",
          "Female",
          "Female",
          "Female",
          "Female"
         ],
         "y": [
          5593,
          9756,
          2083,
          4477,
          5055,
          2468,
          4425,
          19973,
          2506,
          2546,
          2977,
          4810,
          2372,
          2213,
          2856,
          16880,
          2022,
          2133,
          1483,
          4898,
          2109,
          2741,
          2926,
          13247,
          9824,
          3140,
          4302,
          4011,
          4577,
          10435,
          4779,
          3212,
          17174,
          9854,
          5006,
          5677,
          2274,
          2115,
          2514,
          3376,
          4081,
          4487,
          13237,
          5731,
          4335,
          2014,
          2863,
          5410,
          6545,
          5265,
          12504,
          5131,
          13726,
          5769,
          2066,
          5042,
          6852,
          13525,
          4591,
          5765,
          2743,
          3294,
          2966,
          18947,
          3760,
          2619,
          2406,
          11713,
          2368,
          2244,
          7945,
          10248,
          18041,
          6653,
          6029,
          11916,
          16064,
          7637,
          2572,
          3540,
          10312,
          3310,
          5985,
          4907,
          4025,
          2587,
          2432,
          9981,
          5231,
          14275,
          4107,
          5467,
          4306,
          6397,
          10820,
          4639,
          2323,
          4999,
          2332,
          7336,
          11957,
          2478,
          11031,
          2559,
          4539,
          5204,
          4171,
          2911,
          4424,
          2455,
          5647,
          4538,
          7314,
          2974,
          2422,
          5714,
          4615,
          4257,
          1261,
          4556,
          8789,
          7639,
          4440,
          4963,
          6667,
          3785,
          19033,
          5674,
          4084,
          6214,
          4507,
          3673,
          2302,
          10453,
          10388,
          2785,
          5258,
          8008,
          2707,
          15992,
          3629,
          5769,
          7553,
          2778,
          3280,
          5204,
          4260,
          2929,
          5257,
          2814,
          17328,
          5405,
          18844,
          6962,
          6932,
          2148,
          2886,
          13826,
          2593,
          5993,
          10502,
          3448,
          2044,
          2632,
          4739,
          5673,
          19517,
          5343,
          6812,
          8686,
          2342,
          19566,
          6577,
          4553,
          16659,
          5238,
          2909,
          3929,
          3312,
          2564,
          2811,
          3211,
          1416,
          2950,
          5329,
          19701,
          2886,
          5228,
          1569,
          5175,
          19049,
          2220,
          2029,
          19658,
          8858,
          5154,
          7644,
          5070,
          3452,
          10447,
          13458,
          4639,
          4444,
          8224,
          1200,
          10252,
          2789,
          3149,
          5473,
          18606,
          13582,
          6811,
          3346,
          2105,
          2394,
          4859,
          2625,
          5605,
          7918,
          5980,
          4450,
          4028,
          18061,
          5093,
          6652,
          6447,
          10880,
          5003,
          7094,
          2994,
          4809,
          7655,
          2377,
          7654,
          1514,
          2585,
          16752,
          2001,
          2851,
          6893,
          2670,
          17875,
          2835,
          2011,
          1129,
          3920,
          4736,
          2270,
          9667,
          19943,
          8376,
          3295,
          2576,
          2743,
          6877,
          18789,
          13603,
          4014,
          12965,
          4227,
          4788,
          6322,
          6854,
          2168,
          16124,
          9980,
          4779,
          2800,
          6712,
          10686,
          5736,
          3204,
          6567,
          5228,
          4523,
          3755,
          16307,
          4317,
          16606,
          6500,
          12061,
          4614,
          16835,
          18665,
          8837,
          5485,
          16872,
          4014,
          5368,
          5715,
          8621,
          5666,
          3919,
          5770,
          18740,
          3936,
          16422,
          2716,
          17048,
          5488,
          19094,
          4374,
          8564,
          2342,
          2933,
          2153,
          5902,
          6389,
          2319,
          13964,
          4393,
          3202,
          1611,
          6811,
          8381,
          17169,
          2655,
          2070,
          6696,
          13269,
          6180,
          8943,
          2216,
          4422,
          4601,
          4508,
          1359,
          4364,
          9950,
          3580,
          13194,
          10231,
          2543,
          11878,
          4850,
          2210,
          16704,
          10934,
          2600,
          6347,
          7491,
          3377,
          16555,
          10096,
          2622,
          3038,
          4627,
          2180,
          17123,
          13770,
          6500,
          4011,
          10377,
          10552,
          10938,
          16595,
          2367,
          5906,
          6538,
          16032,
          6397,
          12742,
          8412,
          6725,
          2398,
          2187,
          2074,
          8865,
          2109,
          4869,
          4051,
          6091,
          4162,
          3517,
          5775,
          2366,
          3445,
          2657,
          4381,
          13570,
          13142,
          6439,
          2532,
          3339,
          7861,
          6949,
          2942,
          5940,
          2341,
          2370,
          2838,
          4089,
          7446,
          10739,
          6162,
          3931,
          5855,
          3452,
          19845,
          13499,
          17328,
          2782,
          2579,
          9071,
          13549,
          2325,
          10527,
          7143,
          8606,
          3978,
          2351,
          4537,
          13212,
          6142,
          6513,
          1859,
          9637,
          4505,
          16799,
          5878,
          8926,
          2837,
          3423,
          9715,
          5476,
          2430,
          16413,
          2760,
          11631,
          4695,
          3838,
          8823,
          3195,
          13116,
          4244,
          7412,
          4936,
          18172,
          2693,
          6142,
          5561,
          2645,
          2096,
          5363,
          4968,
          10169,
          2783,
          2440,
          2553,
          5562,
          10422,
          11994,
          13591,
          4768,
          3660,
          8998,
          7525,
          2318,
          5433,
          2007,
          4789,
          4877,
          6516,
          5121,
          2836,
          2515,
          4522,
          4599,
          3646,
          4502,
          5454,
          19392,
          2187,
          2033,
          5605,
          7978,
          3034,
          4163,
          4286,
          5346,
          2827,
          2379,
          3780,
          6062,
          9278,
          2279,
          9208,
          5209,
          14756,
          2231,
          4765,
          6323,
          2534,
          10008,
          3294,
          3591,
          15427,
          6815,
          6244,
          11416,
          4200,
          4193,
          2742,
          5238,
          19545,
          4148,
          10685,
          8103,
          11996,
          13734,
          2311,
          4878,
          15402,
          19187,
          2174,
          13320,
          17650,
          11159,
          5147,
          6674,
          4198,
          17426,
          2871,
          5380,
          4647,
          3180,
          13206,
          13191,
          17856,
          2404,
          13966,
          19926,
          6687,
          6694,
          5171,
          8268,
          2942,
          4148,
          6118,
          9985,
          7625,
          7879,
          4103,
          13225,
          7756,
          13744,
          6377,
          18824,
          3306,
          10333,
          3131,
          7484,
          2973,
          2897,
          2756,
          9738,
          5376,
          10266,
          2061,
          4774,
          7403,
          3419,
          2157,
          5468,
          9852,
          6474,
          4449,
          4559,
          3702,
          12031,
          4157,
          6583,
          9419,
          3291,
          16184,
          15972,
          2132,
          5324,
          4377,
          4448,
          2288,
          6125,
          4663,
          4777,
          3760,
          2232,
          4998,
          2659
         ]
        }
       ],
       "layout": {
        "boxmode": "group",
        "font": {
         "color": "#28221D"
        },
        "paper_bgcolor": "#F4F2F0",
        "plot_bgcolor": "#F4F2F0",
        "template": {
         "data": {
          "bar": [
           {
            "error_x": {
             "color": "#2a3f5f"
            },
            "error_y": {
             "color": "#2a3f5f"
            },
            "marker": {
             "line": {
              "color": "#E5ECF6",
              "width": 0.5
             },
             "pattern": {
              "fillmode": "overlay",
              "size": 10,
              "solidity": 0.2
             }
            },
            "type": "bar"
           }
          ],
          "barpolar": [
           {
            "marker": {
             "line": {
              "color": "#E5ECF6",
              "width": 0.5
             },
             "pattern": {
              "fillmode": "overlay",
              "size": 10,
              "solidity": 0.2
             }
            },
            "type": "barpolar"
           }
          ],
          "carpet": [
           {
            "aaxis": {
             "endlinecolor": "#2a3f5f",
             "gridcolor": "white",
             "linecolor": "white",
             "minorgridcolor": "white",
             "startlinecolor": "#2a3f5f"
            },
            "baxis": {
             "endlinecolor": "#2a3f5f",
             "gridcolor": "white",
             "linecolor": "white",
             "minorgridcolor": "white",
             "startlinecolor": "#2a3f5f"
            },
            "type": "carpet"
           }
          ],
          "choropleth": [
           {
            "colorbar": {
             "outlinewidth": 0,
             "ticks": ""
            },
            "type": "choropleth"
           }
          ],
          "contour": [
           {
            "colorbar": {
             "outlinewidth": 0,
             "ticks": ""
            },
            "colorscale": [
             [
              0,
              "#0d0887"
             ],
             [
              0.1111111111111111,
              "#46039f"
             ],
             [
              0.2222222222222222,
              "#7201a8"
             ],
             [
              0.3333333333333333,
              "#9c179e"
             ],
             [
              0.4444444444444444,
              "#bd3786"
             ],
             [
              0.5555555555555556,
              "#d8576b"
             ],
             [
              0.6666666666666666,
              "#ed7953"
             ],
             [
              0.7777777777777778,
              "#fb9f3a"
             ],
             [
              0.8888888888888888,
              "#fdca26"
             ],
             [
              1,
              "#f0f921"
             ]
            ],
            "type": "contour"
           }
          ],
          "contourcarpet": [
           {
            "colorbar": {
             "outlinewidth": 0,
             "ticks": ""
            },
            "type": "contourcarpet"
           }
          ],
          "heatmap": [
           {
            "colorbar": {
             "outlinewidth": 0,
             "ticks": ""
            },
            "colorscale": [
             [
              0,
              "#0d0887"
             ],
             [
              0.1111111111111111,
              "#46039f"
             ],
             [
              0.2222222222222222,
              "#7201a8"
             ],
             [
              0.3333333333333333,
              "#9c179e"
             ],
             [
              0.4444444444444444,
              "#bd3786"
             ],
             [
              0.5555555555555556,
              "#d8576b"
             ],
             [
              0.6666666666666666,
              "#ed7953"
             ],
             [
              0.7777777777777778,
              "#fb9f3a"
             ],
             [
              0.8888888888888888,
              "#fdca26"
             ],
             [
              1,
              "#f0f921"
             ]
            ],
            "type": "heatmap"
           }
          ],
          "heatmapgl": [
           {
            "colorbar": {
             "outlinewidth": 0,
             "ticks": ""
            },
            "colorscale": [
             [
              0,
              "#0d0887"
             ],
             [
              0.1111111111111111,
              "#46039f"
             ],
             [
              0.2222222222222222,
              "#7201a8"
             ],
             [
              0.3333333333333333,
              "#9c179e"
             ],
             [
              0.4444444444444444,
              "#bd3786"
             ],
             [
              0.5555555555555556,
              "#d8576b"
             ],
             [
              0.6666666666666666,
              "#ed7953"
             ],
             [
              0.7777777777777778,
              "#fb9f3a"
             ],
             [
              0.8888888888888888,
              "#fdca26"
             ],
             [
              1,
              "#f0f921"
             ]
            ],
            "type": "heatmapgl"
           }
          ],
          "histogram": [
           {
            "marker": {
             "pattern": {
              "fillmode": "overlay",
              "size": 10,
              "solidity": 0.2
             }
            },
            "type": "histogram"
           }
          ],
          "histogram2d": [
           {
            "colorbar": {
             "outlinewidth": 0,
             "ticks": ""
            },
            "colorscale": [
             [
              0,
              "#0d0887"
             ],
             [
              0.1111111111111111,
              "#46039f"
             ],
             [
              0.2222222222222222,
              "#7201a8"
             ],
             [
              0.3333333333333333,
              "#9c179e"
             ],
             [
              0.4444444444444444,
              "#bd3786"
             ],
             [
              0.5555555555555556,
              "#d8576b"
             ],
             [
              0.6666666666666666,
              "#ed7953"
             ],
             [
              0.7777777777777778,
              "#fb9f3a"
             ],
             [
              0.8888888888888888,
              "#fdca26"
             ],
             [
              1,
              "#f0f921"
             ]
            ],
            "type": "histogram2d"
           }
          ],
          "histogram2dcontour": [
           {
            "colorbar": {
             "outlinewidth": 0,
             "ticks": ""
            },
            "colorscale": [
             [
              0,
              "#0d0887"
             ],
             [
              0.1111111111111111,
              "#46039f"
             ],
             [
              0.2222222222222222,
              "#7201a8"
             ],
             [
              0.3333333333333333,
              "#9c179e"
             ],
             [
              0.4444444444444444,
              "#bd3786"
             ],
             [
              0.5555555555555556,
              "#d8576b"
             ],
             [
              0.6666666666666666,
              "#ed7953"
             ],
             [
              0.7777777777777778,
              "#fb9f3a"
             ],
             [
              0.8888888888888888,
              "#fdca26"
             ],
             [
              1,
              "#f0f921"
             ]
            ],
            "type": "histogram2dcontour"
           }
          ],
          "mesh3d": [
           {
            "colorbar": {
             "outlinewidth": 0,
             "ticks": ""
            },
            "type": "mesh3d"
           }
          ],
          "parcoords": [
           {
            "line": {
             "colorbar": {
              "outlinewidth": 0,
              "ticks": ""
             }
            },
            "type": "parcoords"
           }
          ],
          "pie": [
           {
            "automargin": true,
            "type": "pie"
           }
          ],
          "scatter": [
           {
            "fillpattern": {
             "fillmode": "overlay",
             "size": 10,
             "solidity": 0.2
            },
            "type": "scatter"
           }
          ],
          "scatter3d": [
           {
            "line": {
             "colorbar": {
              "outlinewidth": 0,
              "ticks": ""
             }
            },
            "marker": {
             "colorbar": {
              "outlinewidth": 0,
              "ticks": ""
             }
            },
            "type": "scatter3d"
           }
          ],
          "scattercarpet": [
           {
            "marker": {
             "colorbar": {
              "outlinewidth": 0,
              "ticks": ""
             }
            },
            "type": "scattercarpet"
           }
          ],
          "scattergeo": [
           {
            "marker": {
             "colorbar": {
              "outlinewidth": 0,
              "ticks": ""
             }
            },
            "type": "scattergeo"
           }
          ],
          "scattergl": [
           {
            "marker": {
             "colorbar": {
              "outlinewidth": 0,
              "ticks": ""
             }
            },
            "type": "scattergl"
           }
          ],
          "scattermapbox": [
           {
            "marker": {
             "colorbar": {
              "outlinewidth": 0,
              "ticks": ""
             }
            },
            "type": "scattermapbox"
           }
          ],
          "scatterpolar": [
           {
            "marker": {
             "colorbar": {
              "outlinewidth": 0,
              "ticks": ""
             }
            },
            "type": "scatterpolar"
           }
          ],
          "scatterpolargl": [
           {
            "marker": {
             "colorbar": {
              "outlinewidth": 0,
              "ticks": ""
             }
            },
            "type": "scatterpolargl"
           }
          ],
          "scatterternary": [
           {
            "marker": {
             "colorbar": {
              "outlinewidth": 0,
              "ticks": ""
             }
            },
            "type": "scatterternary"
           }
          ],
          "surface": [
           {
            "colorbar": {
             "outlinewidth": 0,
             "ticks": ""
            },
            "colorscale": [
             [
              0,
              "#0d0887"
             ],
             [
              0.1111111111111111,
              "#46039f"
             ],
             [
              0.2222222222222222,
              "#7201a8"
             ],
             [
              0.3333333333333333,
              "#9c179e"
             ],
             [
              0.4444444444444444,
              "#bd3786"
             ],
             [
              0.5555555555555556,
              "#d8576b"
             ],
             [
              0.6666666666666666,
              "#ed7953"
             ],
             [
              0.7777777777777778,
              "#fb9f3a"
             ],
             [
              0.8888888888888888,
              "#fdca26"
             ],
             [
              1,
              "#f0f921"
             ]
            ],
            "type": "surface"
           }
          ],
          "table": [
           {
            "cells": {
             "fill": {
              "color": "#EBF0F8"
             },
             "line": {
              "color": "white"
             }
            },
            "header": {
             "fill": {
              "color": "#C8D4E3"
             },
             "line": {
              "color": "white"
             }
            },
            "type": "table"
           }
          ]
         },
         "layout": {
          "annotationdefaults": {
           "arrowcolor": "#2a3f5f",
           "arrowhead": 0,
           "arrowwidth": 1
          },
          "autotypenumbers": "strict",
          "coloraxis": {
           "colorbar": {
            "outlinewidth": 0,
            "ticks": ""
           }
          },
          "colorscale": {
           "diverging": [
            [
             0,
             "#8e0152"
            ],
            [
             0.1,
             "#c51b7d"
            ],
            [
             0.2,
             "#de77ae"
            ],
            [
             0.3,
             "#f1b6da"
            ],
            [
             0.4,
             "#fde0ef"
            ],
            [
             0.5,
             "#f7f7f7"
            ],
            [
             0.6,
             "#e6f5d0"
            ],
            [
             0.7,
             "#b8e186"
            ],
            [
             0.8,
             "#7fbc41"
            ],
            [
             0.9,
             "#4d9221"
            ],
            [
             1,
             "#276419"
            ]
           ],
           "sequential": [
            [
             0,
             "#0d0887"
            ],
            [
             0.1111111111111111,
             "#46039f"
            ],
            [
             0.2222222222222222,
             "#7201a8"
            ],
            [
             0.3333333333333333,
             "#9c179e"
            ],
            [
             0.4444444444444444,
             "#bd3786"
            ],
            [
             0.5555555555555556,
             "#d8576b"
            ],
            [
             0.6666666666666666,
             "#ed7953"
            ],
            [
             0.7777777777777778,
             "#fb9f3a"
            ],
            [
             0.8888888888888888,
             "#fdca26"
            ],
            [
             1,
             "#f0f921"
            ]
           ],
           "sequentialminus": [
            [
             0,
             "#0d0887"
            ],
            [
             0.1111111111111111,
             "#46039f"
            ],
            [
             0.2222222222222222,
             "#7201a8"
            ],
            [
             0.3333333333333333,
             "#9c179e"
            ],
            [
             0.4444444444444444,
             "#bd3786"
            ],
            [
             0.5555555555555556,
             "#d8576b"
            ],
            [
             0.6666666666666666,
             "#ed7953"
            ],
            [
             0.7777777777777778,
             "#fb9f3a"
            ],
            [
             0.8888888888888888,
             "#fdca26"
            ],
            [
             1,
             "#f0f921"
            ]
           ]
          },
          "colorway": [
           "#636efa",
           "#EF553B",
           "#00cc96",
           "#ab63fa",
           "#FFA15A",
           "#19d3f3",
           "#FF6692",
           "#B6E880",
           "#FF97FF",
           "#FECB52"
          ],
          "font": {
           "color": "#2a3f5f"
          },
          "geo": {
           "bgcolor": "white",
           "lakecolor": "white",
           "landcolor": "#E5ECF6",
           "showlakes": true,
           "showland": true,
           "subunitcolor": "white"
          },
          "hoverlabel": {
           "align": "left"
          },
          "hovermode": "closest",
          "mapbox": {
           "style": "light"
          },
          "paper_bgcolor": "white",
          "plot_bgcolor": "#E5ECF6",
          "polar": {
           "angularaxis": {
            "gridcolor": "white",
            "linecolor": "white",
            "ticks": ""
           },
           "bgcolor": "#E5ECF6",
           "radialaxis": {
            "gridcolor": "white",
            "linecolor": "white",
            "ticks": ""
           }
          },
          "scene": {
           "xaxis": {
            "backgroundcolor": "#E5ECF6",
            "gridcolor": "white",
            "gridwidth": 2,
            "linecolor": "white",
            "showbackground": true,
            "ticks": "",
            "zerolinecolor": "white"
           },
           "yaxis": {
            "backgroundcolor": "#E5ECF6",
            "gridcolor": "white",
            "gridwidth": 2,
            "linecolor": "white",
            "showbackground": true,
            "ticks": "",
            "zerolinecolor": "white"
           },
           "zaxis": {
            "backgroundcolor": "#E5ECF6",
            "gridcolor": "white",
            "gridwidth": 2,
            "linecolor": "white",
            "showbackground": true,
            "ticks": "",
            "zerolinecolor": "white"
           }
          },
          "shapedefaults": {
           "line": {
            "color": "#2a3f5f"
           }
          },
          "ternary": {
           "aaxis": {
            "gridcolor": "white",
            "linecolor": "white",
            "ticks": ""
           },
           "baxis": {
            "gridcolor": "white",
            "linecolor": "white",
            "ticks": ""
           },
           "bgcolor": "#E5ECF6",
           "caxis": {
            "gridcolor": "white",
            "linecolor": "white",
            "ticks": ""
           }
          },
          "title": {
           "x": 0.05
          },
          "xaxis": {
           "automargin": true,
           "gridcolor": "white",
           "linecolor": "white",
           "ticks": "",
           "title": {
            "standoff": 15
           },
           "zerolinecolor": "white",
           "zerolinewidth": 2
          },
          "yaxis": {
           "automargin": true,
           "gridcolor": "white",
           "linecolor": "white",
           "ticks": "",
           "title": {
            "standoff": 15
           },
           "zerolinecolor": "white",
           "zerolinewidth": 2
          }
         }
        },
        "title": {
         "text": "Salario por género"
        },
        "xaxis": {
         "tickmode": "array",
         "tickvals": [
          1,
          2,
          3,
          4
         ],
         "title": {
          "text": "Género"
         }
        },
        "yaxis": {
         "title": {
          "text": "Salario"
         }
        }
       }
      }
     },
     "metadata": {},
     "output_type": "display_data"
    }
   ],
   "source": [
    "figsalsex=go.Figure()\n",
    "colors=['#FFA6CC','#7EB6FF']\n",
    "for i, j in enumerate(attrition['Gender'].unique()):\n",
    "    df_plot=attrition[attrition['Gender']==j]\n",
    "    figsalsex.add_trace(go.Box(x=df_plot['Gender'], y=df_plot['MonthlyIncome'],\n",
    "                         notched=True, line=dict(color=colors[i]),name=j))\n",
    "figsalsex.update_layout(title='Salario por género',\n",
    "                  boxmode='group', font_color='#28221D',\n",
    "                  xaxis = dict(tickmode = 'array', tickvals = [1, 2, 3, 4],),\n",
    "                  paper_bgcolor='#F4F2F0', plot_bgcolor='#F4F2F0')\n",
    "                  \n",
    "figsalsex.update_layout(xaxis_title=\"Género\", yaxis_title=\"Salario\")\n",
    "figsalsex.show()"
   ]
  },
  {
   "cell_type": "markdown",
   "metadata": {},
   "source": [
    "ROTACIÓN VS EXPERIENCIA LABORAL\n",
    "Se encontró que a menor experiencia laboral de los colaboradores mayor es la tasa de rotación, siendo os colaboradores con menos de cinco años de servico son los que mas rotan. Así mismo, se evidenció que a menor años de servicio, menor es el ingreso mensual, lo que puede sugerir que uno de los motivos de las rotaciones de los colaboradores es mejorar sus ingresos, tambien se observó que a mayor experiencia laboral mayor es el nivel del trabajo."
   ]
  },
  {
   "cell_type": "code",
   "execution_count": 93,
   "metadata": {},
   "outputs": [
    {
     "data": {
      "text/plain": [
       "<AxesSubplot: title={'center': 'Rotación en función de los experiencia laboral'}, xlabel='TotalWorkingYears', ylabel='count'>"
      ]
     },
     "execution_count": 93,
     "metadata": {},
     "output_type": "execute_result"
    },
    {
     "data": {
      "image/png": "[encoded data removed]",
      "text/plain": [
       "<Figure size 1000x500 with 1 Axes>"
      ]
     },
     "metadata": {},
     "output_type": "display_data"
    }
   ],
   "source": [
    "plt.figure(figsize=(10,5))\n",
    "plt.subplot(211)\n",
    "plt.title('Rotación en función de los experiencia laboral')\n",
    "sns.countplot(x=attrition['TotalWorkingYears'],hue=attrition['Attrition'],palette='prism_r')"
   ]
  },
  {
   "cell_type": "code",
   "execution_count": 89,
   "metadata": {},
   "outputs": [
    {
     "data": {
      "application/vnd.plotly.v1+json": {
       "config": {
        "plotlyServerURL": "https://plot.ly"
       },
       "data": [
        {
         "hovertemplate": "JobLevel=Entry level<br>Attrition=No<br>TotalWorkingYears=%{x}<br>MonthlyIncome=%{y}<extra></extra>",
         "legendgroup": "Entry level",
         "marker": {
          "color": "#73AF8E",
          "symbol": "circle"
         },
         "mode": "markers",
         "name": "Entry level",
         "showlegend": true,
         "type": "scattergl",
         "x": [
          1,
          3,
          10,
          7,
          3,
          7,
          9,
          4,
          10,
          7,
          2,
          4,
          6,
          8,
          10,
          1,
          1,
          3,
          1,
          2,
          19,
          8,
          2,
          6,
          6,
          7,
          20,
          8,
          1,
          7,
          0,
          17,
          11,
          10,
          2,
          5,
          8,
          6,
          16,
          5,
          2,
          6,
          14,
          3,
          5,
          5,
          8,
          6,
          6,
          8,
          5,
          6,
          7,
          5,
          2,
          3,
          8,
          1,
          5,
          5,
          10,
          17,
          6,
          4,
          10,
          5,
          10,
          5,
          8,
          9,
          4,
          6,
          2,
          9,
          9,
          16,
          7,
          19,
          8,
          7,
          6,
          5,
          20,
          1,
          3,
          12,
          2,
          10,
          8,
          5,
          1,
          10,
          7,
          10,
          4,
          10,
          4,
          8,
          8,
          11,
          6,
          7,
          10,
          5,
          18,
          1,
          3,
          5,
          1,
          7,
          6,
          3,
          8,
          7,
          6,
          6,
          10,
          6,
          5,
          12,
          5,
          4,
          5,
          1,
          10,
          6,
          1,
          12,
          8,
          3,
          3,
          4,
          9,
          6,
          1,
          6,
          2,
          6,
          10,
          1,
          5,
          5,
          1,
          16,
          15,
          6,
          5,
          13,
          7,
          3,
          0,
          6,
          3,
          8,
          2,
          9,
          7,
          13,
          4,
          1,
          3,
          6,
          5,
          8,
          6,
          0,
          2,
          20,
          12,
          7,
          10,
          9,
          1,
          17,
          8,
          8,
          7,
          3,
          8,
          4,
          6,
          13,
          1,
          6,
          10,
          8,
          8,
          5,
          2,
          6,
          1,
          4,
          7,
          5,
          5,
          8,
          6,
          3,
          1,
          8,
          4,
          3,
          0,
          5,
          2,
          2,
          3,
          4,
          8,
          4,
          3,
          6,
          11,
          5,
          7,
          5,
          8,
          6,
          6,
          4,
          6,
          6,
          6,
          6,
          7,
          7,
          7,
          10,
          5,
          3,
          14,
          9,
          4,
          6,
          1,
          13,
          12,
          10,
          1,
          3,
          6,
          8,
          12,
          1,
          3,
          5,
          5,
          10,
          7,
          1,
          6,
          15,
          6,
          4,
          8,
          8,
          8,
          1,
          8,
          8,
          6,
          1,
          7,
          3,
          17,
          6,
          8,
          7,
          3,
          1,
          1,
          6,
          5,
          8,
          4,
          1,
          4,
          7,
          5,
          10,
          13,
          6,
          4,
          10,
          6,
          6,
          8,
          1,
          7,
          7,
          8,
          6,
          10,
          6,
          12,
          6,
          2,
          10,
          2,
          4,
          6,
          3,
          4,
          20,
          1,
          3,
          5,
          13,
          1,
          2,
          3,
          10,
          4,
          0,
          8,
          6,
          10,
          8,
          1,
          2,
          18,
          5,
          5,
          6,
          1,
          6,
          8,
          7,
          6,
          2,
          5,
          0,
          4,
          7,
          6,
          1,
          3,
          1,
          7,
          7,
          6,
          6,
          7,
          9,
          3,
          12,
          4,
          1,
          8,
          7,
          4,
          1,
          6,
          4,
          8,
          4,
          18,
          4,
          7,
          8,
          8,
          4,
          2,
          8,
          3,
          6,
          5,
          12,
          8,
          1,
          14,
          7,
          3,
          10,
          10,
          6,
          8,
          17,
          1,
          5,
          6,
          8,
          7,
          2,
          6,
          1,
          6,
          3,
          4,
          5,
          6,
          8,
          10,
          12,
          2,
          5,
          3,
          5,
          7,
          3
         ],
         "xaxis": "x",
         "y": [
          2083,
          2610,
          2700,
          4477,
          2145,
          2644,
          2468,
          2696,
          2720,
          2506,
          2728,
          2977,
          4936,
          2380,
          2213,
          2856,
          2404,
          2523,
          1483,
          3505,
          2662,
          2109,
          2372,
          4821,
          3212,
          3500,
          2858,
          2559,
          2274,
          2387,
          1706,
          2115,
          2514,
          3376,
          2014,
          2451,
          2654,
          2799,
          3210,
          2066,
          2743,
          2774,
          2028,
          3294,
          2660,
          2966,
          2515,
          3760,
          4766,
          2619,
          4401,
          2580,
          3298,
          2368,
          2244,
          2572,
          3022,
          1702,
          3310,
          3600,
          4025,
          2587,
          2703,
          2451,
          2258,
          2332,
          2613,
          2144,
          4876,
          3452,
          2478,
          2559,
          2911,
          2455,
          2974,
          2519,
          2277,
          4257,
          2093,
          2570,
          3420,
          3785,
          4721,
          2693,
          2773,
          3673,
          3033,
          3539,
          3629,
          3904,
          1052,
          3280,
          2267,
          2929,
          2439,
          4771,
          2814,
          3537,
          2821,
          2062,
          2024,
          3162,
          2593,
          2632,
          4739,
          1281,
          3230,
          2342,
          2269,
          2844,
          3597,
          2657,
          2909,
          3929,
          2099,
          3312,
          2936,
          3955,
          2810,
          2564,
          2080,
          2811,
          2044,
          2723,
          3211,
          2725,
          2935,
          2950,
          2875,
          2886,
          2791,
          2500,
          2235,
          3201,
          2501,
          2342,
          2889,
          3196,
          2818,
          2220,
          2029,
          3690,
          2694,
          3482,
          2013,
          4930,
          3452,
          2088,
          2991,
          3617,
          1200,
          2340,
          2703,
          3068,
          2789,
          3346,
          2105,
          2329,
          2610,
          2994,
          2305,
          2377,
          4258,
          2996,
          2226,
          1514,
          2585,
          2001,
          2670,
          2835,
          2011,
          3708,
          1129,
          3920,
          2270,
          4678,
          3669,
          3295,
          2576,
          4014,
          2168,
          2793,
          1563,
          3424,
          4723,
          3204,
          3755,
          2289,
          2380,
          4323,
          2552,
          2904,
          2177,
          3815,
          2911,
          3936,
          3162,
          2342,
          2933,
          2153,
          2983,
          3917,
          1611,
          2070,
          2070,
          2376,
          4621,
          4680,
          2406,
          2218,
          2269,
          3544,
          3812,
          4364,
          3580,
          2500,
          2345,
          2543,
          2141,
          4841,
          3907,
          2177,
          2932,
          2064,
          3377,
          2089,
          2622,
          3761,
          3038,
          3117,
          3143,
          2097,
          2328,
          3622,
          2008,
          2592,
          2718,
          2367,
          1223,
          3067,
          2187,
          3564,
          2782,
          2109,
          2695,
          2794,
          3517,
          2996,
          2741,
          2956,
          3445,
          2781,
          4381,
          3688,
          2532,
          3578,
          2942,
          2341,
          2370,
          2838,
          3931,
          2972,
          2238,
          2899,
          3452,
          2782,
          2579,
          3833,
          3447,
          1274,
          2642,
          3057,
          3816,
          2143,
          2073,
          2476,
          3978,
          4066,
          2045,
          2206,
          2451,
          2837,
          3875,
          3423,
          2430,
          3944,
          3838,
          2127,
          2496,
          2438,
          3195,
          2859,
          3433,
          2645,
          3692,
          2720,
          2096,
          4968,
          2783,
          2440,
          2553,
          2661,
          2539,
          3221,
          2318,
          2322,
          2007,
          2259,
          2836,
          2296,
          2450,
          2862,
          3375,
          1051,
          3038,
          2187,
          2075,
          2258,
          2033,
          2297,
          3034,
          2154,
          2647,
          3058,
          2827,
          2379,
          2544,
          2279,
          2231,
          2678,
          2534,
          1232,
          2326,
          3294,
          3468,
          2690,
          3591,
          2008,
          2127,
          2559,
          2436,
          4230,
          3977,
          2311,
          2706,
          2308,
          3065,
          2566,
          2809,
          2096,
          3737,
          2871,
          2201,
          3983,
          2132,
          3180,
          2942,
          2207,
          2766,
          2867,
          2356,
          3506,
          3867,
          4420,
          2400,
          2426,
          2713,
          3748,
          3968,
          2804,
          2768,
          3306,
          2684,
          3131,
          2973,
          3477,
          2756,
          3420,
          2061,
          2194,
          2979,
          4774,
          3229,
          2323,
          2705,
          1951,
          3419,
          2157,
          2314,
          3702,
          2290,
          3291,
          2691,
          3579,
          2288,
          2517,
          3760,
          2819,
          2232,
          2659
         ],
         "yaxis": "y"
        },
        {
         "hovertemplate": "JobLevel=Entry level<br>Attrition=Yes<br>TotalWorkingYears=%{x}<br>MonthlyIncome=%{y}<extra></extra>",
         "legendgroup": "Entry level",
         "marker": {
          "color": "#73AF8E",
          "symbol": "circle"
         },
         "mode": "markers",
         "name": "Entry level",
         "showlegend": false,
         "type": "scattergl",
         "x": [
          6,
          6,
          10,
          1,
          1,
          8,
          1,
          4,
          0,
          7,
          1,
          1,
          1,
          1,
          1,
          2,
          7,
          10,
          3,
          5,
          8,
          2,
          2,
          1,
          4,
          1,
          4,
          1,
          5,
          7,
          2,
          7,
          3,
          3,
          13,
          7,
          10,
          0,
          5,
          6,
          6,
          6,
          6,
          6,
          2,
          10,
          5,
          5,
          4,
          7,
          1,
          0,
          1,
          1,
          1,
          10,
          8,
          2,
          7,
          4,
          1,
          8,
          1,
          8,
          18,
          4,
          5,
          1,
          1,
          14,
          1,
          1,
          6,
          7,
          10,
          6,
          1,
          1,
          6,
          19,
          7,
          10,
          1,
          1,
          1,
          1,
          8,
          1,
          6,
          7,
          1,
          1,
          3,
          5,
          8,
          8,
          10,
          8,
          1,
          8,
          10,
          3,
          1,
          3,
          1,
          10,
          2,
          4,
          1,
          5,
          6,
          0,
          3,
          18,
          1,
          6,
          11,
          6,
          5,
          6,
          11,
          1,
          10,
          2,
          1,
          6,
          4,
          0,
          3,
          1,
          3,
          19,
          5,
          5,
          15,
          5,
          7,
          4,
          2,
          7,
          5,
          1,
          1
         ],
         "xaxis": "x2",
         "y": [
          2042,
          2546,
          2022,
          2795,
          2293,
          2741,
          2926,
          3140,
          1904,
          3691,
          2863,
          2472,
          2408,
          2973,
          2679,
          2610,
          2119,
          2362,
          2683,
          3743,
          2432,
          2956,
          2323,
          2564,
          2422,
          1102,
          3730,
          1261,
          2307,
          4963,
          3441,
          4084,
          2302,
          2785,
          2707,
          2479,
          2778,
          1878,
          2107,
          3904,
          2148,
          2886,
          2342,
          2028,
          2044,
          2686,
          2909,
          3041,
          4787,
          2073,
          1416,
          1569,
          2596,
          1790,
          2033,
          3348,
          2394,
          2625,
          2090,
          3894,
          2851,
          2404,
          1009,
          3408,
          2743,
          2389,
          2800,
          1555,
          2413,
          2339,
          2439,
          1091,
          4400,
          2058,
          3919,
          2437,
          2716,
          2319,
          3202,
          2655,
          3102,
          2216,
          1359,
          2853,
          2340,
          2210,
          2960,
          2600,
          2180,
          2759,
          2398,
          2074,
          2380,
          2373,
          2366,
          2657,
          3339,
          2436,
          2325,
          2561,
          2166,
          2351,
          1859,
          2275,
          1601,
          3407,
          2760,
          2321,
          2693,
          3485,
          2293,
          1420,
          2285,
          2461,
          2515,
          2936,
          3646,
          4031,
          3464,
          2367,
          2362,
          2377,
          4200,
          2742,
          2121,
          3479,
          3172,
          1675,
          2174,
          1118,
          2404,
          3161,
          3989,
          2313,
          2018,
          4382,
          3722,
          2335,
          3388,
          2132,
          2587,
          1393,
          1081
         ],
         "yaxis": "y2"
        },
        {
         "hovertemplate": "JobLevel=Mid level<br>Attrition=No<br>TotalWorkingYears=%{x}<br>MonthlyIncome=%{y}<extra></extra>",
         "legendgroup": "Mid level",
         "marker": {
          "color": "#4F909B",
          "symbol": "circle"
         },
         "mode": "markers",
         "name": "Mid level",
         "showlegend": true,
         "type": "scattergl",
         "x": [
          10,
          17,
          6,
          15,
          9,
          10,
          8,
          10,
          9,
          11,
          19,
          18,
          14,
          10,
          20,
          8,
          5,
          12,
          19,
          5,
          13,
          16,
          18,
          9,
          4,
          12,
          4,
          8,
          10,
          15,
          9,
          16,
          15,
          12,
          18,
          10,
          10,
          15,
          20,
          5,
          10,
          9,
          9,
          11,
          18,
          7,
          5,
          18,
          11,
          10,
          10,
          11,
          18,
          10,
          10,
          12,
          7,
          8,
          11,
          20,
          10,
          9,
          10,
          7,
          6,
          9,
          10,
          10,
          6,
          7,
          17,
          8,
          12,
          10,
          18,
          8,
          13,
          17,
          17,
          4,
          9,
          20,
          7,
          8,
          10,
          20,
          10,
          5,
          11,
          10,
          14,
          11,
          4,
          11,
          6,
          19,
          6,
          6,
          5,
          20,
          19,
          13,
          19,
          9,
          6,
          16,
          9,
          9,
          8,
          11,
          8,
          6,
          5,
          8,
          7,
          7,
          8,
          6,
          5,
          9,
          19,
          6,
          13,
          5,
          9,
          4,
          7,
          5,
          20,
          10,
          15,
          9,
          6,
          9,
          9,
          10,
          9,
          8,
          10,
          17,
          20,
          9,
          10,
          14,
          10,
          10,
          17,
          10,
          16,
          12,
          5,
          6,
          17,
          20,
          9,
          9,
          15,
          8,
          9,
          5,
          4,
          9,
          10,
          20,
          8,
          17,
          10,
          9,
          9,
          7,
          10,
          4,
          6,
          17,
          10,
          13,
          12,
          20,
          7,
          5,
          15,
          10,
          14,
          6,
          17,
          15,
          9,
          6,
          20,
          9,
          10,
          10,
          9,
          10,
          16,
          5,
          10,
          8,
          15,
          10,
          5,
          17,
          5,
          8,
          6,
          16,
          8,
          8,
          8,
          16,
          13,
          10,
          6,
          10,
          11,
          10,
          4,
          5,
          15,
          10,
          6,
          10,
          12,
          4,
          4,
          7,
          4,
          16,
          6,
          9,
          14,
          6,
          8,
          8,
          10,
          16,
          9,
          11,
          13,
          7,
          12,
          10,
          6,
          19,
          6,
          8,
          4,
          9,
          17,
          9,
          10,
          10,
          7,
          8,
          16,
          17,
          6,
          10,
          5,
          6,
          4,
          6,
          10,
          17,
          12,
          10,
          6,
          14,
          7,
          10,
          18,
          6,
          7,
          6,
          13,
          13,
          16,
          5,
          5,
          15,
          10,
          8,
          9,
          10,
          12,
          19,
          10,
          7,
          10,
          10,
          7,
          10,
          9,
          10,
          5,
          10,
          6,
          15,
          6,
          8,
          8,
          8,
          14,
          20,
          16,
          14,
          11,
          5,
          20,
          11,
          13,
          10,
          20,
          16,
          18,
          13,
          13,
          6,
          12,
          16,
          13,
          12,
          12,
          10,
          18,
          14,
          13,
          10,
          5,
          10,
          9,
          10,
          10,
          6,
          8,
          12,
          5,
          10,
          12,
          4,
          6,
          15,
          12,
          12,
          8,
          9,
          10,
          10,
          17,
          9,
          8,
          18,
          19,
          10,
          6,
          8,
          10,
          12,
          10,
          10,
          10,
          7,
          15,
          10,
          9,
          12,
          10,
          8,
          7,
          11,
          19,
          10,
          14,
          11,
          10,
          6,
          18,
          7,
          8,
          4,
          14,
          17,
          9,
          13,
          4,
          9,
          10,
          20,
          15,
          9,
          10,
          5,
          10,
          10,
          17,
          19,
          8,
          19,
          8,
          15,
          6,
          11,
          8,
          10,
          4,
          10,
          13,
          11,
          15,
          10,
          5,
          10,
          9,
          10,
          10,
          4,
          19,
          12,
          9,
          10,
          5,
          18,
          5,
          8,
          16,
          11,
          14,
          13,
          10,
          8,
          11,
          10,
          7,
          6,
          6,
          5,
          9,
          15,
          7,
          14,
          7,
          4,
          14,
          8,
          9,
          6,
          13,
          7,
          15,
          10,
          16,
          9,
          15,
          10,
          10,
          10,
          4,
          10,
          10,
          15,
          7,
          6,
          9,
          10,
          10,
          13,
          14,
          10,
          15,
          5,
          8,
          10,
          10,
          5,
          9,
          15,
          10,
          9,
          10,
          7,
          10,
          10
         ],
         "xaxis": "x",
         "y": [
          6077,
          6883,
          6623,
          5593,
          6465,
          5055,
          6347,
          4425,
          4724,
          4152,
          4810,
          2372,
          6781,
          3886,
          2133,
          9998,
          4898,
          5415,
          4735,
          4325,
          6288,
          5021,
          9824,
          5768,
          4302,
          4011,
          4035,
          4779,
          4558,
          4717,
          5006,
          5914,
          5677,
          5399,
          4108,
          5304,
          5915,
          4759,
          4081,
          4487,
          7847,
          3681,
          5731,
          4335,
          7779,
          4294,
          4724,
          5410,
          3069,
          5347,
          6545,
          5265,
          5131,
          5769,
          5042,
          5507,
          6852,
          5063,
          4591,
          2348,
          5126,
          6472,
          2406,
          6653,
          6029,
          3540,
          5985,
          6931,
          4907,
          9981,
          5231,
          4107,
          5467,
          5405,
          5577,
          4306,
          4306,
          9602,
          4639,
          4999,
          6334,
          4907,
          3902,
          4069,
          4539,
          4541,
          5204,
          4898,
          4424,
          5098,
          5772,
          5647,
          4538,
          6384,
          5714,
          4615,
          7991,
          6232,
          4684,
          5067,
          4071,
          5249,
          4556,
          4440,
          8853,
          4440,
          6667,
          6261,
          5071,
          5674,
          6214,
          6142,
          2272,
          4507,
          9957,
          5258,
          9679,
          5769,
          4194,
          5661,
          4240,
          8463,
          5204,
          4260,
          5257,
          4078,
          5993,
          4189,
          5405,
          4485,
          6962,
          4682,
          7104,
          6932,
          4534,
          5321,
          4661,
          5869,
          6578,
          2571,
          3448,
          6434,
          5673,
          5743,
          6132,
          5343,
          6586,
          6812,
          9725,
          8686,
          4320,
          6577,
          5163,
          4553,
          5238,
          4087,
          7725,
          4403,
          4805,
          2976,
          4648,
          4037,
          6524,
          4332,
          6549,
          5329,
          5228,
          5175,
          5484,
          5295,
          5309,
          4978,
          6272,
          6385,
          5154,
          8847,
          5010,
          5070,
          4941,
          4639,
          4444,
          5396,
          8938,
          6349,
          6646,
          5486,
          3149,
          8346,
          5473,
          5562,
          5332,
          5538,
          6811,
          3407,
          5747,
          4859,
          5151,
          5605,
          3986,
          4385,
          4373,
          5980,
          4450,
          4028,
          5373,
          5093,
          6652,
          6447,
          5003,
          4809,
          6306,
          4319,
          5505,
          6430,
          6893,
          4197,
          4736,
          4478,
          5207,
          8620,
          6274,
          4434,
          6877,
          4617,
          4227,
          5206,
          4788,
          5208,
          6322,
          3319,
          6854,
          4404,
          4779,
          6712,
          5736,
          6567,
          6782,
          5441,
          5228,
          4523,
          6347,
          5582,
          4345,
          4317,
          6500,
          4262,
          4851,
          4447,
          5237,
          5485,
          5094,
          4014,
          5368,
          5715,
          4272,
          2042,
          5666,
          5770,
          4221,
          5488,
          4374,
          9525,
          5130,
          5902,
          6389,
          5933,
          6833,
          4393,
          5253,
          6811,
          8381,
          7457,
          5675,
          6180,
          4900,
          5460,
          4422,
          4601,
          4256,
          4001,
          5429,
          4850,
          5968,
          4568,
          5079,
          6347,
          5470,
          6834,
          5810,
          4285,
          6502,
          4627,
          6500,
          5679,
          4011,
          5906,
          6538,
          6755,
          6397,
          6725,
          6146,
          5296,
          6388,
          4869,
          4312,
          4051,
          6091,
          4162,
          4960,
          5775,
          5974,
          6929,
          6651,
          4284,
          6439,
          5957,
          6842,
          6949,
          7379,
          5940,
          5482,
          5660,
          5220,
          4089,
          4197,
          6162,
          5484,
          5855,
          4741,
          5487,
          6410,
          9936,
          5003,
          4298,
          4537,
          8120,
          4342,
          6142,
          6513,
          4775,
          8639,
          8966,
          4505,
          5878,
          4115,
          9715,
          5476,
          4695,
          5390,
          5410,
          4244,
          4936,
          6861,
          6142,
          5561,
          8396,
          6825,
          3072,
          5363,
          5056,
          5377,
          4127,
          5811,
          6220,
          4249,
          5562,
          6294,
          6120,
          4105,
          4768,
          5562,
          3660,
          4490,
          5433,
          4789,
          4877,
          6516,
          5121,
          4522,
          5301,
          5343,
          4502,
          5454,
          2306,
          4908,
          3633,
          9924,
          5605,
          5406,
          4163,
          3491,
          4876,
          4187,
          6799,
          3072,
          3780,
          6032,
          6151,
          6062,
          9278,
          6499,
          5209,
          5472,
          5337,
          4765,
          6323,
          7547,
          3975,
          6815,
          6209,
          4033,
          6244,
          6162,
          5294,
          4193,
          4148,
          2450,
          3697,
          8103,
          4878,
          4950,
          6201,
          4327,
          6392,
          6230,
          6870,
          5087,
          5147,
          6674,
          4198,
          3055,
          4554,
          6804,
          5380,
          4647,
          4968,
          4668,
          5762,
          7756,
          6553,
          6804,
          4649,
          6687,
          6694,
          5155,
          5561,
          5171,
          8268,
          4148,
          6118,
          5467,
          6632,
          2741,
          7625,
          4103,
          9547,
          4465,
          6540,
          5745,
          6377,
          9204,
          4000,
          2897,
          5376,
          6644,
          5468,
          6474,
          5689,
          4449,
          4157,
          6583,
          5033,
          4025,
          4377,
          2176,
          4448,
          6125,
          5473,
          6582,
          4663,
          6272,
          4998
         ],
         "yaxis": "y"
        },
        {
         "hovertemplate": "JobLevel=Mid level<br>Attrition=Yes<br>TotalWorkingYears=%{x}<br>MonthlyIncome=%{y}<extra></extra>",
         "legendgroup": "Mid level",
         "marker": {
          "color": "#4F909B",
          "symbol": "circle"
         },
         "mode": "markers",
         "name": "Mid level",
         "showlegend": false,
         "type": "scattergl",
         "x": [
          10,
          4,
          19,
          6,
          10,
          7,
          6,
          18,
          8,
          4,
          17,
          12,
          6,
          10,
          9,
          8,
          10,
          7,
          8,
          6,
          7,
          11,
          6,
          8,
          20,
          12,
          5,
          9,
          9,
          7,
          11,
          14,
          12,
          8,
          5,
          9,
          13,
          9,
          8,
          16,
          13,
          10,
          5,
          7,
          12,
          7,
          16,
          10,
          10,
          4,
          6,
          15
         ],
         "xaxis": "x2",
         "y": [
          4213,
          4577,
          2086,
          9854,
          6179,
          5765,
          5744,
          6796,
          6397,
          4171,
          6673,
          6172,
          4707,
          9714,
          4233,
          5993,
          5813,
          9907,
          6380,
          8224,
          4969,
          4941,
          5326,
          5828,
          4284,
          6728,
          4614,
          6074,
          6696,
          5440,
          5346,
          4508,
          5160,
          9355,
          4728,
          4834,
          8926,
          5304,
          5916,
          4599,
          4581,
          6735,
          4286,
          5346,
          5238,
          4855,
          6134,
          5617,
          4883,
          4559,
          5324,
          4777
         ],
         "yaxis": "y2"
        },
        {
         "hovertemplate": "JobLevel=Senior<br>Attrition=No<br>TotalWorkingYears=%{x}<br>MonthlyIncome=%{y}<extra></extra>",
         "legendgroup": "Senior",
         "marker": {
          "color": "#707BAD",
          "symbol": "circle"
         },
         "mode": "markers",
         "name": "Senior",
         "showlegend": true,
         "type": "scattergl",
         "x": [
          9,
          14,
          12,
          9,
          10,
          12,
          17,
          19,
          11,
          17,
          11,
          9,
          18,
          9,
          17,
          15,
          10,
          24,
          15,
          10,
          9,
          10,
          18,
          24,
          9,
          28,
          9,
          25,
          18,
          11,
          14,
          12,
          14,
          13,
          10,
          24,
          11,
          10,
          10,
          10,
          13,
          24,
          16,
          9,
          13,
          9,
          37,
          10,
          18,
          12,
          33,
          9,
          10,
          10,
          16,
          14,
          20,
          16,
          15,
          18,
          10,
          16,
          23,
          15,
          17,
          28,
          15,
          11,
          19,
          21,
          10,
          10,
          24,
          26,
          9,
          10,
          9,
          10,
          9,
          15,
          21,
          10,
          18,
          13,
          25,
          10,
          19,
          12,
          13,
          10,
          9,
          25,
          9,
          19,
          10,
          17,
          9,
          23,
          12,
          35,
          12,
          17,
          9,
          10,
          16,
          24,
          24,
          20,
          10,
          9,
          15,
          12,
          23,
          10,
          22,
          20,
          15,
          16,
          10,
          28,
          11,
          11,
          10,
          18,
          9,
          16,
          14,
          20,
          15,
          9,
          25,
          10,
          10,
          13,
          14,
          13,
          16,
          12,
          9,
          30,
          10,
          13,
          16,
          10,
          14,
          12,
          10,
          16,
          23,
          16,
          29,
          10,
          9,
          14,
          10,
          17,
          10,
          16,
          20,
          12,
          10,
          10,
          10,
          10,
          20,
          9,
          20,
          9,
          9,
          17,
          10,
          9,
          10,
          16,
          20,
          28,
          23,
          10,
          22,
          29,
          10,
          12,
          10,
          15,
          27,
          21
         ],
         "xaxis": "x",
         "y": [
          9756,
          11691,
          7140,
          9250,
          9362,
          7823,
          10609,
          10883,
          8237,
          10221,
          7005,
          8726,
          10435,
          8834,
          13245,
          12504,
          7264,
          10124,
          10855,
          7351,
          13675,
          11713,
          7945,
          10248,
          11916,
          7637,
          9069,
          9724,
          10820,
          7898,
          10322,
          9439,
          11957,
          11031,
          8500,
          10851,
          9705,
          9610,
          9434,
          8789,
          10793,
          10453,
          10388,
          8008,
          10845,
          7880,
          7260,
          7441,
          10445,
          7428,
          10502,
          8628,
          9241,
          9980,
          13664,
          10596,
          10932,
          10725,
          8858,
          13348,
          7644,
          10209,
          10447,
          13458,
          10252,
          7969,
          13582,
          7918,
          9613,
          10880,
          7094,
          7655,
          10239,
          10965,
          9667,
          12185,
          8376,
          7596,
          8793,
          13603,
          10673,
          9980,
          10798,
          10686,
          8633,
          7406,
          12061,
          8474,
          10648,
          7587,
          8837,
          10748,
          8621,
          13269,
          8943,
          8095,
          7119,
          10231,
          11878,
          10934,
          7491,
          10096,
          9713,
          7642,
          10377,
          5210,
          10552,
          10938,
          8412,
          12808,
          8321,
          8189,
          8865,
          7861,
          10739,
          13499,
          9071,
          13549,
          7988,
          10527,
          7143,
          8606,
          11935,
          10761,
          9637,
          12490,
          11631,
          8823,
          13116,
          7412,
          10512,
          7510,
          8380,
          10368,
          10422,
          11994,
          13591,
          11510,
          8998,
          7525,
          11244,
          10920,
          13757,
          9884,
          11904,
          8020,
          9526,
          9208,
          10976,
          9699,
          10466,
          8392,
          11416,
          9888,
          7295,
          10685,
          11996,
          10903,
          10475,
          8578,
          11159,
          7083,
          9380,
          11557,
          13206,
          8740,
          13191,
          9991,
          13464,
          9396,
          9985,
          7879,
          7756,
          13744,
          10496,
          10333,
          7484,
          9738,
          10266,
          7403,
          9852,
          9419,
          7632,
          10274,
          10999,
          7082
         ],
         "yaxis": "y"
        },
        {
         "hovertemplate": "JobLevel=Senior<br>Attrition=Yes<br>TotalWorkingYears=%{x}<br>MonthlyIncome=%{y}<extra></extra>",
         "legendgroup": "Senior",
         "marker": {
          "color": "#707BAD",
          "symbol": "circle"
         },
         "mode": "markers",
         "name": "Senior",
         "showlegend": false,
         "type": "scattergl",
         "x": [
          20,
          40,
          15,
          11,
          14,
          10,
          9,
          17,
          10,
          12,
          28,
          9,
          24,
          11,
          11,
          17,
          9,
          16,
          10,
          23,
          10,
          15,
          10,
          10,
          34,
          9,
          10,
          31,
          9,
          15,
          18,
          14
         ],
         "xaxis": "x2",
         "y": [
          10854,
          10312,
          10448,
          7336,
          7314,
          7639,
          7553,
          10048,
          8161,
          9824,
          10096,
          7654,
          10482,
          8564,
          9950,
          10609,
          9582,
          10325,
          7446,
          5381,
          8722,
          13610,
          11849,
          8446,
          10169,
          9619,
          7978,
          10008,
          9094,
          10306,
          10650,
          10400
         ],
         "yaxis": "y2"
        },
        {
         "hovertemplate": "JobLevel=Lead<br>Attrition=No<br>TotalWorkingYears=%{x}<br>MonthlyIncome=%{y}<extra></extra>",
         "legendgroup": "Lead",
         "marker": {
          "color": "#A89DB7",
          "symbol": "circle"
         },
         "mode": "markers",
         "name": "Lead",
         "showlegend": true,
         "type": "scattergl",
         "x": [
          22,
          31,
          25,
          24,
          22,
          21,
          24,
          25,
          22,
          37,
          30,
          23,
          23,
          38,
          22,
          21,
          33,
          14,
          33,
          33,
          21,
          23,
          16,
          23,
          31,
          27,
          26,
          30,
          32,
          21,
          22,
          25,
          21,
          21,
          26,
          29,
          27,
          22,
          9,
          29,
          23,
          31,
          37,
          28,
          32,
          9,
          28,
          28,
          34,
          25,
          24,
          26,
          21,
          31,
          22,
          21,
          35,
          28,
          22,
          21,
          26,
          21,
          27,
          10,
          21,
          29,
          22,
          29,
          36,
          26,
          21,
          32,
          27,
          30,
          28,
          36,
          31,
          21,
          23,
          31,
          21,
          21,
          23,
          26,
          21,
          23,
          36,
          16,
          23,
          32,
          34,
          32,
          22,
          30,
          22,
          25,
          30,
          32,
          21,
          10,
          29
         ],
         "xaxis": "x",
         "y": [
          16015,
          17924,
          16880,
          13247,
          17159,
          17181,
          17174,
          14336,
          13237,
          16291,
          13726,
          13525,
          15379,
          13872,
          16064,
          16437,
          14275,
          17603,
          13402,
          14026,
          17068,
          17465,
          15992,
          17328,
          13826,
          17567,
          17099,
          16659,
          14814,
          13341,
          13503,
          16959,
          17584,
          16627,
          16752,
          17875,
          12965,
          14852,
          16124,
          16307,
          16606,
          16756,
          16835,
          16872,
          11245,
          16422,
          17048,
          11836,
          16856,
          13964,
          16328,
          17169,
          16704,
          16555,
          13120,
          17123,
          16598,
          13770,
          16595,
          17861,
          16032,
          12742,
          16885,
          17444,
          13570,
          13142,
          13973,
          17328,
          13212,
          17861,
          16799,
          14118,
          16413,
          11103,
          17046,
          17779,
          14732,
          14756,
          17665,
          15427,
          13734,
          15402,
          13320,
          17650,
          13496,
          15787,
          17426,
          17007,
          15202,
          14411,
          13577,
          17856,
          16823,
          13966,
          16792,
          13225,
          17639,
          17399,
          12031,
          16184,
          15972
         ],
         "yaxis": "y"
        },
        {
         "hovertemplate": "JobLevel=Lead<br>Attrition=Yes<br>TotalWorkingYears=%{x}<br>MonthlyIncome=%{y}<extra></extra>",
         "legendgroup": "Lead",
         "marker": {
          "color": "#A89DB7",
          "symbol": "circle"
         },
         "mode": "markers",
         "name": "Lead",
         "showlegend": false,
         "type": "scattergl",
         "x": [
          25,
          22,
          22,
          21,
          24
         ],
         "xaxis": "x2",
         "y": [
          12936,
          13758,
          13194,
          12169,
          13695
         ],
         "yaxis": "y2"
        },
        {
         "hovertemplate": "JobLevel=Executive<br>Attrition=No<br>TotalWorkingYears=%{x}<br>MonthlyIncome=%{y}<extra></extra>",
         "legendgroup": "Executive",
         "marker": {
          "color": "#C99193",
          "symbol": "circle"
         },
         "mode": "markers",
         "name": "Executive",
         "showlegend": true,
         "type": "scattergl",
         "x": [
          21,
          26,
          31,
          23,
          24,
          22,
          25,
          21,
          25,
          21,
          21,
          22,
          23,
          21,
          24,
          30,
          25,
          32,
          24,
          33,
          32,
          23,
          29,
          27,
          24,
          22,
          26,
          22,
          27,
          28,
          26,
          23,
          22,
          29,
          21,
          26,
          36,
          36,
          31,
          22,
          28,
          21,
          34,
          21,
          33,
          21,
          28,
          26,
          23,
          21,
          36,
          29,
          26,
          32,
          35,
          34,
          23,
          28,
          21,
          21,
          37,
          24,
          21,
          25
         ],
         "xaxis": "x",
         "y": [
          19973,
          18213,
          19502,
          19627,
          18430,
          18947,
          19202,
          18041,
          19740,
          19419,
          19431,
          19232,
          18711,
          19033,
          19613,
          18844,
          19081,
          19517,
          19328,
          19566,
          19701,
          19049,
          19665,
          19658,
          18880,
          19189,
          18606,
          18061,
          19331,
          19943,
          18789,
          19141,
          18665,
          18740,
          19197,
          19094,
          18722,
          19717,
          19847,
          19436,
          19144,
          18303,
          19999,
          19272,
          19068,
          19626,
          18172,
          19190,
          19537,
          19392,
          19586,
          19237,
          19513,
          18200,
          19636,
          19038,
          19187,
          19161,
          19926,
          19833,
          19045,
          19406,
          18300,
          18265
         ],
         "yaxis": "y"
        },
        {
         "hovertemplate": "JobLevel=Executive<br>Attrition=Yes<br>TotalWorkingYears=%{x}<br>MonthlyIncome=%{y}<extra></extra>",
         "legendgroup": "Executive",
         "marker": {
          "color": "#C99193",
          "symbol": "circle"
         },
         "mode": "markers",
         "name": "Executive",
         "showlegend": false,
         "type": "scattergl",
         "x": [
          40,
          24,
          33,
          23,
          26
         ],
         "xaxis": "x2",
         "y": [
          19246,
          19859,
          19845,
          19545,
          18824
         ],
         "yaxis": "y2"
        }
       ],
       "layout": {
        "annotations": [
         {
          "font": {},
          "showarrow": false,
          "text": "Attrition=No",
          "x": 0.245,
          "xanchor": "center",
          "xref": "paper",
          "y": 1,
          "yanchor": "bottom",
          "yref": "paper"
         },
         {
          "font": {},
          "showarrow": false,
          "text": "Attrition=Yes",
          "x": 0.755,
          "xanchor": "center",
          "xref": "paper",
          "y": 1,
          "yanchor": "bottom",
          "yref": "paper"
         }
        ],
        "font": {
         "color": "#28221D"
        },
        "legend": {
         "orientation": "h",
         "title": {
          "text": ""
         },
         "tracegroupgap": 0,
         "x": 1,
         "xanchor": "right",
         "y": 1.02,
         "yanchor": "bottom"
        },
        "margin": {
         "b": 80,
         "l": 40,
         "r": 30,
         "t": 120
        },
        "paper_bgcolor": "#F4F2F0",
        "plot_bgcolor": "#F4F2F0",
        "template": {
         "data": {
          "bar": [
           {
            "error_x": {
             "color": "#2a3f5f"
            },
            "error_y": {
             "color": "#2a3f5f"
            },
            "marker": {
             "line": {
              "color": "#E5ECF6",
              "width": 0.5
             },
             "pattern": {
              "fillmode": "overlay",
              "size": 10,
              "solidity": 0.2
             }
            },
            "type": "bar"
           }
          ],
          "barpolar": [
           {
            "marker": {
             "line": {
              "color": "#E5ECF6",
              "width": 0.5
             },
             "pattern": {
              "fillmode": "overlay",
              "size": 10,
              "solidity": 0.2
             }
            },
            "type": "barpolar"
           }
          ],
          "carpet": [
           {
            "aaxis": {
             "endlinecolor": "#2a3f5f",
             "gridcolor": "white",
             "linecolor": "white",
             "minorgridcolor": "white",
             "startlinecolor": "#2a3f5f"
            },
            "baxis": {
             "endlinecolor": "#2a3f5f",
             "gridcolor": "white",
             "linecolor": "white",
             "minorgridcolor": "white",
             "startlinecolor": "#2a3f5f"
            },
            "type": "carpet"
           }
          ],
          "choropleth": [
           {
            "colorbar": {
             "outlinewidth": 0,
             "ticks": ""
            },
            "type": "choropleth"
           }
          ],
          "contour": [
           {
            "colorbar": {
             "outlinewidth": 0,
             "ticks": ""
            },
            "colorscale": [
             [
              0,
              "#0d0887"
             ],
             [
              0.1111111111111111,
              "#46039f"
             ],
             [
              0.2222222222222222,
              "#7201a8"
             ],
             [
              0.3333333333333333,
              "#9c179e"
             ],
             [
              0.4444444444444444,
              "#bd3786"
             ],
             [
              0.5555555555555556,
              "#d8576b"
             ],
             [
              0.6666666666666666,
              "#ed7953"
             ],
             [
              0.7777777777777778,
              "#fb9f3a"
             ],
             [
              0.8888888888888888,
              "#fdca26"
             ],
             [
              1,
              "#f0f921"
             ]
            ],
            "type": "contour"
           }
          ],
          "contourcarpet": [
           {
            "colorbar": {
             "outlinewidth": 0,
             "ticks": ""
            },
            "type": "contourcarpet"
           }
          ],
          "heatmap": [
           {
            "colorbar": {
             "outlinewidth": 0,
             "ticks": ""
            },
            "colorscale": [
             [
              0,
              "#0d0887"
             ],
             [
              0.1111111111111111,
              "#46039f"
             ],
             [
              0.2222222222222222,
              "#7201a8"
             ],
             [
              0.3333333333333333,
              "#9c179e"
             ],
             [
              0.4444444444444444,
              "#bd3786"
             ],
             [
              0.5555555555555556,
              "#d8576b"
             ],
             [
              0.6666666666666666,
              "#ed7953"
             ],
             [
              0.7777777777777778,
              "#fb9f3a"
             ],
             [
              0.8888888888888888,
              "#fdca26"
             ],
             [
              1,
              "#f0f921"
             ]
            ],
            "type": "heatmap"
           }
          ],
          "heatmapgl": [
           {
            "colorbar": {
             "outlinewidth": 0,
             "ticks": ""
            },
            "colorscale": [
             [
              0,
              "#0d0887"
             ],
             [
              0.1111111111111111,
              "#46039f"
             ],
             [
              0.2222222222222222,
              "#7201a8"
             ],
             [
              0.3333333333333333,
              "#9c179e"
             ],
             [
              0.4444444444444444,
              "#bd3786"
             ],
             [
              0.5555555555555556,
              "#d8576b"
             ],
             [
              0.6666666666666666,
              "#ed7953"
             ],
             [
              0.7777777777777778,
              "#fb9f3a"
             ],
             [
              0.8888888888888888,
              "#fdca26"
             ],
             [
              1,
              "#f0f921"
             ]
            ],
            "type": "heatmapgl"
           }
          ],
          "histogram": [
           {
            "marker": {
             "pattern": {
              "fillmode": "overlay",
              "size": 10,
              "solidity": 0.2
             }
            },
            "type": "histogram"
           }
          ],
          "histogram2d": [
           {
            "colorbar": {
             "outlinewidth": 0,
             "ticks": ""
            },
            "colorscale": [
             [
              0,
              "#0d0887"
             ],
             [
              0.1111111111111111,
              "#46039f"
             ],
             [
              0.2222222222222222,
              "#7201a8"
             ],
             [
              0.3333333333333333,
              "#9c179e"
             ],
             [
              0.4444444444444444,
              "#bd3786"
             ],
             [
              0.5555555555555556,
              "#d8576b"
             ],
             [
              0.6666666666666666,
              "#ed7953"
             ],
             [
              0.7777777777777778,
              "#fb9f3a"
             ],
             [
              0.8888888888888888,
              "#fdca26"
             ],
             [
              1,
              "#f0f921"
             ]
            ],
            "type": "histogram2d"
           }
          ],
          "histogram2dcontour": [
           {
            "colorbar": {
             "outlinewidth": 0,
             "ticks": ""
            },
            "colorscale": [
             [
              0,
              "#0d0887"
             ],
             [
              0.1111111111111111,
              "#46039f"
             ],
             [
              0.2222222222222222,
              "#7201a8"
             ],
             [
              0.3333333333333333,
              "#9c179e"
             ],
             [
              0.4444444444444444,
              "#bd3786"
             ],
             [
              0.5555555555555556,
              "#d8576b"
             ],
             [
              0.6666666666666666,
              "#ed7953"
             ],
             [
              0.7777777777777778,
              "#fb9f3a"
             ],
             [
              0.8888888888888888,
              "#fdca26"
             ],
             [
              1,
              "#f0f921"
             ]
            ],
            "type": "histogram2dcontour"
           }
          ],
          "mesh3d": [
           {
            "colorbar": {
             "outlinewidth": 0,
             "ticks": ""
            },
            "type": "mesh3d"
           }
          ],
          "parcoords": [
           {
            "line": {
             "colorbar": {
              "outlinewidth": 0,
              "ticks": ""
             }
            },
            "type": "parcoords"
           }
          ],
          "pie": [
           {
            "automargin": true,
            "type": "pie"
           }
          ],
          "scatter": [
           {
            "fillpattern": {
             "fillmode": "overlay",
             "size": 10,
             "solidity": 0.2
            },
            "type": "scatter"
           }
          ],
          "scatter3d": [
           {
            "line": {
             "colorbar": {
              "outlinewidth": 0,
              "ticks": ""
             }
            },
            "marker": {
             "colorbar": {
              "outlinewidth": 0,
              "ticks": ""
             }
            },
            "type": "scatter3d"
           }
          ],
          "scattercarpet": [
           {
            "marker": {
             "colorbar": {
              "outlinewidth": 0,
              "ticks": ""
             }
            },
            "type": "scattercarpet"
           }
          ],
          "scattergeo": [
           {
            "marker": {
             "colorbar": {
              "outlinewidth": 0,
              "ticks": ""
             }
            },
            "type": "scattergeo"
           }
          ],
          "scattergl": [
           {
            "marker": {
             "colorbar": {
              "outlinewidth": 0,
              "ticks": ""
             }
            },
            "type": "scattergl"
           }
          ],
          "scattermapbox": [
           {
            "marker": {
             "colorbar": {
              "outlinewidth": 0,
              "ticks": ""
             }
            },
            "type": "scattermapbox"
           }
          ],
          "scatterpolar": [
           {
            "marker": {
             "colorbar": {
              "outlinewidth": 0,
              "ticks": ""
             }
            },
            "type": "scatterpolar"
           }
          ],
          "scatterpolargl": [
           {
            "marker": {
             "colorbar": {
              "outlinewidth": 0,
              "ticks": ""
             }
            },
            "type": "scatterpolargl"
           }
          ],
          "scatterternary": [
           {
            "marker": {
             "colorbar": {
              "outlinewidth": 0,
              "ticks": ""
             }
            },
            "type": "scatterternary"
           }
          ],
          "surface": [
           {
            "colorbar": {
             "outlinewidth": 0,
             "ticks": ""
            },
            "colorscale": [
             [
              0,
              "#0d0887"
             ],
             [
              0.1111111111111111,
              "#46039f"
             ],
             [
              0.2222222222222222,
              "#7201a8"
             ],
             [
              0.3333333333333333,
              "#9c179e"
             ],
             [
              0.4444444444444444,
              "#bd3786"
             ],
             [
              0.5555555555555556,
              "#d8576b"
             ],
             [
              0.6666666666666666,
              "#ed7953"
             ],
             [
              0.7777777777777778,
              "#fb9f3a"
             ],
             [
              0.8888888888888888,
              "#fdca26"
             ],
             [
              1,
              "#f0f921"
             ]
            ],
            "type": "surface"
           }
          ],
          "table": [
           {
            "cells": {
             "fill": {
              "color": "#EBF0F8"
             },
             "line": {
              "color": "white"
             }
            },
            "header": {
             "fill": {
              "color": "#C8D4E3"
             },
             "line": {
              "color": "white"
             }
            },
            "type": "table"
           }
          ]
         },
         "layout": {
          "annotationdefaults": {
           "arrowcolor": "#2a3f5f",
           "arrowhead": 0,
           "arrowwidth": 1
          },
          "autotypenumbers": "strict",
          "coloraxis": {
           "colorbar": {
            "outlinewidth": 0,
            "ticks": ""
           }
          },
          "colorscale": {
           "diverging": [
            [
             0,
             "#8e0152"
            ],
            [
             0.1,
             "#c51b7d"
            ],
            [
             0.2,
             "#de77ae"
            ],
            [
             0.3,
             "#f1b6da"
            ],
            [
             0.4,
             "#fde0ef"
            ],
            [
             0.5,
             "#f7f7f7"
            ],
            [
             0.6,
             "#e6f5d0"
            ],
            [
             0.7,
             "#b8e186"
            ],
            [
             0.8,
             "#7fbc41"
            ],
            [
             0.9,
             "#4d9221"
            ],
            [
             1,
             "#276419"
            ]
           ],
           "sequential": [
            [
             0,
             "#0d0887"
            ],
            [
             0.1111111111111111,
             "#46039f"
            ],
            [
             0.2222222222222222,
             "#7201a8"
            ],
            [
             0.3333333333333333,
             "#9c179e"
            ],
            [
             0.4444444444444444,
             "#bd3786"
            ],
            [
             0.5555555555555556,
             "#d8576b"
            ],
            [
             0.6666666666666666,
             "#ed7953"
            ],
            [
             0.7777777777777778,
             "#fb9f3a"
            ],
            [
             0.8888888888888888,
             "#fdca26"
            ],
            [
             1,
             "#f0f921"
            ]
           ],
           "sequentialminus": [
            [
             0,
             "#0d0887"
            ],
            [
             0.1111111111111111,
             "#46039f"
            ],
            [
             0.2222222222222222,
             "#7201a8"
            ],
            [
             0.3333333333333333,
             "#9c179e"
            ],
            [
             0.4444444444444444,
             "#bd3786"
            ],
            [
             0.5555555555555556,
             "#d8576b"
            ],
            [
             0.6666666666666666,
             "#ed7953"
            ],
            [
             0.7777777777777778,
             "#fb9f3a"
            ],
            [
             0.8888888888888888,
             "#fdca26"
            ],
            [
             1,
             "#f0f921"
            ]
           ]
          },
          "colorway": [
           "#636efa",
           "#EF553B",
           "#00cc96",
           "#ab63fa",
           "#FFA15A",
           "#19d3f3",
           "#FF6692",
           "#B6E880",
           "#FF97FF",
           "#FECB52"
          ],
          "font": {
           "color": "#2a3f5f"
          },
          "geo": {
           "bgcolor": "white",
           "lakecolor": "white",
           "landcolor": "#E5ECF6",
           "showlakes": true,
           "showland": true,
           "subunitcolor": "white"
          },
          "hoverlabel": {
           "align": "left"
          },
          "hovermode": "closest",
          "mapbox": {
           "style": "light"
          },
          "paper_bgcolor": "white",
          "plot_bgcolor": "#E5ECF6",
          "polar": {
           "angularaxis": {
            "gridcolor": "white",
            "linecolor": "white",
            "ticks": ""
           },
           "bgcolor": "#E5ECF6",
           "radialaxis": {
            "gridcolor": "white",
            "linecolor": "white",
            "ticks": ""
           }
          },
          "scene": {
           "xaxis": {
            "backgroundcolor": "#E5ECF6",
            "gridcolor": "white",
            "gridwidth": 2,
            "linecolor": "white",
            "showbackground": true,
            "ticks": "",
            "zerolinecolor": "white"
           },
           "yaxis": {
            "backgroundcolor": "#E5ECF6",
            "gridcolor": "white",
            "gridwidth": 2,
            "linecolor": "white",
            "showbackground": true,
            "ticks": "",
            "zerolinecolor": "white"
           },
           "zaxis": {
            "backgroundcolor": "#E5ECF6",
            "gridcolor": "white",
            "gridwidth": 2,
            "linecolor": "white",
            "showbackground": true,
            "ticks": "",
            "zerolinecolor": "white"
           }
          },
          "shapedefaults": {
           "line": {
            "color": "#2a3f5f"
           }
          },
          "ternary": {
           "aaxis": {
            "gridcolor": "white",
            "linecolor": "white",
            "ticks": ""
           },
           "baxis": {
            "gridcolor": "white",
            "linecolor": "white",
            "ticks": ""
           },
           "bgcolor": "#E5ECF6",
           "caxis": {
            "gridcolor": "white",
            "linecolor": "white",
            "ticks": ""
           }
          },
          "title": {
           "x": 0.05
          },
          "xaxis": {
           "automargin": true,
           "gridcolor": "white",
           "linecolor": "white",
           "ticks": "",
           "title": {
            "standoff": 15
           },
           "zerolinecolor": "white",
           "zerolinewidth": 2
          },
          "yaxis": {
           "automargin": true,
           "gridcolor": "white",
           "linecolor": "white",
           "ticks": "",
           "title": {
            "standoff": 15
           },
           "zerolinecolor": "white",
           "zerolinewidth": 2
          }
         }
        },
        "title": {
         "text": "Rotación en función de la experiencia laboral y el salario<br>"
        },
        "xaxis": {
         "anchor": "y",
         "domain": [
          0,
          0.49
         ],
         "title": {
          "text": "Tiempo de experiencia"
         }
        },
        "xaxis2": {
         "anchor": "y2",
         "domain": [
          0.51,
          1
         ],
         "matches": "x",
         "title": {
          "text": "TotalWorkingYears"
         }
        },
        "yaxis": {
         "anchor": "x",
         "domain": [
          0,
          1
         ],
         "tickprefix": "$",
         "title": {
          "text": "Salario"
         }
        },
        "yaxis2": {
         "anchor": "x2",
         "domain": [
          0,
          1
         ],
         "matches": "y",
         "showticklabels": false
        }
       }
      }
     },
     "metadata": {},
     "output_type": "display_data"
    }
   ],
   "source": [
    "plot_df = attrition.copy()\n",
    "plot_df['JobLevel'] = pd.Categorical(\n",
    "    plot_df['JobLevel']).rename_categories( \n",
    "    ['Entry level', 'Mid level', 'Senior', 'Lead', 'Executive'])\n",
    "col=['#73AF8E', '#4F909B', '#707BAD', '#A89DB7','#C99193']\n",
    "figsal = px.scatter(plot_df, x='TotalWorkingYears', y='MonthlyIncome', facet_col=\"Attrition\",\n",
    "                 color='JobLevel',\n",
    "                 color_discrete_sequence=col, \n",
    "                 category_orders={'JobLevel': ['Entry level', 'Mid level', 'Senior', 'Lead', 'Executive']})\n",
    "figsal.update_layout(legend=dict(orientation=\"h\", yanchor=\"bottom\", y=1.02, xanchor=\"right\", x=1),\n",
    "                  title='Rotación en función de la experiencia laboral y el salario<br>',\n",
    "                  yaxis=dict(title='Income',tickprefix='$'), \n",
    "                  legend_title='', font_color='#28221D',\n",
    "                  margin=dict(l=40, r=30, b=80, t=120),paper_bgcolor='#F4F2F0', plot_bgcolor='#F4F2F0')\n",
    "figsal.update_layout(xaxis_title=\"Tiempo de experiencia\", yaxis_title=\"Salario\")\n",
    "figsal.show()"
   ]
  },
  {
   "cell_type": "code",
   "execution_count": 76,
   "metadata": {},
   "outputs": [
    {
     "data": {
      "text/plain": [
       "<seaborn.axisgrid.FacetGrid at 0x1c04c3db670>"
      ]
     },
     "execution_count": 76,
     "metadata": {},
     "output_type": "execute_result"
    },
    {
     "data": {
      "text/plain": [
       "<Figure size 1000x500 with 0 Axes>"
      ]
     },
     "metadata": {},
     "output_type": "display_data"
    },
    {
     "data": {
      "image/png": "[encoded data removed]",
      "text/plain": [
       "<Figure size 1000x500 with 2 Axes>"
      ]
     },
     "metadata": {},
     "output_type": "display_data"
    }
   ],
   "source": [
    "plt.figure(figsize=(10,5))\n",
    "sns.displot(data = attrition, x = \"YearsAtCompany\", col = \"Attrition\")"
   ]
  },
  {
   "cell_type": "markdown",
   "metadata": {},
   "source": [
    "ROTACIÓN VS RANGO ETARIO\n",
    "Los colaboradores con un rango de edad entre los 30 y 35 años es el grupo más representativo en la organización. Adicionalmente se encontró que independientemente de si se es hombre o mujer los colaboradores cuyo grupo atareo es menor a 35 años son los que tienen mayor porcentaje de rotación."
   ]
  },
  {
   "cell_type": "code",
   "execution_count": 77,
   "metadata": {},
   "outputs": [
    {
     "data": {
      "text/html": [
       "<div>\n",
       "<style scoped>\n",
       "    .dataframe tbody tr th:only-of-type {\n",
       "        vertical-align: middle;\n",
       "    }\n",
       "\n",
       "    .dataframe tbody tr th {\n",
       "        vertical-align: top;\n",
       "    }\n",
       "\n",
       "    .dataframe thead th {\n",
       "        text-align: right;\n",
       "    }\n",
       "</style>\n",
       "<table border=\"1\" class=\"dataframe\">\n",
       "  <thead>\n",
       "    <tr style=\"text-align: right;\">\n",
       "      <th></th>\n",
       "      <th></th>\n",
       "      <th>count</th>\n",
       "    </tr>\n",
       "    <tr>\n",
       "      <th>column</th>\n",
       "      <th>value</th>\n",
       "      <th></th>\n",
       "    </tr>\n",
       "  </thead>\n",
       "  <tbody>\n",
       "    <tr>\n",
       "      <th rowspan=\"2\" valign=\"top\">Attrition</th>\n",
       "      <th>Yes</th>\n",
       "      <td>237</td>\n",
       "    </tr>\n",
       "    <tr>\n",
       "      <th>No</th>\n",
       "      <td>1233</td>\n",
       "    </tr>\n",
       "    <tr>\n",
       "      <th rowspan=\"3\" valign=\"top\">BusinessTravel</th>\n",
       "      <th>Non-Travel</th>\n",
       "      <td>150</td>\n",
       "    </tr>\n",
       "    <tr>\n",
       "      <th>Travel_Frequently</th>\n",
       "      <td>277</td>\n",
       "    </tr>\n",
       "    <tr>\n",
       "      <th>Travel_Rarely</th>\n",
       "      <td>1043</td>\n",
       "    </tr>\n",
       "    <tr>\n",
       "      <th rowspan=\"3\" valign=\"top\">Department</th>\n",
       "      <th>Human Resources</th>\n",
       "      <td>63</td>\n",
       "    </tr>\n",
       "    <tr>\n",
       "      <th>Sales</th>\n",
       "      <td>446</td>\n",
       "    </tr>\n",
       "    <tr>\n",
       "      <th>Research &amp; Development</th>\n",
       "      <td>961</td>\n",
       "    </tr>\n",
       "    <tr>\n",
       "      <th rowspan=\"2\" valign=\"top\">EducationField</th>\n",
       "      <th>Human Resources</th>\n",
       "      <td>27</td>\n",
       "    </tr>\n",
       "    <tr>\n",
       "      <th>Other</th>\n",
       "      <td>82</td>\n",
       "    </tr>\n",
       "  </tbody>\n",
       "</table>\n",
       "</div>"
      ],
      "text/plain": [
       "                                       count\n",
       "column         value                        \n",
       "Attrition      Yes                       237\n",
       "               No                       1233\n",
       "BusinessTravel Non-Travel                150\n",
       "               Travel_Frequently         277\n",
       "               Travel_Rarely            1043\n",
       "Department     Human Resources            63\n",
       "               Sales                     446\n",
       "               Research & Development    961\n",
       "EducationField Human Resources            27\n",
       "               Other                      82"
      ]
     },
     "execution_count": 77,
     "metadata": {},
     "output_type": "execute_result"
    }
   ],
   "source": [
    "attrition['AgeGroup']=pd.cut(attrition['Age'],bins=[15,20,25,30,35,40,45,50,55,60])\n",
    "attrition['AgeGroup'] = attrition['AgeGroup'].astype('str')\n",
    "cat_df=pd.DataFrame(attrition[cat_cols].melt(var_name='column', value_name='value')\n",
    "                    .value_counts()).rename(columns={0: 'count'}).sort_values(by=['column', 'count'])\n",
    "cat_df.head(10)"
   ]
  },
  {
   "cell_type": "code",
   "execution_count": 94,
   "metadata": {},
   "outputs": [
    {
     "data": {
      "application/vnd.plotly.v1+json": {
       "config": {
        "plotlyServerURL": "https://plot.ly"
       },
       "data": [
        {
         "alignmentgroup": "True",
         "hovertemplate": "Attrition=Yes<br>Gender=Female<br>AgeGroup=%{x}<br>Percent=%{text}<extra></extra>",
         "legendgroup": "Yes",
         "marker": {
          "color": "#C02B34",
          "line": {
           "color": "#28221D",
           "width": 1
          },
          "opacity": 0.75,
          "pattern": {
           "shape": ""
          }
         },
         "name": "Yes",
         "offsetgroup": "Yes",
         "orientation": "v",
         "showlegend": true,
         "text": [
          50,
          37.93103448275862,
          22.330097087378643,
          17.037037037037038,
          4.385964912280701,
          11.11111111111111,
          8.771929824561402,
          4.651162790697675,
          14.285714285714285
         ],
         "textposition": "outside",
         "texttemplate": "%{text:.3s}%",
         "type": "bar",
         "width": 0.4,
         "x": [
          "(15, 20]",
          "(20, 25]",
          "(25, 30]",
          "(30, 35]",
          "(35, 40]",
          "(40, 45]",
          "(45, 50]",
          "(50, 55]",
          "(55, 60]"
         ],
         "xaxis": "x",
         "y": [
          50,
          37.93103448275862,
          22.330097087378643,
          17.037037037037038,
          4.385964912280701,
          11.11111111111111,
          8.771929824561402,
          4.651162790697675,
          14.285714285714285
         ],
         "yaxis": "y"
        },
        {
         "alignmentgroup": "True",
         "hovertemplate": "Attrition=Yes<br>Gender=Male<br>AgeGroup=%{x}<br>Percent=%{text}<extra></extra>",
         "legendgroup": "Yes",
         "marker": {
          "color": "#C02B34",
          "line": {
           "color": "#28221D",
           "width": 1
          },
          "opacity": 0.75,
          "pattern": {
           "shape": ""
          }
         },
         "name": "Yes",
         "offsetgroup": "Yes",
         "orientation": "v",
         "showlegend": false,
         "text": [
          64.28571428571429,
          25.757575757575758,
          20.625,
          17.78846153846154,
          12.345679012345679,
          8.333333333333332,
          15.068493150684931,
          15.09433962264151,
          19.230769230769234
         ],
         "textposition": "outside",
         "texttemplate": "%{text:.3s}%",
         "type": "bar",
         "width": 0.4,
         "x": [
          "(15, 20]",
          "(20, 25]",
          "(25, 30]",
          "(30, 35]",
          "(35, 40]",
          "(40, 45]",
          "(45, 50]",
          "(50, 55]",
          "(55, 60]"
         ],
         "xaxis": "x2",
         "y": [
          64.28571428571429,
          25.757575757575758,
          20.625,
          17.78846153846154,
          12.345679012345679,
          8.333333333333332,
          15.068493150684931,
          15.09433962264151,
          19.230769230769234
         ],
         "yaxis": "y2"
        },
        {
         "alignmentgroup": "True",
         "hovertemplate": "Attrition=No<br>Gender=Female<br>AgeGroup=%{x}<br>Percent=%{text}<extra></extra>",
         "legendgroup": "No",
         "marker": {
          "color": "#CDBBA7",
          "line": {
           "color": "#28221D",
           "width": 1
          },
          "opacity": 0.75,
          "pattern": {
           "shape": ""
          }
         },
         "name": "No",
         "offsetgroup": "No",
         "orientation": "v",
         "showlegend": true,
         "text": [
          50,
          62.06896551724138,
          77.66990291262135,
          82.96296296296296,
          95.6140350877193,
          88.88888888888889,
          91.22807017543859,
          95.34883720930233,
          85.71428571428571
         ],
         "textposition": "outside",
         "texttemplate": "%{text:.3s}%",
         "type": "bar",
         "width": 0.4,
         "x": [
          "(15, 20]",
          "(20, 25]",
          "(25, 30]",
          "(30, 35]",
          "(35, 40]",
          "(40, 45]",
          "(45, 50]",
          "(50, 55]",
          "(55, 60]"
         ],
         "xaxis": "x",
         "y": [
          50,
          62.06896551724138,
          77.66990291262135,
          82.96296296296296,
          95.6140350877193,
          88.88888888888889,
          91.22807017543859,
          95.34883720930233,
          85.71428571428571
         ],
         "yaxis": "y"
        },
        {
         "alignmentgroup": "True",
         "hovertemplate": "Attrition=No<br>Gender=Male<br>AgeGroup=%{x}<br>Percent=%{text}<extra></extra>",
         "legendgroup": "No",
         "marker": {
          "color": "#CDBBA7",
          "line": {
           "color": "#28221D",
           "width": 1
          },
          "opacity": 0.75,
          "pattern": {
           "shape": ""
          }
         },
         "name": "No",
         "offsetgroup": "No",
         "orientation": "v",
         "showlegend": false,
         "text": [
          35.714285714285715,
          74.24242424242425,
          79.375,
          82.21153846153845,
          87.65432098765432,
          91.66666666666666,
          84.93150684931507,
          84.90566037735849,
          80.76923076923077
         ],
         "textposition": "outside",
         "texttemplate": "%{text:.3s}%",
         "type": "bar",
         "width": 0.4,
         "x": [
          "(15, 20]",
          "(20, 25]",
          "(25, 30]",
          "(30, 35]",
          "(35, 40]",
          "(40, 45]",
          "(45, 50]",
          "(50, 55]",
          "(55, 60]"
         ],
         "xaxis": "x2",
         "y": [
          35.714285714285715,
          74.24242424242425,
          79.375,
          82.21153846153845,
          87.65432098765432,
          91.66666666666666,
          84.93150684931507,
          84.90566037735849,
          80.76923076923077
         ],
         "yaxis": "y2"
        }
       ],
       "layout": {
        "annotations": [
         {
          "font": {},
          "showarrow": false,
          "text": "Gender=Female",
          "x": 0.245,
          "xanchor": "center",
          "xref": "paper",
          "y": 1,
          "yanchor": "bottom",
          "yref": "paper"
         },
         {
          "font": {},
          "showarrow": false,
          "text": "Gender=Male",
          "x": 0.755,
          "xanchor": "center",
          "xref": "paper",
          "y": 1,
          "yanchor": "bottom",
          "yref": "paper"
         }
        ],
        "barmode": "group",
        "font": {
         "color": "#28221D"
        },
        "height": 500,
        "legend": {
         "title": {
          "text": "Attrition"
         },
         "tracegroupgap": 0
        },
        "margin": {
         "t": 60
        },
        "paper_bgcolor": "#F4F2F0",
        "plot_bgcolor": "#F4F2F0",
        "template": {
         "data": {
          "bar": [
           {
            "error_x": {
             "color": "#2a3f5f"
            },
            "error_y": {
             "color": "#2a3f5f"
            },
            "marker": {
             "line": {
              "color": "#E5ECF6",
              "width": 0.5
             },
             "pattern": {
              "fillmode": "overlay",
              "size": 10,
              "solidity": 0.2
             }
            },
            "type": "bar"
           }
          ],
          "barpolar": [
           {
            "marker": {
             "line": {
              "color": "#E5ECF6",
              "width": 0.5
             },
             "pattern": {
              "fillmode": "overlay",
              "size": 10,
              "solidity": 0.2
             }
            },
            "type": "barpolar"
           }
          ],
          "carpet": [
           {
            "aaxis": {
             "endlinecolor": "#2a3f5f",
             "gridcolor": "white",
             "linecolor": "white",
             "minorgridcolor": "white",
             "startlinecolor": "#2a3f5f"
            },
            "baxis": {
             "endlinecolor": "#2a3f5f",
             "gridcolor": "white",
             "linecolor": "white",
             "minorgridcolor": "white",
             "startlinecolor": "#2a3f5f"
            },
            "type": "carpet"
           }
          ],
          "choropleth": [
           {
            "colorbar": {
             "outlinewidth": 0,
             "ticks": ""
            },
            "type": "choropleth"
           }
          ],
          "contour": [
           {
            "colorbar": {
             "outlinewidth": 0,
             "ticks": ""
            },
            "colorscale": [
             [
              0,
              "#0d0887"
             ],
             [
              0.1111111111111111,
              "#46039f"
             ],
             [
              0.2222222222222222,
              "#7201a8"
             ],
             [
              0.3333333333333333,
              "#9c179e"
             ],
             [
              0.4444444444444444,
              "#bd3786"
             ],
             [
              0.5555555555555556,
              "#d8576b"
             ],
             [
              0.6666666666666666,
              "#ed7953"
             ],
             [
              0.7777777777777778,
              "#fb9f3a"
             ],
             [
              0.8888888888888888,
              "#fdca26"
             ],
             [
              1,
              "#f0f921"
             ]
            ],
            "type": "contour"
           }
          ],
          "contourcarpet": [
           {
            "colorbar": {
             "outlinewidth": 0,
             "ticks": ""
            },
            "type": "contourcarpet"
           }
          ],
          "heatmap": [
           {
            "colorbar": {
             "outlinewidth": 0,
             "ticks": ""
            },
            "colorscale": [
             [
              0,
              "#0d0887"
             ],
             [
              0.1111111111111111,
              "#46039f"
             ],
             [
              0.2222222222222222,
              "#7201a8"
             ],
             [
              0.3333333333333333,
              "#9c179e"
             ],
             [
              0.4444444444444444,
              "#bd3786"
             ],
             [
              0.5555555555555556,
              "#d8576b"
             ],
             [
              0.6666666666666666,
              "#ed7953"
             ],
             [
              0.7777777777777778,
              "#fb9f3a"
             ],
             [
              0.8888888888888888,
              "#fdca26"
             ],
             [
              1,
              "#f0f921"
             ]
            ],
            "type": "heatmap"
           }
          ],
          "heatmapgl": [
           {
            "colorbar": {
             "outlinewidth": 0,
             "ticks": ""
            },
            "colorscale": [
             [
              0,
              "#0d0887"
             ],
             [
              0.1111111111111111,
              "#46039f"
             ],
             [
              0.2222222222222222,
              "#7201a8"
             ],
             [
              0.3333333333333333,
              "#9c179e"
             ],
             [
              0.4444444444444444,
              "#bd3786"
             ],
             [
              0.5555555555555556,
              "#d8576b"
             ],
             [
              0.6666666666666666,
              "#ed7953"
             ],
             [
              0.7777777777777778,
              "#fb9f3a"
             ],
             [
              0.8888888888888888,
              "#fdca26"
             ],
             [
              1,
              "#f0f921"
             ]
            ],
            "type": "heatmapgl"
           }
          ],
          "histogram": [
           {
            "marker": {
             "pattern": {
              "fillmode": "overlay",
              "size": 10,
              "solidity": 0.2
             }
            },
            "type": "histogram"
           }
          ],
          "histogram2d": [
           {
            "colorbar": {
             "outlinewidth": 0,
             "ticks": ""
            },
            "colorscale": [
             [
              0,
              "#0d0887"
             ],
             [
              0.1111111111111111,
              "#46039f"
             ],
             [
              0.2222222222222222,
              "#7201a8"
             ],
             [
              0.3333333333333333,
              "#9c179e"
             ],
             [
              0.4444444444444444,
              "#bd3786"
             ],
             [
              0.5555555555555556,
              "#d8576b"
             ],
             [
              0.6666666666666666,
              "#ed7953"
             ],
             [
              0.7777777777777778,
              "#fb9f3a"
             ],
             [
              0.8888888888888888,
              "#fdca26"
             ],
             [
              1,
              "#f0f921"
             ]
            ],
            "type": "histogram2d"
           }
          ],
          "histogram2dcontour": [
           {
            "colorbar": {
             "outlinewidth": 0,
             "ticks": ""
            },
            "colorscale": [
             [
              0,
              "#0d0887"
             ],
             [
              0.1111111111111111,
              "#46039f"
             ],
             [
              0.2222222222222222,
              "#7201a8"
             ],
             [
              0.3333333333333333,
              "#9c179e"
             ],
             [
              0.4444444444444444,
              "#bd3786"
             ],
             [
              0.5555555555555556,
              "#d8576b"
             ],
             [
              0.6666666666666666,
              "#ed7953"
             ],
             [
              0.7777777777777778,
              "#fb9f3a"
             ],
             [
              0.8888888888888888,
              "#fdca26"
             ],
             [
              1,
              "#f0f921"
             ]
            ],
            "type": "histogram2dcontour"
           }
          ],
          "mesh3d": [
           {
            "colorbar": {
             "outlinewidth": 0,
             "ticks": ""
            },
            "type": "mesh3d"
           }
          ],
          "parcoords": [
           {
            "line": {
             "colorbar": {
              "outlinewidth": 0,
              "ticks": ""
             }
            },
            "type": "parcoords"
           }
          ],
          "pie": [
           {
            "automargin": true,
            "type": "pie"
           }
          ],
          "scatter": [
           {
            "fillpattern": {
             "fillmode": "overlay",
             "size": 10,
             "solidity": 0.2
            },
            "type": "scatter"
           }
          ],
          "scatter3d": [
           {
            "line": {
             "colorbar": {
              "outlinewidth": 0,
              "ticks": ""
             }
            },
            "marker": {
             "colorbar": {
              "outlinewidth": 0,
              "ticks": ""
             }
            },
            "type": "scatter3d"
           }
          ],
          "scattercarpet": [
           {
            "marker": {
             "colorbar": {
              "outlinewidth": 0,
              "ticks": ""
             }
            },
            "type": "scattercarpet"
           }
          ],
          "scattergeo": [
           {
            "marker": {
             "colorbar": {
              "outlinewidth": 0,
              "ticks": ""
             }
            },
            "type": "scattergeo"
           }
          ],
          "scattergl": [
           {
            "marker": {
             "colorbar": {
              "outlinewidth": 0,
              "ticks": ""
             }
            },
            "type": "scattergl"
           }
          ],
          "scattermapbox": [
           {
            "marker": {
             "colorbar": {
              "outlinewidth": 0,
              "ticks": ""
             }
            },
            "type": "scattermapbox"
           }
          ],
          "scatterpolar": [
           {
            "marker": {
             "colorbar": {
              "outlinewidth": 0,
              "ticks": ""
             }
            },
            "type": "scatterpolar"
           }
          ],
          "scatterpolargl": [
           {
            "marker": {
             "colorbar": {
              "outlinewidth": 0,
              "ticks": ""
             }
            },
            "type": "scatterpolargl"
           }
          ],
          "scatterternary": [
           {
            "marker": {
             "colorbar": {
              "outlinewidth": 0,
              "ticks": ""
             }
            },
            "type": "scatterternary"
           }
          ],
          "surface": [
           {
            "colorbar": {
             "outlinewidth": 0,
             "ticks": ""
            },
            "colorscale": [
             [
              0,
              "#0d0887"
             ],
             [
              0.1111111111111111,
              "#46039f"
             ],
             [
              0.2222222222222222,
              "#7201a8"
             ],
             [
              0.3333333333333333,
              "#9c179e"
             ],
             [
              0.4444444444444444,
              "#bd3786"
             ],
             [
              0.5555555555555556,
              "#d8576b"
             ],
             [
              0.6666666666666666,
              "#ed7953"
             ],
             [
              0.7777777777777778,
              "#fb9f3a"
             ],
             [
              0.8888888888888888,
              "#fdca26"
             ],
             [
              1,
              "#f0f921"
             ]
            ],
            "type": "surface"
           }
          ],
          "table": [
           {
            "cells": {
             "fill": {
              "color": "#EBF0F8"
             },
             "line": {
              "color": "white"
             }
            },
            "header": {
             "fill": {
              "color": "#C8D4E3"
             },
             "line": {
              "color": "white"
             }
            },
            "type": "table"
           }
          ]
         },
         "layout": {
          "annotationdefaults": {
           "arrowcolor": "#2a3f5f",
           "arrowhead": 0,
           "arrowwidth": 1
          },
          "autotypenumbers": "strict",
          "coloraxis": {
           "colorbar": {
            "outlinewidth": 0,
            "ticks": ""
           }
          },
          "colorscale": {
           "diverging": [
            [
             0,
             "#8e0152"
            ],
            [
             0.1,
             "#c51b7d"
            ],
            [
             0.2,
             "#de77ae"
            ],
            [
             0.3,
             "#f1b6da"
            ],
            [
             0.4,
             "#fde0ef"
            ],
            [
             0.5,
             "#f7f7f7"
            ],
            [
             0.6,
             "#e6f5d0"
            ],
            [
             0.7,
             "#b8e186"
            ],
            [
             0.8,
             "#7fbc41"
            ],
            [
             0.9,
             "#4d9221"
            ],
            [
             1,
             "#276419"
            ]
           ],
           "sequential": [
            [
             0,
             "#0d0887"
            ],
            [
             0.1111111111111111,
             "#46039f"
            ],
            [
             0.2222222222222222,
             "#7201a8"
            ],
            [
             0.3333333333333333,
             "#9c179e"
            ],
            [
             0.4444444444444444,
             "#bd3786"
            ],
            [
             0.5555555555555556,
             "#d8576b"
            ],
            [
             0.6666666666666666,
             "#ed7953"
            ],
            [
             0.7777777777777778,
             "#fb9f3a"
            ],
            [
             0.8888888888888888,
             "#fdca26"
            ],
            [
             1,
             "#f0f921"
            ]
           ],
           "sequentialminus": [
            [
             0,
             "#0d0887"
            ],
            [
             0.1111111111111111,
             "#46039f"
            ],
            [
             0.2222222222222222,
             "#7201a8"
            ],
            [
             0.3333333333333333,
             "#9c179e"
            ],
            [
             0.4444444444444444,
             "#bd3786"
            ],
            [
             0.5555555555555556,
             "#d8576b"
            ],
            [
             0.6666666666666666,
             "#ed7953"
            ],
            [
             0.7777777777777778,
             "#fb9f3a"
            ],
            [
             0.8888888888888888,
             "#fdca26"
            ],
            [
             1,
             "#f0f921"
            ]
           ]
          },
          "colorway": [
           "#636efa",
           "#EF553B",
           "#00cc96",
           "#ab63fa",
           "#FFA15A",
           "#19d3f3",
           "#FF6692",
           "#B6E880",
           "#FF97FF",
           "#FECB52"
          ],
          "font": {
           "color": "#2a3f5f"
          },
          "geo": {
           "bgcolor": "white",
           "lakecolor": "white",
           "landcolor": "#E5ECF6",
           "showlakes": true,
           "showland": true,
           "subunitcolor": "white"
          },
          "hoverlabel": {
           "align": "left"
          },
          "hovermode": "closest",
          "mapbox": {
           "style": "light"
          },
          "paper_bgcolor": "white",
          "plot_bgcolor": "#E5ECF6",
          "polar": {
           "angularaxis": {
            "gridcolor": "white",
            "linecolor": "white",
            "ticks": ""
           },
           "bgcolor": "#E5ECF6",
           "radialaxis": {
            "gridcolor": "white",
            "linecolor": "white",
            "ticks": ""
           }
          },
          "scene": {
           "xaxis": {
            "backgroundcolor": "#E5ECF6",
            "gridcolor": "white",
            "gridwidth": 2,
            "linecolor": "white",
            "showbackground": true,
            "ticks": "",
            "zerolinecolor": "white"
           },
           "yaxis": {
            "backgroundcolor": "#E5ECF6",
            "gridcolor": "white",
            "gridwidth": 2,
            "linecolor": "white",
            "showbackground": true,
            "ticks": "",
            "zerolinecolor": "white"
           },
           "zaxis": {
            "backgroundcolor": "#E5ECF6",
            "gridcolor": "white",
            "gridwidth": 2,
            "linecolor": "white",
            "showbackground": true,
            "ticks": "",
            "zerolinecolor": "white"
           }
          },
          "shapedefaults": {
           "line": {
            "color": "#2a3f5f"
           }
          },
          "ternary": {
           "aaxis": {
            "gridcolor": "white",
            "linecolor": "white",
            "ticks": ""
           },
           "baxis": {
            "gridcolor": "white",
            "linecolor": "white",
            "ticks": ""
           },
           "bgcolor": "#E5ECF6",
           "caxis": {
            "gridcolor": "white",
            "linecolor": "white",
            "ticks": ""
           }
          },
          "title": {
           "x": 0.05
          },
          "xaxis": {
           "automargin": true,
           "gridcolor": "white",
           "linecolor": "white",
           "ticks": "",
           "title": {
            "standoff": 15
           },
           "zerolinecolor": "white",
           "zerolinewidth": 2
          },
          "yaxis": {
           "automargin": true,
           "gridcolor": "white",
           "linecolor": "white",
           "ticks": "",
           "title": {
            "standoff": 15
           },
           "zerolinecolor": "white",
           "zerolinewidth": 2
          }
         }
        },
        "title": {
         "text": "Tasa de rotación por grupo de edad y género"
        },
        "xaxis": {
         "anchor": "y",
         "domain": [
          0,
          0.49
         ],
         "tickangle": 30,
         "title": {
          "text": "Grupo etáreo"
         }
        },
        "xaxis2": {
         "anchor": "y2",
         "domain": [
          0.51,
          1
         ],
         "matches": "x",
         "showticklabels": true,
         "tickangle": 30,
         "title": {
          "text": "AgeGroup"
         }
        },
        "yaxis": {
         "anchor": "x",
         "domain": [
          0,
          1
         ],
         "ticksuffix": "%",
         "title": {
          "text": ""
         },
         "zeroline": true,
         "zerolinecolor": "#28221D",
         "zerolinewidth": 1
        },
        "yaxis2": {
         "anchor": "x2",
         "domain": [
          0,
          1
         ],
         "matches": "y",
         "showticklabels": false,
         "title": {
          "text": ""
         },
         "zeroline": true,
         "zerolinecolor": "#28221D",
         "zerolinewidth": 1
        }
       }
      }
     },
     "metadata": {},
     "output_type": "display_data"
    }
   ],
   "source": [
    "attrition['AgeGroup']=pd.cut(attrition['Age'],bins=[15,20,25,30,35,40,45,50,55,60])\n",
    "attrition['AgeGroup'] = attrition['AgeGroup'].astype('str')\n",
    "cat_df=pd.DataFrame(attrition[cat_cols].melt(var_name='column', value_name='value')\n",
    "                    .value_counts()).rename(columns={0: 'count'}).sort_values(by=['column', 'count'])\n",
    "plot_df = attrition.groupby(['Gender','AgeGroup'])['Attrition'].value_counts(normalize=True)\n",
    "plot_df = plot_df.mul(100).rename('Percent').reset_index()\n",
    "figage = px.bar(plot_df, x=\"AgeGroup\", y=\"Percent\", color=\"Attrition\", barmode=\"group\",\n",
    "            text='Percent', opacity=.75, facet_col=\"Gender\", category_orders={'Attrition': ['Yes', 'No']},\n",
    "            color_discrete_map={'Yes': '#C02B34','No': '#CDBBA7'}) \n",
    "figage.update_traces(texttemplate='%{text:.3s}%', textposition='outside',\n",
    "                  marker_line=dict(width=1, color='#28221D'),  width=.4)\n",
    "figage.update_layout(title_text='Tasa de rotación por grupo de edad y género', yaxis_ticksuffix = '%',\n",
    "                  paper_bgcolor='#F4F2F0', plot_bgcolor='#F4F2F0',font_color='#28221D',\n",
    "                  height=500, xaxis=dict(tickangle=30))\n",
    "figage.update_xaxes(showticklabels=True,tickangle=30,col=2)\n",
    "figage.update_yaxes(title = \"\", zeroline=True, zerolinewidth=1, zerolinecolor='#28221D')\n",
    "figage.update_layout(xaxis_title=\"Grupo etáreo\")"
   ]
  },
  {
   "cell_type": "markdown",
   "metadata": {},
   "source": [
    "CORRELACIONES ENTRE LAS VARIABLES NUMÉRICAS\n",
    "Se encontró mayor correlación entre las variable nivel de trabajo (JobLevel) con ingreso mensual (Monthly Income), al igual que TotalWorkingYears (total de años de trabajo) con nivel de trabajo (JobLevel). Lo que se busca para la realización del modelo predictivo se busca que las variables no estén demasiado correlacionadas, con el fin de garantizar que no hay información redundante. En el caso que se tengan muchas variables correlacionadas entre si una opción es realizar análisis de componentes principales con el fin de la cantidad de variables."
   ]
  },
  {
   "cell_type": "markdown",
   "metadata": {},
   "source": [
    "Verificación del supuesto de normalidad"
   ]
  },
  {
   "cell_type": "code",
   "execution_count": null,
   "metadata": {},
   "outputs": [],
   "source": [
    "numeric=['Age','DailyRate','DistanceFromHome',\n",
    "'Education','EmployeeCount','EmployeeNumber',\n",
    "'EnvironmentSatisfaction','HourlyRate','JobInvolvement',\n",
    "'JobLevel','JobSatisfaction','MonthlyIncome','MonthlyRate','NumCompaniesWorked',\n",
    "'PercentSalaryHike','PerformanceRating','RelationshipSatisfaction','StandardHours',\t\n",
    "'StockOptionLevel','TotalWorkingYears','TrainingTimesLastYear','WorkLifeBalance',\t\n",
    "'YearsAtCompany','YearsInCurrentRole','YearsSinceLastPromotion','YearsWithCurrManager',\n",
    "]\n",
    "numeric\n",
    "for i in numeric:\n",
    "    #print(attrition[i])\n",
    "    print(i,':', stats.shapiro(attrition[i]))"
   ]
  },
  {
   "cell_type": "markdown",
   "metadata": {},
   "source": [
    "CORRELACIONES ENTRE LAS VARIABLES NUMÉRICAS\n",
    "Se encontró mayor correlación entre las variable nivel de trabajo (JobLevel) con ingreso mensual (Monthly Income), al igual que TotalWorkingYears (total de años de trabajo) con nivel de trabajo (JobLevel). Lo que se busca para la realización del modelo predictivo se busca que las variables no estén demasiado correlacionadas, con el fin de garantizar que no hay información redundante. En el caso que se tengan muchas variables correlacionadas entre si una opción es realizar análisis de componentes principales con el fin de la cantidad de variables."
   ]
  },
  {
   "cell_type": "code",
   "execution_count": 87,
   "metadata": {},
   "outputs": [
    {
     "name": "stderr",
     "output_type": "stream",
     "text": [
      "C:\\Users\\GAM\\AppData\\Local\\Temp\\ipykernel_13636\\1860063447.py:8: FutureWarning:\n",
      "\n",
      "The default value of numeric_only in DataFrame.corr is deprecated. In a future version, it will default to False. Select only valid columns or specify the value of numeric_only to silence this warning.\n",
      "\n"
     ]
    },
    {
     "data": {
      "application/vnd.plotly.v1+json": {
       "config": {
        "plotlyServerURL": "https://plot.ly"
       },
       "data": [
        {
         "colorscale": [
          [
           0,
           "rgb(247,252,240)"
          ],
          [
           0.125,
           "rgb(224,243,219)"
          ],
          [
           0.25,
           "rgb(204,235,197)"
          ],
          [
           0.375,
           "rgb(168,221,181)"
          ],
          [
           0.5,
           "rgb(123,204,196)"
          ],
          [
           0.625,
           "rgb(78,179,211)"
          ],
          [
           0.75,
           "rgb(43,140,190)"
          ],
          [
           0.875,
           "rgb(8,104,172)"
          ],
          [
           1,
           "rgb(8,64,129)"
          ]
         ],
         "hovertemplate": "Correlation between %{x} and %{y}= %{z}",
         "name": "",
         "reversescale": false,
         "showscale": false,
         "type": "heatmap",
         "x": [
          "Age",
          "DailyRate",
          "DistanceFromHome",
          "HourlyRate",
          "MonthlyIncome",
          "MonthlyRate",
          "NumCompaniesWorked",
          "PercentSalaryHike",
          "TotalWorkingYears",
          "TrainingTimesLastYear",
          "YearsAtCompany",
          "YearsInCurrentRole",
          "YearsSinceLastPromotion",
          "YearsWithCurrManager"
         ],
         "y": [
          "Age",
          "DailyRate",
          "DistanceFromHome",
          "HourlyRate",
          "MonthlyIncome",
          "MonthlyRate",
          "NumCompaniesWorked",
          "PercentSalaryHike",
          "TotalWorkingYears",
          "TrainingTimesLastYear",
          "YearsAtCompany",
          "YearsInCurrentRole",
          "YearsSinceLastPromotion",
          "YearsWithCurrManager"
         ],
         "z": [
          [
           1,
           0.01,
           -0.02,
           0.03,
           0.47,
           0.02,
           0.35,
           0.01,
           0.66,
           0,
           0.25,
           0.2,
           0.17,
           0.19
          ],
          [
           0.01,
           1,
           0,
           0.02,
           0.02,
           -0.03,
           0.04,
           0.03,
           0.02,
           -0.01,
           -0.01,
           0.01,
           -0.04,
           0
          ],
          [
           -0.02,
           0,
           1,
           0.02,
           0,
           0.04,
           -0.01,
           0.03,
           0,
           -0.02,
           0.01,
           0.01,
           0,
           0
          ],
          [
           0.03,
           0.02,
           0.02,
           1,
           -0.02,
           -0.01,
           0.02,
           -0.01,
           -0.01,
           0,
           -0.03,
           -0.03,
           -0.05,
           -0.01
          ],
          [
           0.47,
           0.02,
           0,
           -0.02,
           1,
           0.05,
           0.19,
           -0.03,
           0.71,
           -0.03,
           0.46,
           0.39,
           0.26,
           0.37
          ],
          [
           0.02,
           -0.03,
           0.04,
           -0.01,
           0.05,
           1,
           0.02,
           -0.01,
           0.01,
           -0.01,
           -0.03,
           -0.01,
           -0.02,
           -0.04
          ],
          [
           0.35,
           0.04,
           -0.01,
           0.02,
           0.19,
           0.02,
           1,
           0,
           0.32,
           -0.05,
           -0.17,
           -0.13,
           -0.07,
           -0.14
          ],
          [
           0.01,
           0.03,
           0.03,
           -0.01,
           -0.03,
           -0.01,
           0,
           1,
           -0.03,
           0,
           -0.05,
           -0.03,
           -0.06,
           -0.03
          ],
          [
           0.66,
           0.02,
           0,
           -0.01,
           0.71,
           0.01,
           0.32,
           -0.03,
           1,
           -0.01,
           0.59,
           0.49,
           0.33,
           0.5
          ],
          [
           0,
           -0.01,
           -0.02,
           0,
           -0.03,
           -0.01,
           -0.05,
           0,
           -0.01,
           1,
           0,
           0,
           0.01,
           -0.01
          ],
          [
           0.25,
           -0.01,
           0.01,
           -0.03,
           0.46,
           -0.03,
           -0.17,
           -0.05,
           0.59,
           0,
           1,
           0.85,
           0.52,
           0.84
          ],
          [
           0.2,
           0.01,
           0.01,
           -0.03,
           0.39,
           -0.01,
           -0.13,
           -0.03,
           0.49,
           0,
           0.85,
           1,
           0.51,
           0.72
          ],
          [
           0.17,
           -0.04,
           0,
           -0.05,
           0.26,
           -0.02,
           -0.07,
           -0.06,
           0.33,
           0.01,
           0.52,
           0.51,
           1,
           0.47
          ],
          [
           0.19,
           0,
           0,
           -0.01,
           0.37,
           -0.04,
           -0.14,
           -0.03,
           0.5,
           -0.01,
           0.84,
           0.72,
           0.47,
           1
          ]
         ]
        }
       ],
       "layout": {
        "annotations": [
         {
          "font": {
           "color": "#FFFFFF"
          },
          "showarrow": false,
          "text": "1.0",
          "x": "Age",
          "xref": "x",
          "y": "Age",
          "yref": "y"
         },
         {
          "font": {
           "color": "#000000"
          },
          "showarrow": false,
          "text": "0.01",
          "x": "DailyRate",
          "xref": "x",
          "y": "Age",
          "yref": "y"
         },
         {
          "font": {
           "color": "#000000"
          },
          "showarrow": false,
          "text": "-0.02",
          "x": "DistanceFromHome",
          "xref": "x",
          "y": "Age",
          "yref": "y"
         },
         {
          "font": {
           "color": "#000000"
          },
          "showarrow": false,
          "text": "0.03",
          "x": "HourlyRate",
          "xref": "x",
          "y": "Age",
          "yref": "y"
         },
         {
          "font": {
           "color": "#FFFFFF"
          },
          "showarrow": false,
          "text": "0.47",
          "x": "MonthlyIncome",
          "xref": "x",
          "y": "Age",
          "yref": "y"
         },
         {
          "font": {
           "color": "#000000"
          },
          "showarrow": false,
          "text": "0.02",
          "x": "MonthlyRate",
          "xref": "x",
          "y": "Age",
          "yref": "y"
         },
         {
          "font": {
           "color": "#000000"
          },
          "showarrow": false,
          "text": "0.35",
          "x": "NumCompaniesWorked",
          "xref": "x",
          "y": "Age",
          "yref": "y"
         },
         {
          "font": {
           "color": "#000000"
          },
          "showarrow": false,
          "text": "0.01",
          "x": "PercentSalaryHike",
          "xref": "x",
          "y": "Age",
          "yref": "y"
         },
         {
          "font": {
           "color": "#FFFFFF"
          },
          "showarrow": false,
          "text": "0.66",
          "x": "TotalWorkingYears",
          "xref": "x",
          "y": "Age",
          "yref": "y"
         },
         {
          "font": {
           "color": "#000000"
          },
          "showarrow": false,
          "text": "0.0",
          "x": "TrainingTimesLastYear",
          "xref": "x",
          "y": "Age",
          "yref": "y"
         },
         {
          "font": {
           "color": "#000000"
          },
          "showarrow": false,
          "text": "0.25",
          "x": "YearsAtCompany",
          "xref": "x",
          "y": "Age",
          "yref": "y"
         },
         {
          "font": {
           "color": "#000000"
          },
          "showarrow": false,
          "text": "0.2",
          "x": "YearsInCurrentRole",
          "xref": "x",
          "y": "Age",
          "yref": "y"
         },
         {
          "font": {
           "color": "#000000"
          },
          "showarrow": false,
          "text": "0.17",
          "x": "YearsSinceLastPromotion",
          "xref": "x",
          "y": "Age",
          "yref": "y"
         },
         {
          "font": {
           "color": "#000000"
          },
          "showarrow": false,
          "text": "0.19",
          "x": "YearsWithCurrManager",
          "xref": "x",
          "y": "Age",
          "yref": "y"
         },
         {
          "font": {
           "color": "#000000"
          },
          "showarrow": false,
          "text": "0.01",
          "x": "Age",
          "xref": "x",
          "y": "DailyRate",
          "yref": "y"
         },
         {
          "font": {
           "color": "#FFFFFF"
          },
          "showarrow": false,
          "text": "1.0",
          "x": "DailyRate",
          "xref": "x",
          "y": "DailyRate",
          "yref": "y"
         },
         {
          "font": {
           "color": "#000000"
          },
          "showarrow": false,
          "text": "-0.0",
          "x": "DistanceFromHome",
          "xref": "x",
          "y": "DailyRate",
          "yref": "y"
         },
         {
          "font": {
           "color": "#000000"
          },
          "showarrow": false,
          "text": "0.02",
          "x": "HourlyRate",
          "xref": "x",
          "y": "DailyRate",
          "yref": "y"
         },
         {
          "font": {
           "color": "#000000"
          },
          "showarrow": false,
          "text": "0.02",
          "x": "MonthlyIncome",
          "xref": "x",
          "y": "DailyRate",
          "yref": "y"
         },
         {
          "font": {
           "color": "#000000"
          },
          "showarrow": false,
          "text": "-0.03",
          "x": "MonthlyRate",
          "xref": "x",
          "y": "DailyRate",
          "yref": "y"
         },
         {
          "font": {
           "color": "#000000"
          },
          "showarrow": false,
          "text": "0.04",
          "x": "NumCompaniesWorked",
          "xref": "x",
          "y": "DailyRate",
          "yref": "y"
         },
         {
          "font": {
           "color": "#000000"
          },
          "showarrow": false,
          "text": "0.03",
          "x": "PercentSalaryHike",
          "xref": "x",
          "y": "DailyRate",
          "yref": "y"
         },
         {
          "font": {
           "color": "#000000"
          },
          "showarrow": false,
          "text": "0.02",
          "x": "TotalWorkingYears",
          "xref": "x",
          "y": "DailyRate",
          "yref": "y"
         },
         {
          "font": {
           "color": "#000000"
          },
          "showarrow": false,
          "text": "-0.01",
          "x": "TrainingTimesLastYear",
          "xref": "x",
          "y": "DailyRate",
          "yref": "y"
         },
         {
          "font": {
           "color": "#000000"
          },
          "showarrow": false,
          "text": "-0.01",
          "x": "YearsAtCompany",
          "xref": "x",
          "y": "DailyRate",
          "yref": "y"
         },
         {
          "font": {
           "color": "#000000"
          },
          "showarrow": false,
          "text": "0.01",
          "x": "YearsInCurrentRole",
          "xref": "x",
          "y": "DailyRate",
          "yref": "y"
         },
         {
          "font": {
           "color": "#000000"
          },
          "showarrow": false,
          "text": "-0.04",
          "x": "YearsSinceLastPromotion",
          "xref": "x",
          "y": "DailyRate",
          "yref": "y"
         },
         {
          "font": {
           "color": "#000000"
          },
          "showarrow": false,
          "text": "-0.0",
          "x": "YearsWithCurrManager",
          "xref": "x",
          "y": "DailyRate",
          "yref": "y"
         },
         {
          "font": {
           "color": "#000000"
          },
          "showarrow": false,
          "text": "-0.02",
          "x": "Age",
          "xref": "x",
          "y": "DistanceFromHome",
          "yref": "y"
         },
         {
          "font": {
           "color": "#000000"
          },
          "showarrow": false,
          "text": "-0.0",
          "x": "DailyRate",
          "xref": "x",
          "y": "DistanceFromHome",
          "yref": "y"
         },
         {
          "font": {
           "color": "#FFFFFF"
          },
          "showarrow": false,
          "text": "1.0",
          "x": "DistanceFromHome",
          "xref": "x",
          "y": "DistanceFromHome",
          "yref": "y"
         },
         {
          "font": {
           "color": "#000000"
          },
          "showarrow": false,
          "text": "0.02",
          "x": "HourlyRate",
          "xref": "x",
          "y": "DistanceFromHome",
          "yref": "y"
         },
         {
          "font": {
           "color": "#000000"
          },
          "showarrow": false,
          "text": "0.0",
          "x": "MonthlyIncome",
          "xref": "x",
          "y": "DistanceFromHome",
          "yref": "y"
         },
         {
          "font": {
           "color": "#000000"
          },
          "showarrow": false,
          "text": "0.04",
          "x": "MonthlyRate",
          "xref": "x",
          "y": "DistanceFromHome",
          "yref": "y"
         },
         {
          "font": {
           "color": "#000000"
          },
          "showarrow": false,
          "text": "-0.01",
          "x": "NumCompaniesWorked",
          "xref": "x",
          "y": "DistanceFromHome",
          "yref": "y"
         },
         {
          "font": {
           "color": "#000000"
          },
          "showarrow": false,
          "text": "0.03",
          "x": "PercentSalaryHike",
          "xref": "x",
          "y": "DistanceFromHome",
          "yref": "y"
         },
         {
          "font": {
           "color": "#000000"
          },
          "showarrow": false,
          "text": "-0.0",
          "x": "TotalWorkingYears",
          "xref": "x",
          "y": "DistanceFromHome",
          "yref": "y"
         },
         {
          "font": {
           "color": "#000000"
          },
          "showarrow": false,
          "text": "-0.02",
          "x": "TrainingTimesLastYear",
          "xref": "x",
          "y": "DistanceFromHome",
          "yref": "y"
         },
         {
          "font": {
           "color": "#000000"
          },
          "showarrow": false,
          "text": "0.01",
          "x": "YearsAtCompany",
          "xref": "x",
          "y": "DistanceFromHome",
          "yref": "y"
         },
         {
          "font": {
           "color": "#000000"
          },
          "showarrow": false,
          "text": "0.01",
          "x": "YearsInCurrentRole",
          "xref": "x",
          "y": "DistanceFromHome",
          "yref": "y"
         },
         {
          "font": {
           "color": "#000000"
          },
          "showarrow": false,
          "text": "-0.0",
          "x": "YearsSinceLastPromotion",
          "xref": "x",
          "y": "DistanceFromHome",
          "yref": "y"
         },
         {
          "font": {
           "color": "#000000"
          },
          "showarrow": false,
          "text": "0.0",
          "x": "YearsWithCurrManager",
          "xref": "x",
          "y": "DistanceFromHome",
          "yref": "y"
         },
         {
          "font": {
           "color": "#000000"
          },
          "showarrow": false,
          "text": "0.03",
          "x": "Age",
          "xref": "x",
          "y": "HourlyRate",
          "yref": "y"
         },
         {
          "font": {
           "color": "#000000"
          },
          "showarrow": false,
          "text": "0.02",
          "x": "DailyRate",
          "xref": "x",
          "y": "HourlyRate",
          "yref": "y"
         },
         {
          "font": {
           "color": "#000000"
          },
          "showarrow": false,
          "text": "0.02",
          "x": "DistanceFromHome",
          "xref": "x",
          "y": "HourlyRate",
          "yref": "y"
         },
         {
          "font": {
           "color": "#FFFFFF"
          },
          "showarrow": false,
          "text": "1.0",
          "x": "HourlyRate",
          "xref": "x",
          "y": "HourlyRate",
          "yref": "y"
         },
         {
          "font": {
           "color": "#000000"
          },
          "showarrow": false,
          "text": "-0.02",
          "x": "MonthlyIncome",
          "xref": "x",
          "y": "HourlyRate",
          "yref": "y"
         },
         {
          "font": {
           "color": "#000000"
          },
          "showarrow": false,
          "text": "-0.01",
          "x": "MonthlyRate",
          "xref": "x",
          "y": "HourlyRate",
          "yref": "y"
         },
         {
          "font": {
           "color": "#000000"
          },
          "showarrow": false,
          "text": "0.02",
          "x": "NumCompaniesWorked",
          "xref": "x",
          "y": "HourlyRate",
          "yref": "y"
         },
         {
          "font": {
           "color": "#000000"
          },
          "showarrow": false,
          "text": "-0.01",
          "x": "PercentSalaryHike",
          "xref": "x",
          "y": "HourlyRate",
          "yref": "y"
         },
         {
          "font": {
           "color": "#000000"
          },
          "showarrow": false,
          "text": "-0.01",
          "x": "TotalWorkingYears",
          "xref": "x",
          "y": "HourlyRate",
          "yref": "y"
         },
         {
          "font": {
           "color": "#000000"
          },
          "showarrow": false,
          "text": "0.0",
          "x": "TrainingTimesLastYear",
          "xref": "x",
          "y": "HourlyRate",
          "yref": "y"
         },
         {
          "font": {
           "color": "#000000"
          },
          "showarrow": false,
          "text": "-0.03",
          "x": "YearsAtCompany",
          "xref": "x",
          "y": "HourlyRate",
          "yref": "y"
         },
         {
          "font": {
           "color": "#000000"
          },
          "showarrow": false,
          "text": "-0.03",
          "x": "YearsInCurrentRole",
          "xref": "x",
          "y": "HourlyRate",
          "yref": "y"
         },
         {
          "font": {
           "color": "#000000"
          },
          "showarrow": false,
          "text": "-0.05",
          "x": "YearsSinceLastPromotion",
          "xref": "x",
          "y": "HourlyRate",
          "yref": "y"
         },
         {
          "font": {
           "color": "#000000"
          },
          "showarrow": false,
          "text": "-0.01",
          "x": "YearsWithCurrManager",
          "xref": "x",
          "y": "HourlyRate",
          "yref": "y"
         },
         {
          "font": {
           "color": "#FFFFFF"
          },
          "showarrow": false,
          "text": "0.47",
          "x": "Age",
          "xref": "x",
          "y": "MonthlyIncome",
          "yref": "y"
         },
         {
          "font": {
           "color": "#000000"
          },
          "showarrow": false,
          "text": "0.02",
          "x": "DailyRate",
          "xref": "x",
          "y": "MonthlyIncome",
          "yref": "y"
         },
         {
          "font": {
           "color": "#000000"
          },
          "showarrow": false,
          "text": "0.0",
          "x": "DistanceFromHome",
          "xref": "x",
          "y": "MonthlyIncome",
          "yref": "y"
         },
         {
          "font": {
           "color": "#000000"
          },
          "showarrow": false,
          "text": "-0.02",
          "x": "HourlyRate",
          "xref": "x",
          "y": "MonthlyIncome",
          "yref": "y"
         },
         {
          "font": {
           "color": "#FFFFFF"
          },
          "showarrow": false,
          "text": "1.0",
          "x": "MonthlyIncome",
          "xref": "x",
          "y": "MonthlyIncome",
          "yref": "y"
         },
         {
          "font": {
           "color": "#000000"
          },
          "showarrow": false,
          "text": "0.05",
          "x": "MonthlyRate",
          "xref": "x",
          "y": "MonthlyIncome",
          "yref": "y"
         },
         {
          "font": {
           "color": "#000000"
          },
          "showarrow": false,
          "text": "0.19",
          "x": "NumCompaniesWorked",
          "xref": "x",
          "y": "MonthlyIncome",
          "yref": "y"
         },
         {
          "font": {
           "color": "#000000"
          },
          "showarrow": false,
          "text": "-0.03",
          "x": "PercentSalaryHike",
          "xref": "x",
          "y": "MonthlyIncome",
          "yref": "y"
         },
         {
          "font": {
           "color": "#FFFFFF"
          },
          "showarrow": false,
          "text": "0.71",
          "x": "TotalWorkingYears",
          "xref": "x",
          "y": "MonthlyIncome",
          "yref": "y"
         },
         {
          "font": {
           "color": "#000000"
          },
          "showarrow": false,
          "text": "-0.03",
          "x": "TrainingTimesLastYear",
          "xref": "x",
          "y": "MonthlyIncome",
          "yref": "y"
         },
         {
          "font": {
           "color": "#FFFFFF"
          },
          "showarrow": false,
          "text": "0.46",
          "x": "YearsAtCompany",
          "xref": "x",
          "y": "MonthlyIncome",
          "yref": "y"
         },
         {
          "font": {
           "color": "#000000"
          },
          "showarrow": false,
          "text": "0.39",
          "x": "YearsInCurrentRole",
          "xref": "x",
          "y": "MonthlyIncome",
          "yref": "y"
         },
         {
          "font": {
           "color": "#000000"
          },
          "showarrow": false,
          "text": "0.26",
          "x": "YearsSinceLastPromotion",
          "xref": "x",
          "y": "MonthlyIncome",
          "yref": "y"
         },
         {
          "font": {
           "color": "#000000"
          },
          "showarrow": false,
          "text": "0.37",
          "x": "YearsWithCurrManager",
          "xref": "x",
          "y": "MonthlyIncome",
          "yref": "y"
         },
         {
          "font": {
           "color": "#000000"
          },
          "showarrow": false,
          "text": "0.02",
          "x": "Age",
          "xref": "x",
          "y": "MonthlyRate",
          "yref": "y"
         },
         {
          "font": {
           "color": "#000000"
          },
          "showarrow": false,
          "text": "-0.03",
          "x": "DailyRate",
          "xref": "x",
          "y": "MonthlyRate",
          "yref": "y"
         },
         {
          "font": {
           "color": "#000000"
          },
          "showarrow": false,
          "text": "0.04",
          "x": "DistanceFromHome",
          "xref": "x",
          "y": "MonthlyRate",
          "yref": "y"
         },
         {
          "font": {
           "color": "#000000"
          },
          "showarrow": false,
          "text": "-0.01",
          "x": "HourlyRate",
          "xref": "x",
          "y": "MonthlyRate",
          "yref": "y"
         },
         {
          "font": {
           "color": "#000000"
          },
          "showarrow": false,
          "text": "0.05",
          "x": "MonthlyIncome",
          "xref": "x",
          "y": "MonthlyRate",
          "yref": "y"
         },
         {
          "font": {
           "color": "#FFFFFF"
          },
          "showarrow": false,
          "text": "1.0",
          "x": "MonthlyRate",
          "xref": "x",
          "y": "MonthlyRate",
          "yref": "y"
         },
         {
          "font": {
           "color": "#000000"
          },
          "showarrow": false,
          "text": "0.02",
          "x": "NumCompaniesWorked",
          "xref": "x",
          "y": "MonthlyRate",
          "yref": "y"
         },
         {
          "font": {
           "color": "#000000"
          },
          "showarrow": false,
          "text": "-0.01",
          "x": "PercentSalaryHike",
          "xref": "x",
          "y": "MonthlyRate",
          "yref": "y"
         },
         {
          "font": {
           "color": "#000000"
          },
          "showarrow": false,
          "text": "0.01",
          "x": "TotalWorkingYears",
          "xref": "x",
          "y": "MonthlyRate",
          "yref": "y"
         },
         {
          "font": {
           "color": "#000000"
          },
          "showarrow": false,
          "text": "-0.01",
          "x": "TrainingTimesLastYear",
          "xref": "x",
          "y": "MonthlyRate",
          "yref": "y"
         },
         {
          "font": {
           "color": "#000000"
          },
          "showarrow": false,
          "text": "-0.03",
          "x": "YearsAtCompany",
          "xref": "x",
          "y": "MonthlyRate",
          "yref": "y"
         },
         {
          "font": {
           "color": "#000000"
          },
          "showarrow": false,
          "text": "-0.01",
          "x": "YearsInCurrentRole",
          "xref": "x",
          "y": "MonthlyRate",
          "yref": "y"
         },
         {
          "font": {
           "color": "#000000"
          },
          "showarrow": false,
          "text": "-0.02",
          "x": "YearsSinceLastPromotion",
          "xref": "x",
          "y": "MonthlyRate",
          "yref": "y"
         },
         {
          "font": {
           "color": "#000000"
          },
          "showarrow": false,
          "text": "-0.04",
          "x": "YearsWithCurrManager",
          "xref": "x",
          "y": "MonthlyRate",
          "yref": "y"
         },
         {
          "font": {
           "color": "#000000"
          },
          "showarrow": false,
          "text": "0.35",
          "x": "Age",
          "xref": "x",
          "y": "NumCompaniesWorked",
          "yref": "y"
         },
         {
          "font": {
           "color": "#000000"
          },
          "showarrow": false,
          "text": "0.04",
          "x": "DailyRate",
          "xref": "x",
          "y": "NumCompaniesWorked",
          "yref": "y"
         },
         {
          "font": {
           "color": "#000000"
          },
          "showarrow": false,
          "text": "-0.01",
          "x": "DistanceFromHome",
          "xref": "x",
          "y": "NumCompaniesWorked",
          "yref": "y"
         },
         {
          "font": {
           "color": "#000000"
          },
          "showarrow": false,
          "text": "0.02",
          "x": "HourlyRate",
          "xref": "x",
          "y": "NumCompaniesWorked",
          "yref": "y"
         },
         {
          "font": {
           "color": "#000000"
          },
          "showarrow": false,
          "text": "0.19",
          "x": "MonthlyIncome",
          "xref": "x",
          "y": "NumCompaniesWorked",
          "yref": "y"
         },
         {
          "font": {
           "color": "#000000"
          },
          "showarrow": false,
          "text": "0.02",
          "x": "MonthlyRate",
          "xref": "x",
          "y": "NumCompaniesWorked",
          "yref": "y"
         },
         {
          "font": {
           "color": "#FFFFFF"
          },
          "showarrow": false,
          "text": "1.0",
          "x": "NumCompaniesWorked",
          "xref": "x",
          "y": "NumCompaniesWorked",
          "yref": "y"
         },
         {
          "font": {
           "color": "#000000"
          },
          "showarrow": false,
          "text": "0.0",
          "x": "PercentSalaryHike",
          "xref": "x",
          "y": "NumCompaniesWorked",
          "yref": "y"
         },
         {
          "font": {
           "color": "#000000"
          },
          "showarrow": false,
          "text": "0.32",
          "x": "TotalWorkingYears",
          "xref": "x",
          "y": "NumCompaniesWorked",
          "yref": "y"
         },
         {
          "font": {
           "color": "#000000"
          },
          "showarrow": false,
          "text": "-0.05",
          "x": "TrainingTimesLastYear",
          "xref": "x",
          "y": "NumCompaniesWorked",
          "yref": "y"
         },
         {
          "font": {
           "color": "#000000"
          },
          "showarrow": false,
          "text": "-0.17",
          "x": "YearsAtCompany",
          "xref": "x",
          "y": "NumCompaniesWorked",
          "yref": "y"
         },
         {
          "font": {
           "color": "#000000"
          },
          "showarrow": false,
          "text": "-0.13",
          "x": "YearsInCurrentRole",
          "xref": "x",
          "y": "NumCompaniesWorked",
          "yref": "y"
         },
         {
          "font": {
           "color": "#000000"
          },
          "showarrow": false,
          "text": "-0.07",
          "x": "YearsSinceLastPromotion",
          "xref": "x",
          "y": "NumCompaniesWorked",
          "yref": "y"
         },
         {
          "font": {
           "color": "#000000"
          },
          "showarrow": false,
          "text": "-0.14",
          "x": "YearsWithCurrManager",
          "xref": "x",
          "y": "NumCompaniesWorked",
          "yref": "y"
         },
         {
          "font": {
           "color": "#000000"
          },
          "showarrow": false,
          "text": "0.01",
          "x": "Age",
          "xref": "x",
          "y": "PercentSalaryHike",
          "yref": "y"
         },
         {
          "font": {
           "color": "#000000"
          },
          "showarrow": false,
          "text": "0.03",
          "x": "DailyRate",
          "xref": "x",
          "y": "PercentSalaryHike",
          "yref": "y"
         },
         {
          "font": {
           "color": "#000000"
          },
          "showarrow": false,
          "text": "0.03",
          "x": "DistanceFromHome",
          "xref": "x",
          "y": "PercentSalaryHike",
          "yref": "y"
         },
         {
          "font": {
           "color": "#000000"
          },
          "showarrow": false,
          "text": "-0.01",
          "x": "HourlyRate",
          "xref": "x",
          "y": "PercentSalaryHike",
          "yref": "y"
         },
         {
          "font": {
           "color": "#000000"
          },
          "showarrow": false,
          "text": "-0.03",
          "x": "MonthlyIncome",
          "xref": "x",
          "y": "PercentSalaryHike",
          "yref": "y"
         },
         {
          "font": {
           "color": "#000000"
          },
          "showarrow": false,
          "text": "-0.01",
          "x": "MonthlyRate",
          "xref": "x",
          "y": "PercentSalaryHike",
          "yref": "y"
         },
         {
          "font": {
           "color": "#000000"
          },
          "showarrow": false,
          "text": "0.0",
          "x": "NumCompaniesWorked",
          "xref": "x",
          "y": "PercentSalaryHike",
          "yref": "y"
         },
         {
          "font": {
           "color": "#FFFFFF"
          },
          "showarrow": false,
          "text": "1.0",
          "x": "PercentSalaryHike",
          "xref": "x",
          "y": "PercentSalaryHike",
          "yref": "y"
         },
         {
          "font": {
           "color": "#000000"
          },
          "showarrow": false,
          "text": "-0.03",
          "x": "TotalWorkingYears",
          "xref": "x",
          "y": "PercentSalaryHike",
          "yref": "y"
         },
         {
          "font": {
           "color": "#000000"
          },
          "showarrow": false,
          "text": "-0.0",
          "x": "TrainingTimesLastYear",
          "xref": "x",
          "y": "PercentSalaryHike",
          "yref": "y"
         },
         {
          "font": {
           "color": "#000000"
          },
          "showarrow": false,
          "text": "-0.05",
          "x": "YearsAtCompany",
          "xref": "x",
          "y": "PercentSalaryHike",
          "yref": "y"
         },
         {
          "font": {
           "color": "#000000"
          },
          "showarrow": false,
          "text": "-0.03",
          "x": "YearsInCurrentRole",
          "xref": "x",
          "y": "PercentSalaryHike",
          "yref": "y"
         },
         {
          "font": {
           "color": "#000000"
          },
          "showarrow": false,
          "text": "-0.06",
          "x": "YearsSinceLastPromotion",
          "xref": "x",
          "y": "PercentSalaryHike",
          "yref": "y"
         },
         {
          "font": {
           "color": "#000000"
          },
          "showarrow": false,
          "text": "-0.03",
          "x": "YearsWithCurrManager",
          "xref": "x",
          "y": "PercentSalaryHike",
          "yref": "y"
         },
         {
          "font": {
           "color": "#FFFFFF"
          },
          "showarrow": false,
          "text": "0.66",
          "x": "Age",
          "xref": "x",
          "y": "TotalWorkingYears",
          "yref": "y"
         },
         {
          "font": {
           "color": "#000000"
          },
          "showarrow": false,
          "text": "0.02",
          "x": "DailyRate",
          "xref": "x",
          "y": "TotalWorkingYears",
          "yref": "y"
         },
         {
          "font": {
           "color": "#000000"
          },
          "showarrow": false,
          "text": "-0.0",
          "x": "DistanceFromHome",
          "xref": "x",
          "y": "TotalWorkingYears",
          "yref": "y"
         },
         {
          "font": {
           "color": "#000000"
          },
          "showarrow": false,
          "text": "-0.01",
          "x": "HourlyRate",
          "xref": "x",
          "y": "TotalWorkingYears",
          "yref": "y"
         },
         {
          "font": {
           "color": "#FFFFFF"
          },
          "showarrow": false,
          "text": "0.71",
          "x": "MonthlyIncome",
          "xref": "x",
          "y": "TotalWorkingYears",
          "yref": "y"
         },
         {
          "font": {
           "color": "#000000"
          },
          "showarrow": false,
          "text": "0.01",
          "x": "MonthlyRate",
          "xref": "x",
          "y": "TotalWorkingYears",
          "yref": "y"
         },
         {
          "font": {
           "color": "#000000"
          },
          "showarrow": false,
          "text": "0.32",
          "x": "NumCompaniesWorked",
          "xref": "x",
          "y": "TotalWorkingYears",
          "yref": "y"
         },
         {
          "font": {
           "color": "#000000"
          },
          "showarrow": false,
          "text": "-0.03",
          "x": "PercentSalaryHike",
          "xref": "x",
          "y": "TotalWorkingYears",
          "yref": "y"
         },
         {
          "font": {
           "color": "#FFFFFF"
          },
          "showarrow": false,
          "text": "1.0",
          "x": "TotalWorkingYears",
          "xref": "x",
          "y": "TotalWorkingYears",
          "yref": "y"
         },
         {
          "font": {
           "color": "#000000"
          },
          "showarrow": false,
          "text": "-0.01",
          "x": "TrainingTimesLastYear",
          "xref": "x",
          "y": "TotalWorkingYears",
          "yref": "y"
         },
         {
          "font": {
           "color": "#FFFFFF"
          },
          "showarrow": false,
          "text": "0.59",
          "x": "YearsAtCompany",
          "xref": "x",
          "y": "TotalWorkingYears",
          "yref": "y"
         },
         {
          "font": {
           "color": "#FFFFFF"
          },
          "showarrow": false,
          "text": "0.49",
          "x": "YearsInCurrentRole",
          "xref": "x",
          "y": "TotalWorkingYears",
          "yref": "y"
         },
         {
          "font": {
           "color": "#000000"
          },
          "showarrow": false,
          "text": "0.33",
          "x": "YearsSinceLastPromotion",
          "xref": "x",
          "y": "TotalWorkingYears",
          "yref": "y"
         },
         {
          "font": {
           "color": "#FFFFFF"
          },
          "showarrow": false,
          "text": "0.5",
          "x": "YearsWithCurrManager",
          "xref": "x",
          "y": "TotalWorkingYears",
          "yref": "y"
         },
         {
          "font": {
           "color": "#000000"
          },
          "showarrow": false,
          "text": "0.0",
          "x": "Age",
          "xref": "x",
          "y": "TrainingTimesLastYear",
          "yref": "y"
         },
         {
          "font": {
           "color": "#000000"
          },
          "showarrow": false,
          "text": "-0.01",
          "x": "DailyRate",
          "xref": "x",
          "y": "TrainingTimesLastYear",
          "yref": "y"
         },
         {
          "font": {
           "color": "#000000"
          },
          "showarrow": false,
          "text": "-0.02",
          "x": "DistanceFromHome",
          "xref": "x",
          "y": "TrainingTimesLastYear",
          "yref": "y"
         },
         {
          "font": {
           "color": "#000000"
          },
          "showarrow": false,
          "text": "0.0",
          "x": "HourlyRate",
          "xref": "x",
          "y": "TrainingTimesLastYear",
          "yref": "y"
         },
         {
          "font": {
           "color": "#000000"
          },
          "showarrow": false,
          "text": "-0.03",
          "x": "MonthlyIncome",
          "xref": "x",
          "y": "TrainingTimesLastYear",
          "yref": "y"
         },
         {
          "font": {
           "color": "#000000"
          },
          "showarrow": false,
          "text": "-0.01",
          "x": "MonthlyRate",
          "xref": "x",
          "y": "TrainingTimesLastYear",
          "yref": "y"
         },
         {
          "font": {
           "color": "#000000"
          },
          "showarrow": false,
          "text": "-0.05",
          "x": "NumCompaniesWorked",
          "xref": "x",
          "y": "TrainingTimesLastYear",
          "yref": "y"
         },
         {
          "font": {
           "color": "#000000"
          },
          "showarrow": false,
          "text": "-0.0",
          "x": "PercentSalaryHike",
          "xref": "x",
          "y": "TrainingTimesLastYear",
          "yref": "y"
         },
         {
          "font": {
           "color": "#000000"
          },
          "showarrow": false,
          "text": "-0.01",
          "x": "TotalWorkingYears",
          "xref": "x",
          "y": "TrainingTimesLastYear",
          "yref": "y"
         },
         {
          "font": {
           "color": "#FFFFFF"
          },
          "showarrow": false,
          "text": "1.0",
          "x": "TrainingTimesLastYear",
          "xref": "x",
          "y": "TrainingTimesLastYear",
          "yref": "y"
         },
         {
          "font": {
           "color": "#000000"
          },
          "showarrow": false,
          "text": "0.0",
          "x": "YearsAtCompany",
          "xref": "x",
          "y": "TrainingTimesLastYear",
          "yref": "y"
         },
         {
          "font": {
           "color": "#000000"
          },
          "showarrow": false,
          "text": "0.0",
          "x": "YearsInCurrentRole",
          "xref": "x",
          "y": "TrainingTimesLastYear",
          "yref": "y"
         },
         {
          "font": {
           "color": "#000000"
          },
          "showarrow": false,
          "text": "0.01",
          "x": "YearsSinceLastPromotion",
          "xref": "x",
          "y": "TrainingTimesLastYear",
          "yref": "y"
         },
         {
          "font": {
           "color": "#000000"
          },
          "showarrow": false,
          "text": "-0.01",
          "x": "YearsWithCurrManager",
          "xref": "x",
          "y": "TrainingTimesLastYear",
          "yref": "y"
         },
         {
          "font": {
           "color": "#000000"
          },
          "showarrow": false,
          "text": "0.25",
          "x": "Age",
          "xref": "x",
          "y": "YearsAtCompany",
          "yref": "y"
         },
         {
          "font": {
           "color": "#000000"
          },
          "showarrow": false,
          "text": "-0.01",
          "x": "DailyRate",
          "xref": "x",
          "y": "YearsAtCompany",
          "yref": "y"
         },
         {
          "font": {
           "color": "#000000"
          },
          "showarrow": false,
          "text": "0.01",
          "x": "DistanceFromHome",
          "xref": "x",
          "y": "YearsAtCompany",
          "yref": "y"
         },
         {
          "font": {
           "color": "#000000"
          },
          "showarrow": false,
          "text": "-0.03",
          "x": "HourlyRate",
          "xref": "x",
          "y": "YearsAtCompany",
          "yref": "y"
         },
         {
          "font": {
           "color": "#FFFFFF"
          },
          "showarrow": false,
          "text": "0.46",
          "x": "MonthlyIncome",
          "xref": "x",
          "y": "YearsAtCompany",
          "yref": "y"
         },
         {
          "font": {
           "color": "#000000"
          },
          "showarrow": false,
          "text": "-0.03",
          "x": "MonthlyRate",
          "xref": "x",
          "y": "YearsAtCompany",
          "yref": "y"
         },
         {
          "font": {
           "color": "#000000"
          },
          "showarrow": false,
          "text": "-0.17",
          "x": "NumCompaniesWorked",
          "xref": "x",
          "y": "YearsAtCompany",
          "yref": "y"
         },
         {
          "font": {
           "color": "#000000"
          },
          "showarrow": false,
          "text": "-0.05",
          "x": "PercentSalaryHike",
          "xref": "x",
          "y": "YearsAtCompany",
          "yref": "y"
         },
         {
          "font": {
           "color": "#FFFFFF"
          },
          "showarrow": false,
          "text": "0.59",
          "x": "TotalWorkingYears",
          "xref": "x",
          "y": "YearsAtCompany",
          "yref": "y"
         },
         {
          "font": {
           "color": "#000000"
          },
          "showarrow": false,
          "text": "0.0",
          "x": "TrainingTimesLastYear",
          "xref": "x",
          "y": "YearsAtCompany",
          "yref": "y"
         },
         {
          "font": {
           "color": "#FFFFFF"
          },
          "showarrow": false,
          "text": "1.0",
          "x": "YearsAtCompany",
          "xref": "x",
          "y": "YearsAtCompany",
          "yref": "y"
         },
         {
          "font": {
           "color": "#FFFFFF"
          },
          "showarrow": false,
          "text": "0.85",
          "x": "YearsInCurrentRole",
          "xref": "x",
          "y": "YearsAtCompany",
          "yref": "y"
         },
         {
          "font": {
           "color": "#FFFFFF"
          },
          "showarrow": false,
          "text": "0.52",
          "x": "YearsSinceLastPromotion",
          "xref": "x",
          "y": "YearsAtCompany",
          "yref": "y"
         },
         {
          "font": {
           "color": "#FFFFFF"
          },
          "showarrow": false,
          "text": "0.84",
          "x": "YearsWithCurrManager",
          "xref": "x",
          "y": "YearsAtCompany",
          "yref": "y"
         },
         {
          "font": {
           "color": "#000000"
          },
          "showarrow": false,
          "text": "0.2",
          "x": "Age",
          "xref": "x",
          "y": "YearsInCurrentRole",
          "yref": "y"
         },
         {
          "font": {
           "color": "#000000"
          },
          "showarrow": false,
          "text": "0.01",
          "x": "DailyRate",
          "xref": "x",
          "y": "YearsInCurrentRole",
          "yref": "y"
         },
         {
          "font": {
           "color": "#000000"
          },
          "showarrow": false,
          "text": "0.01",
          "x": "DistanceFromHome",
          "xref": "x",
          "y": "YearsInCurrentRole",
          "yref": "y"
         },
         {
          "font": {
           "color": "#000000"
          },
          "showarrow": false,
          "text": "-0.03",
          "x": "HourlyRate",
          "xref": "x",
          "y": "YearsInCurrentRole",
          "yref": "y"
         },
         {
          "font": {
           "color": "#000000"
          },
          "showarrow": false,
          "text": "0.39",
          "x": "MonthlyIncome",
          "xref": "x",
          "y": "YearsInCurrentRole",
          "yref": "y"
         },
         {
          "font": {
           "color": "#000000"
          },
          "showarrow": false,
          "text": "-0.01",
          "x": "MonthlyRate",
          "xref": "x",
          "y": "YearsInCurrentRole",
          "yref": "y"
         },
         {
          "font": {
           "color": "#000000"
          },
          "showarrow": false,
          "text": "-0.13",
          "x": "NumCompaniesWorked",
          "xref": "x",
          "y": "YearsInCurrentRole",
          "yref": "y"
         },
         {
          "font": {
           "color": "#000000"
          },
          "showarrow": false,
          "text": "-0.03",
          "x": "PercentSalaryHike",
          "xref": "x",
          "y": "YearsInCurrentRole",
          "yref": "y"
         },
         {
          "font": {
           "color": "#FFFFFF"
          },
          "showarrow": false,
          "text": "0.49",
          "x": "TotalWorkingYears",
          "xref": "x",
          "y": "YearsInCurrentRole",
          "yref": "y"
         },
         {
          "font": {
           "color": "#000000"
          },
          "showarrow": false,
          "text": "0.0",
          "x": "TrainingTimesLastYear",
          "xref": "x",
          "y": "YearsInCurrentRole",
          "yref": "y"
         },
         {
          "font": {
           "color": "#FFFFFF"
          },
          "showarrow": false,
          "text": "0.85",
          "x": "YearsAtCompany",
          "xref": "x",
          "y": "YearsInCurrentRole",
          "yref": "y"
         },
         {
          "font": {
           "color": "#FFFFFF"
          },
          "showarrow": false,
          "text": "1.0",
          "x": "YearsInCurrentRole",
          "xref": "x",
          "y": "YearsInCurrentRole",
          "yref": "y"
         },
         {
          "font": {
           "color": "#FFFFFF"
          },
          "showarrow": false,
          "text": "0.51",
          "x": "YearsSinceLastPromotion",
          "xref": "x",
          "y": "YearsInCurrentRole",
          "yref": "y"
         },
         {
          "font": {
           "color": "#FFFFFF"
          },
          "showarrow": false,
          "text": "0.72",
          "x": "YearsWithCurrManager",
          "xref": "x",
          "y": "YearsInCurrentRole",
          "yref": "y"
         },
         {
          "font": {
           "color": "#000000"
          },
          "showarrow": false,
          "text": "0.17",
          "x": "Age",
          "xref": "x",
          "y": "YearsSinceLastPromotion",
          "yref": "y"
         },
         {
          "font": {
           "color": "#000000"
          },
          "showarrow": false,
          "text": "-0.04",
          "x": "DailyRate",
          "xref": "x",
          "y": "YearsSinceLastPromotion",
          "yref": "y"
         },
         {
          "font": {
           "color": "#000000"
          },
          "showarrow": false,
          "text": "-0.0",
          "x": "DistanceFromHome",
          "xref": "x",
          "y": "YearsSinceLastPromotion",
          "yref": "y"
         },
         {
          "font": {
           "color": "#000000"
          },
          "showarrow": false,
          "text": "-0.05",
          "x": "HourlyRate",
          "xref": "x",
          "y": "YearsSinceLastPromotion",
          "yref": "y"
         },
         {
          "font": {
           "color": "#000000"
          },
          "showarrow": false,
          "text": "0.26",
          "x": "MonthlyIncome",
          "xref": "x",
          "y": "YearsSinceLastPromotion",
          "yref": "y"
         },
         {
          "font": {
           "color": "#000000"
          },
          "showarrow": false,
          "text": "-0.02",
          "x": "MonthlyRate",
          "xref": "x",
          "y": "YearsSinceLastPromotion",
          "yref": "y"
         },
         {
          "font": {
           "color": "#000000"
          },
          "showarrow": false,
          "text": "-0.07",
          "x": "NumCompaniesWorked",
          "xref": "x",
          "y": "YearsSinceLastPromotion",
          "yref": "y"
         },
         {
          "font": {
           "color": "#000000"
          },
          "showarrow": false,
          "text": "-0.06",
          "x": "PercentSalaryHike",
          "xref": "x",
          "y": "YearsSinceLastPromotion",
          "yref": "y"
         },
         {
          "font": {
           "color": "#000000"
          },
          "showarrow": false,
          "text": "0.33",
          "x": "TotalWorkingYears",
          "xref": "x",
          "y": "YearsSinceLastPromotion",
          "yref": "y"
         },
         {
          "font": {
           "color": "#000000"
          },
          "showarrow": false,
          "text": "0.01",
          "x": "TrainingTimesLastYear",
          "xref": "x",
          "y": "YearsSinceLastPromotion",
          "yref": "y"
         },
         {
          "font": {
           "color": "#FFFFFF"
          },
          "showarrow": false,
          "text": "0.52",
          "x": "YearsAtCompany",
          "xref": "x",
          "y": "YearsSinceLastPromotion",
          "yref": "y"
         },
         {
          "font": {
           "color": "#FFFFFF"
          },
          "showarrow": false,
          "text": "0.51",
          "x": "YearsInCurrentRole",
          "xref": "x",
          "y": "YearsSinceLastPromotion",
          "yref": "y"
         },
         {
          "font": {
           "color": "#FFFFFF"
          },
          "showarrow": false,
          "text": "1.0",
          "x": "YearsSinceLastPromotion",
          "xref": "x",
          "y": "YearsSinceLastPromotion",
          "yref": "y"
         },
         {
          "font": {
           "color": "#FFFFFF"
          },
          "showarrow": false,
          "text": "0.47",
          "x": "YearsWithCurrManager",
          "xref": "x",
          "y": "YearsSinceLastPromotion",
          "yref": "y"
         },
         {
          "font": {
           "color": "#000000"
          },
          "showarrow": false,
          "text": "0.19",
          "x": "Age",
          "xref": "x",
          "y": "YearsWithCurrManager",
          "yref": "y"
         },
         {
          "font": {
           "color": "#000000"
          },
          "showarrow": false,
          "text": "-0.0",
          "x": "DailyRate",
          "xref": "x",
          "y": "YearsWithCurrManager",
          "yref": "y"
         },
         {
          "font": {
           "color": "#000000"
          },
          "showarrow": false,
          "text": "0.0",
          "x": "DistanceFromHome",
          "xref": "x",
          "y": "YearsWithCurrManager",
          "yref": "y"
         },
         {
          "font": {
           "color": "#000000"
          },
          "showarrow": false,
          "text": "-0.01",
          "x": "HourlyRate",
          "xref": "x",
          "y": "YearsWithCurrManager",
          "yref": "y"
         },
         {
          "font": {
           "color": "#000000"
          },
          "showarrow": false,
          "text": "0.37",
          "x": "MonthlyIncome",
          "xref": "x",
          "y": "YearsWithCurrManager",
          "yref": "y"
         },
         {
          "font": {
           "color": "#000000"
          },
          "showarrow": false,
          "text": "-0.04",
          "x": "MonthlyRate",
          "xref": "x",
          "y": "YearsWithCurrManager",
          "yref": "y"
         },
         {
          "font": {
           "color": "#000000"
          },
          "showarrow": false,
          "text": "-0.14",
          "x": "NumCompaniesWorked",
          "xref": "x",
          "y": "YearsWithCurrManager",
          "yref": "y"
         },
         {
          "font": {
           "color": "#000000"
          },
          "showarrow": false,
          "text": "-0.03",
          "x": "PercentSalaryHike",
          "xref": "x",
          "y": "YearsWithCurrManager",
          "yref": "y"
         },
         {
          "font": {
           "color": "#FFFFFF"
          },
          "showarrow": false,
          "text": "0.5",
          "x": "TotalWorkingYears",
          "xref": "x",
          "y": "YearsWithCurrManager",
          "yref": "y"
         },
         {
          "font": {
           "color": "#000000"
          },
          "showarrow": false,
          "text": "-0.01",
          "x": "TrainingTimesLastYear",
          "xref": "x",
          "y": "YearsWithCurrManager",
          "yref": "y"
         },
         {
          "font": {
           "color": "#FFFFFF"
          },
          "showarrow": false,
          "text": "0.84",
          "x": "YearsAtCompany",
          "xref": "x",
          "y": "YearsWithCurrManager",
          "yref": "y"
         },
         {
          "font": {
           "color": "#FFFFFF"
          },
          "showarrow": false,
          "text": "0.72",
          "x": "YearsInCurrentRole",
          "xref": "x",
          "y": "YearsWithCurrManager",
          "yref": "y"
         },
         {
          "font": {
           "color": "#FFFFFF"
          },
          "showarrow": false,
          "text": "0.47",
          "x": "YearsSinceLastPromotion",
          "xref": "x",
          "y": "YearsWithCurrManager",
          "yref": "y"
         },
         {
          "font": {
           "color": "#FFFFFF"
          },
          "showarrow": false,
          "text": "1.0",
          "x": "YearsWithCurrManager",
          "xref": "x",
          "y": "YearsWithCurrManager",
          "yref": "y"
         }
        ],
        "font": {
         "color": "#28221D"
        },
        "height": 600,
        "margin": {
         "t": 180
        },
        "template": {
         "data": {
          "bar": [
           {
            "error_x": {
             "color": "#2a3f5f"
            },
            "error_y": {
             "color": "#2a3f5f"
            },
            "marker": {
             "line": {
              "color": "#E5ECF6",
              "width": 0.5
             },
             "pattern": {
              "fillmode": "overlay",
              "size": 10,
              "solidity": 0.2
             }
            },
            "type": "bar"
           }
          ],
          "barpolar": [
           {
            "marker": {
             "line": {
              "color": "#E5ECF6",
              "width": 0.5
             },
             "pattern": {
              "fillmode": "overlay",
              "size": 10,
              "solidity": 0.2
             }
            },
            "type": "barpolar"
           }
          ],
          "carpet": [
           {
            "aaxis": {
             "endlinecolor": "#2a3f5f",
             "gridcolor": "white",
             "linecolor": "white",
             "minorgridcolor": "white",
             "startlinecolor": "#2a3f5f"
            },
            "baxis": {
             "endlinecolor": "#2a3f5f",
             "gridcolor": "white",
             "linecolor": "white",
             "minorgridcolor": "white",
             "startlinecolor": "#2a3f5f"
            },
            "type": "carpet"
           }
          ],
          "choropleth": [
           {
            "colorbar": {
             "outlinewidth": 0,
             "ticks": ""
            },
            "type": "choropleth"
           }
          ],
          "contour": [
           {
            "colorbar": {
             "outlinewidth": 0,
             "ticks": ""
            },
            "colorscale": [
             [
              0,
              "#0d0887"
             ],
             [
              0.1111111111111111,
              "#46039f"
             ],
             [
              0.2222222222222222,
              "#7201a8"
             ],
             [
              0.3333333333333333,
              "#9c179e"
             ],
             [
              0.4444444444444444,
              "#bd3786"
             ],
             [
              0.5555555555555556,
              "#d8576b"
             ],
             [
              0.6666666666666666,
              "#ed7953"
             ],
             [
              0.7777777777777778,
              "#fb9f3a"
             ],
             [
              0.8888888888888888,
              "#fdca26"
             ],
             [
              1,
              "#f0f921"
             ]
            ],
            "type": "contour"
           }
          ],
          "contourcarpet": [
           {
            "colorbar": {
             "outlinewidth": 0,
             "ticks": ""
            },
            "type": "contourcarpet"
           }
          ],
          "heatmap": [
           {
            "colorbar": {
             "outlinewidth": 0,
             "ticks": ""
            },
            "colorscale": [
             [
              0,
              "#0d0887"
             ],
             [
              0.1111111111111111,
              "#46039f"
             ],
             [
              0.2222222222222222,
              "#7201a8"
             ],
             [
              0.3333333333333333,
              "#9c179e"
             ],
             [
              0.4444444444444444,
              "#bd3786"
             ],
             [
              0.5555555555555556,
              "#d8576b"
             ],
             [
              0.6666666666666666,
              "#ed7953"
             ],
             [
              0.7777777777777778,
              "#fb9f3a"
             ],
             [
              0.8888888888888888,
              "#fdca26"
             ],
             [
              1,
              "#f0f921"
             ]
            ],
            "type": "heatmap"
           }
          ],
          "heatmapgl": [
           {
            "colorbar": {
             "outlinewidth": 0,
             "ticks": ""
            },
            "colorscale": [
             [
              0,
              "#0d0887"
             ],
             [
              0.1111111111111111,
              "#46039f"
             ],
             [
              0.2222222222222222,
              "#7201a8"
             ],
             [
              0.3333333333333333,
              "#9c179e"
             ],
             [
              0.4444444444444444,
              "#bd3786"
             ],
             [
              0.5555555555555556,
              "#d8576b"
             ],
             [
              0.6666666666666666,
              "#ed7953"
             ],
             [
              0.7777777777777778,
              "#fb9f3a"
             ],
             [
              0.8888888888888888,
              "#fdca26"
             ],
             [
              1,
              "#f0f921"
             ]
            ],
            "type": "heatmapgl"
           }
          ],
          "histogram": [
           {
            "marker": {
             "pattern": {
              "fillmode": "overlay",
              "size": 10,
              "solidity": 0.2
             }
            },
            "type": "histogram"
           }
          ],
          "histogram2d": [
           {
            "colorbar": {
             "outlinewidth": 0,
             "ticks": ""
            },
            "colorscale": [
             [
              0,
              "#0d0887"
             ],
             [
              0.1111111111111111,
              "#46039f"
             ],
             [
              0.2222222222222222,
              "#7201a8"
             ],
             [
              0.3333333333333333,
              "#9c179e"
             ],
             [
              0.4444444444444444,
              "#bd3786"
             ],
             [
              0.5555555555555556,
              "#d8576b"
             ],
             [
              0.6666666666666666,
              "#ed7953"
             ],
             [
              0.7777777777777778,
              "#fb9f3a"
             ],
             [
              0.8888888888888888,
              "#fdca26"
             ],
             [
              1,
              "#f0f921"
             ]
            ],
            "type": "histogram2d"
           }
          ],
          "histogram2dcontour": [
           {
            "colorbar": {
             "outlinewidth": 0,
             "ticks": ""
            },
            "colorscale": [
             [
              0,
              "#0d0887"
             ],
             [
              0.1111111111111111,
              "#46039f"
             ],
             [
              0.2222222222222222,
              "#7201a8"
             ],
             [
              0.3333333333333333,
              "#9c179e"
             ],
             [
              0.4444444444444444,
              "#bd3786"
             ],
             [
              0.5555555555555556,
              "#d8576b"
             ],
             [
              0.6666666666666666,
              "#ed7953"
             ],
             [
              0.7777777777777778,
              "#fb9f3a"
             ],
             [
              0.8888888888888888,
              "#fdca26"
             ],
             [
              1,
              "#f0f921"
             ]
            ],
            "type": "histogram2dcontour"
           }
          ],
          "mesh3d": [
           {
            "colorbar": {
             "outlinewidth": 0,
             "ticks": ""
            },
            "type": "mesh3d"
           }
          ],
          "parcoords": [
           {
            "line": {
             "colorbar": {
              "outlinewidth": 0,
              "ticks": ""
             }
            },
            "type": "parcoords"
           }
          ],
          "pie": [
           {
            "automargin": true,
            "type": "pie"
           }
          ],
          "scatter": [
           {
            "fillpattern": {
             "fillmode": "overlay",
             "size": 10,
             "solidity": 0.2
            },
            "type": "scatter"
           }
          ],
          "scatter3d": [
           {
            "line": {
             "colorbar": {
              "outlinewidth": 0,
              "ticks": ""
             }
            },
            "marker": {
             "colorbar": {
              "outlinewidth": 0,
              "ticks": ""
             }
            },
            "type": "scatter3d"
           }
          ],
          "scattercarpet": [
           {
            "marker": {
             "colorbar": {
              "outlinewidth": 0,
              "ticks": ""
             }
            },
            "type": "scattercarpet"
           }
          ],
          "scattergeo": [
           {
            "marker": {
             "colorbar": {
              "outlinewidth": 0,
              "ticks": ""
             }
            },
            "type": "scattergeo"
           }
          ],
          "scattergl": [
           {
            "marker": {
             "colorbar": {
              "outlinewidth": 0,
              "ticks": ""
             }
            },
            "type": "scattergl"
           }
          ],
          "scattermapbox": [
           {
            "marker": {
             "colorbar": {
              "outlinewidth": 0,
              "ticks": ""
             }
            },
            "type": "scattermapbox"
           }
          ],
          "scatterpolar": [
           {
            "marker": {
             "colorbar": {
              "outlinewidth": 0,
              "ticks": ""
             }
            },
            "type": "scatterpolar"
           }
          ],
          "scatterpolargl": [
           {
            "marker": {
             "colorbar": {
              "outlinewidth": 0,
              "ticks": ""
             }
            },
            "type": "scatterpolargl"
           }
          ],
          "scatterternary": [
           {
            "marker": {
             "colorbar": {
              "outlinewidth": 0,
              "ticks": ""
             }
            },
            "type": "scatterternary"
           }
          ],
          "surface": [
           {
            "colorbar": {
             "outlinewidth": 0,
             "ticks": ""
            },
            "colorscale": [
             [
              0,
              "#0d0887"
             ],
             [
              0.1111111111111111,
              "#46039f"
             ],
             [
              0.2222222222222222,
              "#7201a8"
             ],
             [
              0.3333333333333333,
              "#9c179e"
             ],
             [
              0.4444444444444444,
              "#bd3786"
             ],
             [
              0.5555555555555556,
              "#d8576b"
             ],
             [
              0.6666666666666666,
              "#ed7953"
             ],
             [
              0.7777777777777778,
              "#fb9f3a"
             ],
             [
              0.8888888888888888,
              "#fdca26"
             ],
             [
              1,
              "#f0f921"
             ]
            ],
            "type": "surface"
           }
          ],
          "table": [
           {
            "cells": {
             "fill": {
              "color": "#EBF0F8"
             },
             "line": {
              "color": "white"
             }
            },
            "header": {
             "fill": {
              "color": "#C8D4E3"
             },
             "line": {
              "color": "white"
             }
            },
            "type": "table"
           }
          ]
         },
         "layout": {
          "annotationdefaults": {
           "arrowcolor": "#2a3f5f",
           "arrowhead": 0,
           "arrowwidth": 1
          },
          "autotypenumbers": "strict",
          "coloraxis": {
           "colorbar": {
            "outlinewidth": 0,
            "ticks": ""
           }
          },
          "colorscale": {
           "diverging": [
            [
             0,
             "#8e0152"
            ],
            [
             0.1,
             "#c51b7d"
            ],
            [
             0.2,
             "#de77ae"
            ],
            [
             0.3,
             "#f1b6da"
            ],
            [
             0.4,
             "#fde0ef"
            ],
            [
             0.5,
             "#f7f7f7"
            ],
            [
             0.6,
             "#e6f5d0"
            ],
            [
             0.7,
             "#b8e186"
            ],
            [
             0.8,
             "#7fbc41"
            ],
            [
             0.9,
             "#4d9221"
            ],
            [
             1,
             "#276419"
            ]
           ],
           "sequential": [
            [
             0,
             "#0d0887"
            ],
            [
             0.1111111111111111,
             "#46039f"
            ],
            [
             0.2222222222222222,
             "#7201a8"
            ],
            [
             0.3333333333333333,
             "#9c179e"
            ],
            [
             0.4444444444444444,
             "#bd3786"
            ],
            [
             0.5555555555555556,
             "#d8576b"
            ],
            [
             0.6666666666666666,
             "#ed7953"
            ],
            [
             0.7777777777777778,
             "#fb9f3a"
            ],
            [
             0.8888888888888888,
             "#fdca26"
            ],
            [
             1,
             "#f0f921"
            ]
           ],
           "sequentialminus": [
            [
             0,
             "#0d0887"
            ],
            [
             0.1111111111111111,
             "#46039f"
            ],
            [
             0.2222222222222222,
             "#7201a8"
            ],
            [
             0.3333333333333333,
             "#9c179e"
            ],
            [
             0.4444444444444444,
             "#bd3786"
            ],
            [
             0.5555555555555556,
             "#d8576b"
            ],
            [
             0.6666666666666666,
             "#ed7953"
            ],
            [
             0.7777777777777778,
             "#fb9f3a"
            ],
            [
             0.8888888888888888,
             "#fdca26"
            ],
            [
             1,
             "#f0f921"
            ]
           ]
          },
          "colorway": [
           "#636efa",
           "#EF553B",
           "#00cc96",
           "#ab63fa",
           "#FFA15A",
           "#19d3f3",
           "#FF6692",
           "#B6E880",
           "#FF97FF",
           "#FECB52"
          ],
          "font": {
           "color": "#2a3f5f"
          },
          "geo": {
           "bgcolor": "white",
           "lakecolor": "white",
           "landcolor": "#E5ECF6",
           "showlakes": true,
           "showland": true,
           "subunitcolor": "white"
          },
          "hoverlabel": {
           "align": "left"
          },
          "hovermode": "closest",
          "mapbox": {
           "style": "light"
          },
          "paper_bgcolor": "white",
          "plot_bgcolor": "#E5ECF6",
          "polar": {
           "angularaxis": {
            "gridcolor": "white",
            "linecolor": "white",
            "ticks": ""
           },
           "bgcolor": "#E5ECF6",
           "radialaxis": {
            "gridcolor": "white",
            "linecolor": "white",
            "ticks": ""
           }
          },
          "scene": {
           "xaxis": {
            "backgroundcolor": "#E5ECF6",
            "gridcolor": "white",
            "gridwidth": 2,
            "linecolor": "white",
            "showbackground": true,
            "ticks": "",
            "zerolinecolor": "white"
           },
           "yaxis": {
            "backgroundcolor": "#E5ECF6",
            "gridcolor": "white",
            "gridwidth": 2,
            "linecolor": "white",
            "showbackground": true,
            "ticks": "",
            "zerolinecolor": "white"
           },
           "zaxis": {
            "backgroundcolor": "#E5ECF6",
            "gridcolor": "white",
            "gridwidth": 2,
            "linecolor": "white",
            "showbackground": true,
            "ticks": "",
            "zerolinecolor": "white"
           }
          },
          "shapedefaults": {
           "line": {
            "color": "#2a3f5f"
           }
          },
          "ternary": {
           "aaxis": {
            "gridcolor": "white",
            "linecolor": "white",
            "ticks": ""
           },
           "baxis": {
            "gridcolor": "white",
            "linecolor": "white",
            "ticks": ""
           },
           "bgcolor": "#E5ECF6",
           "caxis": {
            "gridcolor": "white",
            "linecolor": "white",
            "ticks": ""
           }
          },
          "title": {
           "x": 0.05
          },
          "xaxis": {
           "automargin": true,
           "gridcolor": "white",
           "linecolor": "white",
           "ticks": "",
           "title": {
            "standoff": 15
           },
           "zerolinecolor": "white",
           "zerolinewidth": 2
          },
          "yaxis": {
           "automargin": true,
           "gridcolor": "white",
           "linecolor": "white",
           "ticks": "",
           "title": {
            "standoff": 15
           },
           "zerolinecolor": "white",
           "zerolinewidth": 2
          }
         }
        },
        "title": {
         "text": "Coeficientes de correlación de Sperman"
        },
        "xaxis": {
         "dtick": 1,
         "gridcolor": "rgb(0, 0, 0)",
         "side": "top",
         "ticks": ""
        },
        "yaxis": {
         "autorange": "reversed",
         "dtick": 1,
         "ticks": "",
         "ticksuffix": "  "
        }
       }
      }
     },
     "metadata": {},
     "output_type": "display_data"
    }
   ],
   "source": [
    "cat_cols=[]\n",
    "for i in attrition.columns:\n",
    "    if attrition[i].nunique() <= 5 or attrition[i].dtype == object:\n",
    "        cat_cols.append(i)\n",
    "df=attrition.copy()\n",
    "df.drop(df[cat_cols], axis=1, inplace=True)\n",
    "df.drop('EmployeeNumber', axis=1, inplace=True)\n",
    "corr=df.corr('spearman').round(2)\n",
    "x=corr.index.tolist()\n",
    "y=corr.columns.tolist()\n",
    "z=corr.to_numpy()\n",
    "fig = ff.create_annotated_heatmap(z=z, x=x, y=y, annotation_text=z, name='',\n",
    "                                  hovertemplate=\"Correlation between %{x} and %{y}= %{z}\",\n",
    "                                  colorscale='GnBu')\n",
    "fig.update_yaxes(autorange=\"reversed\")\n",
    "fig.update_layout(title=\"Coeficientes de correlación de Sperman\", \n",
    "                  font_color='#28221D',margin=dict(t=180),height=600)\n",
    "fig.show()\n",
    "\n"
   ]
  },
  {
   "cell_type": "code",
   "execution_count": null,
   "metadata": {},
   "outputs": [],
   "source": [
    "import dash\n",
    "from dash import dcc\n",
    "from dash import html\n",
    "from dash import dash_table\n",
    "\n",
    "import plotly.express as px\n",
    "import matplotlib.pyplot as plt\n",
    "\n",
    "import plotly.tools\n",
    "import pandas as pd\n",
    "from sklearn import svm, tree, linear_model, neighbors\n",
    "from sklearn import naive_bayes, ensemble, discriminant_analysis, gaussian_process\n",
    "from sklearn.linear_model import LogisticRegression\n",
    "from sklearn.tree import DecisionTreeClassifier\n",
    "from sklearn.neighbors import KNeighborsClassifier\n",
    "from sklearn.discriminant_analysis import LinearDiscriminantAnalysis\n",
    "from sklearn.naive_bayes import GaussianNB\n",
    "from sklearn.svm import SVC\n",
    "from sklearn.neighbors import KNeighborsClassifier\n",
    "from sklearn.ensemble import RandomForestClassifier\n",
    "from sklearn.utils import shuffle\n",
    "from sklearn.model_selection import train_test_split\n",
    "from sklearn.pipeline import make_pipeline\n",
    "from sklearn.preprocessing import MinMaxScaler\n",
    "from sklearn.model_selection import GridSearchCV\n",
    "from sklearn import model_selection\n",
    "from sklearn.model_selection import KFold\n",
    "from sklearn.model_selection import RandomizedSearchCV\n",
    "from sklearn.model_selection import ShuffleSplit\n",
    "import numpy as np\n",
    "from sklearn.metrics import auc, roc_auc_score, roc_curve\n",
    "from dash.dependencies import Input, Output\n",
    "from sklearn.preprocessing import LabelEncoder, OneHotEncoder\n",
    "from sklearn import svm\n",
    "\n",
    "# Create a label encoder object\n",
    "le = LabelEncoder()\n",
    "\n",
    "le_count = 0\n",
    "for col in attrition.columns[1:]:\n",
    "    if attrition[col].dtype == 'object':\n",
    "        if len(list(attrition[col].unique())) <= 2:\n",
    "            le.fit(attrition[col])\n",
    "            attrition[col] = le.transform(attrition[col])\n",
    "            le_count += 1\n",
    "\n",
    "# convert rest of categorical variable into dummy\n",
    "attrition = pd.get_dummies(attrition, drop_first=True)\n",
    "\n",
    "# import MinMaxScaler\n",
    "from sklearn.preprocessing import MinMaxScaler\n",
    "scaler = MinMaxScaler(feature_range=(0, 5))\n",
    "attrition_col = list(attrition.columns)\n",
    "attrition_col.remove('Attrition')\n",
    "for col in attrition_col:\n",
    "    attrition[col] = attrition[col].astype(float)\n",
    "    attrition[[col]] = scaler.fit_transform(attrition[[col]])\n",
    "attrition['Attrition'] = pd.to_numeric(attrition['Attrition'], downcast='float')\n",
    "attrition.head()\n",
    "\n",
    "names1 = ['No', 'Si']\n",
    "fig = px.pie(values=attrition.Attrition.value_counts(), names=names1)\n",
    "fig.update_layout(title=\"Tasa de rotación\")\n",
    "fig.show()\n",
    "\n",
    "\n"
   ]
  },
  {
   "cell_type": "code",
   "execution_count": null,
   "metadata": {},
   "outputs": [],
   "source": [
    "target = attrition['Attrition'].copy()\n",
    "# let's remove the target feature and redundant features from the dataset\n",
    "attrition.drop(['Attrition', 'EmployeeCount', 'EmployeeNumber',\n",
    "            'StandardHours', 'Over18'], axis=1, inplace=True)\n",
    "\n",
    "# dividiendo la base de datos\n",
    "X_train, X_test, y_train, y_test = train_test_split(attrition,\n",
    "                                                    target,\n",
    "                                                    test_size=0.25,\n",
    "                                                    random_state=7,\n",
    "                                                    stratify=target) \n",
    "\n",
    "\n",
    "\n",
    "# selection of algorithms to consider and set performance measure\n",
    "models = []\n",
    "models.append(('Logistic Regression', LogisticRegression(solver='liblinear', random_state=7,\n",
    "                                                         class_weight='balanced')))\n",
    "models.append(('Random Forest', RandomForestClassifier(\n",
    "    n_estimators=100, random_state=7)))\n",
    "models.append(('SVM', SVC(gamma='auto', random_state=7)))\n",
    "models.append(('KNN', KNeighborsClassifier()))\n",
    "models.append(('Decision Tree Classifier',\n",
    "               DecisionTreeClassifier(random_state=7)))\n",
    "models.append(('Gaussian NB', GaussianNB()))\n",
    "\n",
    "\n",
    "acc_results = []\n",
    "auc_results = []\n",
    "names = []\n",
    "# set table to table to populate with performance results\n",
    "col = ['Algorithm', 'ROC AUC Mean', 'ROC AUC STD', \n",
    "       'Accuracy Mean', 'Accuracy STD']\n",
    "attrition_results = pd.DataFrame(columns=col)\n",
    "i = 0\n",
    "# evaluate each model using cross-validation\n",
    "for name, model in models:\n",
    "    kfold = model_selection.KFold(\n",
    "        n_splits=10)  # 10-fold cross-validation\n",
    "\n",
    "    cv_acc_results = model_selection.cross_val_score(  # accuracy scoring\n",
    "        model, X_train, y_train, cv=kfold, scoring='accuracy')\n",
    "\n",
    "    cv_auc_results = model_selection.cross_val_score(  # roc_auc scoring\n",
    "        model, X_train, y_train, cv=kfold, scoring='roc_auc')\n",
    "\n",
    "    acc_results.append(cv_acc_results)\n",
    "    auc_results.append(cv_auc_results)\n",
    "    names.append(name)\n",
    "    attrition_results.loc[i] = [name,\n",
    "                         round(cv_auc_results.mean()*100, 2),\n",
    "                         round(cv_auc_results.std()*100, 2),\n",
    "                         round(cv_acc_results.mean()*100, 2),\n",
    "                         round(cv_acc_results.std()*100, 2)\n",
    "                         ]\n",
    "    i += 1\n",
    "attrition_results.sort_values(by=['ROC AUC Mean'], ascending=False)\n",
    "\n",
    "\n",
    "def repetir(lista, veces):\n",
    "    salida = []\n",
    "    for elemento in lista:\n",
    "        salida.extend([elemento] * veces)\n",
    "    return salida\n",
    "\n",
    "import plotly.express as px\n",
    "df = pd.DataFrame(np.concatenate((auc_results)))\n",
    "df['Algoritmo']=repetir(names,10)\n",
    "figbox = px.box(df, x=df.Algoritmo, y=0,\n",
    "                 width=750, height=400)\n",
    "\n",
    "\n",
    "\n",
    "\n",
    "\n",
    "\n",
    "\n",
    "\n",
    "def generate_table(dataframe):\n",
    "    return html.Table([ \n",
    "        html.Thead(\n",
    "            html.Tr([html.Th(col) for col in dataframe.columns])\n",
    "        ),\n",
    "        html.Tbody([\n",
    "            html.Tr([\n",
    "                html.Td(dataframe.iloc[i][col]) for col in dataframe.columns\n",
    "            ]) for i in range(min(len(dataframe), 6))\n",
    "        ])\n",
    "    ])\n",
    "\n",
    "\n",
    "# LogisticRegression\n",
    "param_grid = {'C': np.arange(0.1, 2, 0.1)} # hyper-parameter list to fine-tune\n",
    "log_gs = GridSearchCV(LogisticRegression(solver='liblinear', # setting GridSearchCV\n",
    "                                         class_weight=\"balanced\", \n",
    "                                         random_state=7),\n",
    "                      #iid=True,\n",
    "                      return_train_score=True,\n",
    "                      param_grid=param_grid,\n",
    "                      scoring='roc_auc',\n",
    "                      cv=10)\n",
    "log_grid = log_gs.fit(X_train, y_train)\n",
    "log_opt = log_grid.best_estimator_\n",
    "\n",
    "fpr, tpr, thresholds = roc_curve(y_test, log_opt.predict_proba(X_test)[:,1])\n",
    "figlogreg = px.line(x=fpr, y=tpr, title='Logistic Regression')\n",
    "figlogreg.update_layout(xaxis_title=\"Tasa de falsos positivos\", yaxis_title=\"Tasa de verdaderos positivos\")\n",
    "\n",
    "# RandomForestClassifier\n",
    "rf_classifier = RandomForestClassifier(class_weight = \"balanced\",\n",
    "                                       random_state=7)\n",
    "param_grid = {'n_estimators': [100],\n",
    "              'min_samples_split':[8],\n",
    "              'min_samples_leaf': [3],\n",
    "              'max_depth': [15]}\n",
    "\n",
    "rf_obj = GridSearchCV(rf_classifier,\n",
    "                        #iid=True,\n",
    "                        return_train_score=True,\n",
    "                        param_grid=param_grid,\n",
    "                        scoring='roc_auc',\n",
    "                        cv=10)\n",
    "\n",
    "grid_fit = rf_obj.fit(X_train, y_train)\n",
    "rf_opt = grid_fit.best_estimator_\n",
    "\n",
    "rf_fpr, rf_tpr, rf_thresholds = roc_curve(y_test, rf_opt.predict_proba(X_test)[:,1])\n",
    "figrf = px.line(x=rf_fpr, y=rf_tpr, title='Random Forest')\n",
    "figrf.update_layout(xaxis_title=\"Tasa de falsos positivos\", yaxis_title=\"Tasa de verdaderos positivos\")\n",
    "\n",
    "# SMV\n",
    "\n",
    "smv = SVC(gamma='auto', random_state=7)\n",
    "param_grid = {'C': [0.1, 1, 10, 100, 1000], \n",
    "              'gamma': [1, 0.1, 0.01, 0.001, 0.0001],\n",
    "              'kernel': ['rbf']}\n",
    "smv_obj =  GridSearchCV(smv,\n",
    "                        #iid=True,\n",
    "                        param_grid=param_grid,\n",
    "                        scoring='roc_auc',cv=5)\n",
    "grid_fit = smv_obj.fit(X_train, y_train)\n",
    "smv_opt = grid_fit.best_estimator_\n",
    "\n",
    "smv_fpr, smv_tpr, smv_thresholds = roc_curve(y_test, smv_opt.decision_function(X_test))\n",
    "figsmv = px.line(x=smv_fpr, y=smv_tpr, title='Soporte Maquina Vectorial')\n",
    "figsmv.update_layout(xaxis_title=\"Tasa de falsos positivos\", yaxis_title=\"Tasa de verdaderos positivos\")\n",
    "\n",
    "\n",
    "\n",
    "# KNN\n",
    "\n",
    "knn = KNeighborsClassifier()\n",
    "param_grid = {'n_neighbors': [3, 4, 5]} # hyper-parameter list to fine-tune\n",
    "knn_obj =  GridSearchCV(knn,\n",
    "                        #iid=True,\n",
    "                        param_grid=param_grid,\n",
    "                        scoring='roc_auc')\n",
    "knn_fit = knn_obj.fit(X_train, y_train)\n",
    "knn_opt = knn_fit.best_estimator_\n",
    "\n",
    "knn_fpr, knn_tpr, knn_thresholds = roc_curve(y_test, knn_opt.predict_proba(X_test)[:,1])\n",
    "figknn = px.line(x=knn_fpr, y=knn_tpr, title='KNN')\n",
    "figknn.update_layout(xaxis_title=\"Tasa de falsos positivos\", yaxis_title=\"Tasa de verdaderos positivos\")\n",
    "\n",
    "\n",
    "# Decision Tree Classifier\n",
    "\n",
    "dtc = DecisionTreeClassifier(random_state=7)\n",
    "param_grid = {'criterion':['gini','entropy'],'max_depth':[4,5,6,7,8,9,10,11,12,15,20,30,40,50,70,90,120,150]}\n",
    "dtc_obj =  GridSearchCV(dtc,\n",
    "                        #iid=True,\n",
    "                        param_grid=param_grid,\n",
    "                        scoring='roc_auc',\n",
    "                        cv=5)\n",
    "dtc_fit = dtc_obj.fit(X_train, y_train)\n",
    "dtc_opt = dtc_fit.best_estimator_\n",
    "\n",
    "dtc_fpr, dtc_tpr, dtc_thresholds = roc_curve(y_test, dtc_opt.predict_proba(X_test)[:,1])\n",
    "figdtc = px.line(x=dtc_fpr, y=dtc_tpr, title='Decision Tree Classifier')\n",
    "figdtc.update_layout(xaxis_title=\"Tasa de falsos positivos\", yaxis_title=\"Tasa de verdaderos positivos\")\n",
    "\n",
    "\n",
    "# GaussianNB\n",
    "\n",
    "nb_classifier = GaussianNB()\n",
    "\n",
    "param_grid = {'var_smoothing': np.logspace(0,-9, num=100)}\n",
    "gs_NB = GridSearchCV(nb_classifier, \n",
    "                 param_grid=param_grid, \n",
    "                 cv=5,   # use any cross validation technique \n",
    "                 verbose=1, \n",
    "                 scoring='roc_auc') \n",
    "gs_NB_fit = gs_NB.fit(X_train, y_train)\n",
    "gs_NB_opt = gs_NB_fit.best_estimator_\n",
    "\n",
    "gs_fpr, gs_tpr, gs_thresholds = roc_curve(y_test, gs_NB_opt.predict_proba(X_test)[:,1])\n",
    "figgs = px.line(x=gs_fpr, y=gs_tpr, title='Gaussian NB')\n",
    "figgs.update_layout(xaxis_title=\"Tasa de falsos positivos\", yaxis_title=\"Tasa de verdaderos positivos\")"
   ]
  },
  {
   "cell_type": "code",
   "execution_count": null,
   "metadata": {},
   "outputs": [],
   "source": [
    "figlogreg.show()"
   ]
  }
 ],
 "metadata": {
  "kernelspec": {
   "display_name": "Python 3.10.8 64-bit",
   "language": "python",
   "name": "python3"
  },
  "language_info": {
   "codemirror_mode": {
    "name": "ipython",
    "version": 3
   },
   "file_extension": ".py",
   "mimetype": "text/x-python",
   "name": "python",
   "nbconvert_exporter": "python",
   "pygments_lexer": "ipython3",
   "version": "3.10.8"
  },
  "orig_nbformat": 4,
  "vscode": {
   "interpreter": {
    "hash": "aee8b7b246df8f9039afb4144a1f6fd8d2ca17a180786b69acc140d282b71a49"
   }
  }
 },
 "nbformat": 4,
 "nbformat_minor": 2
}
